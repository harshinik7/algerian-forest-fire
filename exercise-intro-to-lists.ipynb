{
 "cells": [
  {
   "cell_type": "markdown",
   "id": "1da80598",
   "metadata": {
    "papermill": {
     "duration": 0.009188,
     "end_time": "2023-08-28T04:39:02.922825",
     "exception": false,
     "start_time": "2023-08-28T04:39:02.913637",
     "status": "completed"
    },
    "tags": []
   },
   "source": [
    "**This notebook is an exercise in the [Intro to Programming](https://www.kaggle.com/learn/intro-to-programming) course.  You can reference the tutorial at [this link](https://www.kaggle.com/alexisbcook/intro-to-lists).**\n",
    "\n",
    "---\n"
   ]
  },
  {
   "cell_type": "markdown",
   "id": "b2ab81e5",
   "metadata": {
    "papermill": {
     "duration": 0.00807,
     "end_time": "2023-08-28T04:39:02.940632",
     "exception": false,
     "start_time": "2023-08-28T04:39:02.932562",
     "status": "completed"
    },
    "tags": []
   },
   "source": [
    "In the tutorial, you learned how to define and modify Python lists.  In this exercise, you will use your new knowledge to solve several problems.\n",
    "\n",
    "# Set up the notebook\n",
    "\n",
    "Run the next code cell without changes to set up the notebook."
   ]
  },
  {
   "cell_type": "code",
   "execution_count": 1,
   "id": "dfb2ed71",
   "metadata": {
    "execution": {
     "iopub.execute_input": "2023-08-28T04:39:02.960779Z",
     "iopub.status.busy": "2023-08-28T04:39:02.959597Z",
     "iopub.status.idle": "2023-08-28T04:39:03.038108Z",
     "shell.execute_reply": "2023-08-28T04:39:03.036845Z"
    },
    "papermill": {
     "duration": 0.093243,
     "end_time": "2023-08-28T04:39:03.042217",
     "exception": false,
     "start_time": "2023-08-28T04:39:02.948974",
     "status": "completed"
    },
    "tags": []
   },
   "outputs": [
    {
     "name": "stdout",
     "output_type": "stream",
     "text": [
      "Setup complete.\n"
     ]
    }
   ],
   "source": [
    "from learntools.core import binder\n",
    "binder.bind(globals())\n",
    "from learntools.intro_to_programming.ex5 import *\n",
    "print('Setup complete.')"
   ]
  },
  {
   "cell_type": "markdown",
   "id": "0d51090e",
   "metadata": {
    "papermill": {
     "duration": 0.009033,
     "end_time": "2023-08-28T04:39:03.061061",
     "exception": false,
     "start_time": "2023-08-28T04:39:03.052028",
     "status": "completed"
    },
    "tags": []
   },
   "source": [
    "# Question 1\n",
    "\n",
    "You own a restaurant with five food dishes, organized in the Python list `menu` below.  One day, you decide to:\n",
    "- remove bean soup (`'bean soup'`) from the menu, and\n",
    "- add roasted beet salad (`'roasted beet salad'`) to the menu.\n",
    "\n",
    "Implement this change to the list below.  While completing this task, \n",
    "- do not change the line that creates the `menu` list.  \n",
    "- your answer should use `.remove()` and `.append()`.  "
   ]
  },
  {
   "cell_type": "code",
   "execution_count": 2,
   "id": "1ca26c82",
   "metadata": {
    "execution": {
     "iopub.execute_input": "2023-08-28T04:39:03.082750Z",
     "iopub.status.busy": "2023-08-28T04:39:03.081688Z",
     "iopub.status.idle": "2023-08-28T04:39:03.095486Z",
     "shell.execute_reply": "2023-08-28T04:39:03.094228Z"
    },
    "papermill": {
     "duration": 0.027527,
     "end_time": "2023-08-28T04:39:03.098215",
     "exception": false,
     "start_time": "2023-08-28T04:39:03.070688",
     "status": "completed"
    },
    "tags": []
   },
   "outputs": [
    {
     "data": {
      "application/javascript": [
       "parent.postMessage({\"jupyterEvent\": \"custom.exercise_interaction\", \"data\": {\"outcomeType\": 1, \"valueTowardsCompletion\": 0.2, \"interactionType\": 1, \"questionType\": 2, \"questionId\": \"1_FoodMenu\", \"learnToolsVersion\": \"0.3.4\", \"failureMessage\": \"\", \"exceptionClass\": \"\", \"trace\": \"\"}}, \"*\")"
      ],
      "text/plain": [
       "<IPython.core.display.Javascript object>"
      ]
     },
     "metadata": {},
     "output_type": "display_data"
    },
    {
     "data": {
      "text/markdown": [
       "<span style=\"color:#33cc33\">Correct</span>"
      ],
      "text/plain": [
       "Correct"
      ]
     },
     "metadata": {},
     "output_type": "display_data"
    }
   ],
   "source": [
    "# Do not change: Initial menu for your restaurant\n",
    "menu = ['stewed meat with onions', 'bean soup', 'risotto with trout and shrimp',\n",
    "       'fish soup with cream and onion', 'gyro']\n",
    "\n",
    "# TODO: remove 'bean soup', and add 'roasted beet salad' to the end of the menu\n",
    "menu.remove(\"bean soup\")\n",
    "menu.append('roasted beet salad')\n",
    "\n",
    "# Do not change: Check your answer\n",
    "q1.check()"
   ]
  },
  {
   "cell_type": "code",
   "execution_count": 3,
   "id": "9307a702",
   "metadata": {
    "execution": {
     "iopub.execute_input": "2023-08-28T04:39:03.119045Z",
     "iopub.status.busy": "2023-08-28T04:39:03.118009Z",
     "iopub.status.idle": "2023-08-28T04:39:03.135343Z",
     "shell.execute_reply": "2023-08-28T04:39:03.134319Z"
    },
    "papermill": {
     "duration": 0.030863,
     "end_time": "2023-08-28T04:39:03.137866",
     "exception": false,
     "start_time": "2023-08-28T04:39:03.107003",
     "status": "completed"
    },
    "tags": []
   },
   "outputs": [
    {
     "data": {
      "application/javascript": [
       "parent.postMessage({\"jupyterEvent\": \"custom.exercise_interaction\", \"data\": {\"interactionType\": 2, \"questionType\": 2, \"questionId\": \"1_FoodMenu\", \"learnToolsVersion\": \"0.3.4\", \"valueTowardsCompletion\": 0.0, \"failureMessage\": \"\", \"exceptionClass\": \"\", \"trace\": \"\", \"outcomeType\": 4}}, \"*\")"
      ],
      "text/plain": [
       "<IPython.core.display.Javascript object>"
      ]
     },
     "metadata": {},
     "output_type": "display_data"
    },
    {
     "data": {
      "text/markdown": [
       "<span style=\"color:#3366cc\">Hint:</span> Here is the original line of code that created the menu: `menu = ['stewed meat with onions', 'bean soup', 'risotto with trout and shrimp', 'fish soup with cream and onion', 'gyro']`.  Use `.append()` to add an item, and use `.remove()` to remove an item."
      ],
      "text/plain": [
       "Hint: Here is the original line of code that created the menu: `menu = ['stewed meat with onions', 'bean soup', 'risotto with trout and shrimp', 'fish soup with cream and onion', 'gyro']`.  Use `.append()` to add an item, and use `.remove()` to remove an item."
      ]
     },
     "metadata": {},
     "output_type": "display_data"
    },
    {
     "data": {
      "application/javascript": [
       "parent.postMessage({\"jupyterEvent\": \"custom.exercise_interaction\", \"data\": {\"interactionType\": 3, \"questionType\": 2, \"questionId\": \"1_FoodMenu\", \"learnToolsVersion\": \"0.3.4\", \"valueTowardsCompletion\": 0.0, \"failureMessage\": \"\", \"exceptionClass\": \"\", \"trace\": \"\", \"outcomeType\": 4}}, \"*\")"
      ],
      "text/plain": [
       "<IPython.core.display.Javascript object>"
      ]
     },
     "metadata": {},
     "output_type": "display_data"
    },
    {
     "data": {
      "text/markdown": [
       "<span style=\"color:#33cc99\">Solution:</span> \n",
       "```python\n",
       "# Do not change: Initial menu for your restaurant\n",
       "menu = ['stewed meat with onions', 'bean soup', 'risotto with trout and shrimp',\n",
       "       'fish soup with cream and onion', 'gyro']\n",
       "\n",
       "# Remove 'bean soup', and add 'roasted beet salad' to the end of the menu\n",
       "menu.remove('bean soup')\n",
       "menu.append('roasted beet salad')\n",
       "\n",
       "```"
      ],
      "text/plain": [
       "Solution: \n",
       "```python\n",
       "# Do not change: Initial menu for your restaurant\n",
       "menu = ['stewed meat with onions', 'bean soup', 'risotto with trout and shrimp',\n",
       "       'fish soup with cream and onion', 'gyro']\n",
       "\n",
       "# Remove 'bean soup', and add 'roasted beet salad' to the end of the menu\n",
       "menu.remove('bean soup')\n",
       "menu.append('roasted beet salad')\n",
       "\n",
       "```"
      ]
     },
     "metadata": {},
     "output_type": "display_data"
    }
   ],
   "source": [
    "# Uncomment to see a hint\n",
    "q1.hint()\n",
    "\n",
    "# Uncomment to see the solution\n",
    "q1.solution()"
   ]
  },
  {
   "cell_type": "markdown",
   "id": "5620396a",
   "metadata": {
    "papermill": {
     "duration": 0.008915,
     "end_time": "2023-08-28T04:39:03.156033",
     "exception": false,
     "start_time": "2023-08-28T04:39:03.147118",
     "status": "completed"
    },
    "tags": []
   },
   "source": [
    "# Question 2\n",
    "\n",
    "The list `num_customers` contains the number of customers who came into your restaurant every day over the last month (which lasted thirty days).  Fill in values for each of the following:\n",
    "- `avg_first_seven` - average number of customers who visited in the first seven days\n",
    "- `avg_last_seven` - average number of customers who visited in the last seven days\n",
    "- `max_month` - number of customers on the day that got the most customers in the last month\n",
    "- `min_month` - number of customers on the day that got the least customers in the last month\n",
    "\n",
    "Answer this question by writing code.  For instance, if you have to find the minimum value in a list, use `min()` instead of scanning for the smallest value and directly filling in a number."
   ]
  },
  {
   "cell_type": "code",
   "execution_count": 4,
   "id": "2ee8841b",
   "metadata": {
    "execution": {
     "iopub.execute_input": "2023-08-28T04:39:03.178618Z",
     "iopub.status.busy": "2023-08-28T04:39:03.178209Z",
     "iopub.status.idle": "2023-08-28T04:39:03.190631Z",
     "shell.execute_reply": "2023-08-28T04:39:03.189506Z"
    },
    "papermill": {
     "duration": 0.027416,
     "end_time": "2023-08-28T04:39:03.193056",
     "exception": false,
     "start_time": "2023-08-28T04:39:03.165640",
     "status": "completed"
    },
    "tags": []
   },
   "outputs": [
    {
     "data": {
      "application/javascript": [
       "parent.postMessage({\"jupyterEvent\": \"custom.exercise_interaction\", \"data\": {\"outcomeType\": 1, \"valueTowardsCompletion\": 0.2, \"interactionType\": 1, \"questionType\": 1, \"questionId\": \"2_NumCustomers\", \"learnToolsVersion\": \"0.3.4\", \"failureMessage\": \"\", \"exceptionClass\": \"\", \"trace\": \"\"}}, \"*\")"
      ],
      "text/plain": [
       "<IPython.core.display.Javascript object>"
      ]
     },
     "metadata": {},
     "output_type": "display_data"
    },
    {
     "data": {
      "text/markdown": [
       "<span style=\"color:#33cc33\">Correct</span>"
      ],
      "text/plain": [
       "Correct"
      ]
     },
     "metadata": {},
     "output_type": "display_data"
    }
   ],
   "source": [
    "# Do not change: Number of customers each day for the last month\n",
    "num_customers = [137, 147, 135, 128, 170, 174, 165, 146, 126, 159,\n",
    "                 141, 148, 132, 147, 168, 153, 170, 161, 148, 152,\n",
    "                 141, 151, 131, 149, 164, 163, 143, 143, 166, 171]\n",
    "\n",
    "# TODO: Fill in values for the variables below\n",
    "avg_first_seven = sum(num_customers[:7])/7 \n",
    "avg_last_seven = sum(num_customers[-7:])/7\n",
    "max_month = max(num_customers)\n",
    "min_month = min(num_customers)\n",
    "\n",
    "# Do not change: Check your answer\n",
    "q2.check()"
   ]
  },
  {
   "cell_type": "code",
   "execution_count": 5,
   "id": "d1a0b531",
   "metadata": {
    "execution": {
     "iopub.execute_input": "2023-08-28T04:39:03.215294Z",
     "iopub.status.busy": "2023-08-28T04:39:03.214475Z",
     "iopub.status.idle": "2023-08-28T04:39:03.228378Z",
     "shell.execute_reply": "2023-08-28T04:39:03.227230Z"
    },
    "papermill": {
     "duration": 0.02786,
     "end_time": "2023-08-28T04:39:03.230782",
     "exception": false,
     "start_time": "2023-08-28T04:39:03.202922",
     "status": "completed"
    },
    "tags": []
   },
   "outputs": [
    {
     "data": {
      "application/javascript": [
       "parent.postMessage({\"jupyterEvent\": \"custom.exercise_interaction\", \"data\": {\"interactionType\": 2, \"questionType\": 1, \"questionId\": \"2_NumCustomers\", \"learnToolsVersion\": \"0.3.4\", \"valueTowardsCompletion\": 0.0, \"failureMessage\": \"\", \"exceptionClass\": \"\", \"trace\": \"\", \"outcomeType\": 4}}, \"*\")"
      ],
      "text/plain": [
       "<IPython.core.display.Javascript object>"
      ]
     },
     "metadata": {},
     "output_type": "display_data"
    },
    {
     "data": {
      "text/markdown": [
       "<span style=\"color:#3366cc\">Hint:</span> To take the average of a list of numbers, you can calculate the sum and then divide by the length. And, to pull the last `y` entries of a list `my_list`, use `my_list[-y:]`."
      ],
      "text/plain": [
       "Hint: To take the average of a list of numbers, you can calculate the sum and then divide by the length. And, to pull the last `y` entries of a list `my_list`, use `my_list[-y:]`."
      ]
     },
     "metadata": {},
     "output_type": "display_data"
    },
    {
     "data": {
      "application/javascript": [
       "parent.postMessage({\"jupyterEvent\": \"custom.exercise_interaction\", \"data\": {\"interactionType\": 3, \"questionType\": 1, \"questionId\": \"2_NumCustomers\", \"learnToolsVersion\": \"0.3.4\", \"valueTowardsCompletion\": 0.0, \"failureMessage\": \"\", \"exceptionClass\": \"\", \"trace\": \"\", \"outcomeType\": 4}}, \"*\")"
      ],
      "text/plain": [
       "<IPython.core.display.Javascript object>"
      ]
     },
     "metadata": {},
     "output_type": "display_data"
    },
    {
     "data": {
      "text/markdown": [
       "<span style=\"color:#33cc99\">Solution:</span> \n",
       "```python\n",
       "# Fill in values for the variables below\n",
       "avg_first_seven = sum(num_customers[:7])/7 \n",
       "avg_last_seven = sum(num_customers[-7:])/7\n",
       "max_month = max(num_customers)\n",
       "min_month = min(num_customers)\n",
       "\n",
       "```"
      ],
      "text/plain": [
       "Solution: \n",
       "```python\n",
       "# Fill in values for the variables below\n",
       "avg_first_seven = sum(num_customers[:7])/7 \n",
       "avg_last_seven = sum(num_customers[-7:])/7\n",
       "max_month = max(num_customers)\n",
       "min_month = min(num_customers)\n",
       "\n",
       "```"
      ]
     },
     "metadata": {},
     "output_type": "display_data"
    }
   ],
   "source": [
    "# Uncomment to see a hint\n",
    "q2.hint()\n",
    "\n",
    "# Uncomment to see the solution\n",
    "q2.solution()"
   ]
  },
  {
   "cell_type": "markdown",
   "id": "f774e986",
   "metadata": {
    "papermill": {
     "duration": 0.009835,
     "end_time": "2023-08-28T04:39:03.250813",
     "exception": false,
     "start_time": "2023-08-28T04:39:03.240978",
     "status": "completed"
    },
    "tags": []
   },
   "source": [
    "# Question 3\n",
    "\n",
    "In the tutorial, we gave an example of a Python string with information that was better as a list."
   ]
  },
  {
   "cell_type": "code",
   "execution_count": 6,
   "id": "ac8ef3c2",
   "metadata": {
    "execution": {
     "iopub.execute_input": "2023-08-28T04:39:03.273873Z",
     "iopub.status.busy": "2023-08-28T04:39:03.273043Z",
     "iopub.status.idle": "2023-08-28T04:39:03.278194Z",
     "shell.execute_reply": "2023-08-28T04:39:03.277331Z"
    },
    "papermill": {
     "duration": 0.019716,
     "end_time": "2023-08-28T04:39:03.280650",
     "exception": false,
     "start_time": "2023-08-28T04:39:03.260934",
     "status": "completed"
    },
    "tags": []
   },
   "outputs": [],
   "source": [
    "flowers = \"pink primrose,hard-leaved pocket orchid,canterbury bells,sweet pea,english marigold,tiger lily,moon orchid,bird of paradise,monkshood,globe thistle\""
   ]
  },
  {
   "cell_type": "markdown",
   "id": "1fa710fe",
   "metadata": {
    "papermill": {
     "duration": 0.010026,
     "end_time": "2023-08-28T04:39:03.300762",
     "exception": false,
     "start_time": "2023-08-28T04:39:03.290736",
     "status": "completed"
    },
    "tags": []
   },
   "source": [
    "You can actually use Python to quickly turn this string into a list with `.split()`.  In the parentheses, we need to provide the character should be used to mark the end of one list item and the beginning of another, and enclose it in quotation marks.  In this case, that character is a comma."
   ]
  },
  {
   "cell_type": "code",
   "execution_count": 7,
   "id": "585d0349",
   "metadata": {
    "execution": {
     "iopub.execute_input": "2023-08-28T04:39:03.323697Z",
     "iopub.status.busy": "2023-08-28T04:39:03.322879Z",
     "iopub.status.idle": "2023-08-28T04:39:03.329219Z",
     "shell.execute_reply": "2023-08-28T04:39:03.328011Z"
    },
    "papermill": {
     "duration": 0.021085,
     "end_time": "2023-08-28T04:39:03.332052",
     "exception": false,
     "start_time": "2023-08-28T04:39:03.310967",
     "status": "completed"
    },
    "tags": []
   },
   "outputs": [
    {
     "name": "stdout",
     "output_type": "stream",
     "text": [
      "['pink primrose', 'hard-leaved pocket orchid', 'canterbury bells', 'sweet pea', 'english marigold', 'tiger lily', 'moon orchid', 'bird of paradise', 'monkshood', 'globe thistle']\n"
     ]
    }
   ],
   "source": [
    " print(flowers.split(\",\"))"
   ]
  },
  {
   "cell_type": "markdown",
   "id": "64e477c8",
   "metadata": {
    "papermill": {
     "duration": 0.011836,
     "end_time": "2023-08-28T04:39:03.354036",
     "exception": false,
     "start_time": "2023-08-28T04:39:03.342200",
     "status": "completed"
    },
    "tags": []
   },
   "source": [
    "Now it is your turn to try this out!  Create two Python lists:\n",
    "- `letters` should be a Python list where each entry is an uppercase letter of the English alphabet.  For instance, the first two entries should be `\"A\"` and `\"B\"`, and the final two entries should be `\"Y\"` and `\"Z\"`.  Use the string `alphabet` to create this list.\n",
    "- `address` should be a Python list where each row in `address` is a different item in the list.  Currently, each row in `address` is separated by a comma. "
   ]
  },
  {
   "cell_type": "code",
   "execution_count": 8,
   "id": "3c0a9205",
   "metadata": {
    "execution": {
     "iopub.execute_input": "2023-08-28T04:39:03.377543Z",
     "iopub.status.busy": "2023-08-28T04:39:03.377107Z",
     "iopub.status.idle": "2023-08-28T04:39:03.387578Z",
     "shell.execute_reply": "2023-08-28T04:39:03.386229Z"
    },
    "papermill": {
     "duration": 0.025048,
     "end_time": "2023-08-28T04:39:03.390331",
     "exception": false,
     "start_time": "2023-08-28T04:39:03.365283",
     "status": "completed"
    },
    "tags": []
   },
   "outputs": [
    {
     "data": {
      "application/javascript": [
       "parent.postMessage({\"jupyterEvent\": \"custom.exercise_interaction\", \"data\": {\"outcomeType\": 4, \"interactionType\": 1, \"questionType\": 1, \"questionId\": \"3_SplitString\", \"learnToolsVersion\": \"0.3.4\", \"valueTowardsCompletion\": 0.0, \"failureMessage\": \"\", \"exceptionClass\": \"\", \"trace\": \"\"}}, \"*\")"
      ],
      "text/plain": [
       "<IPython.core.display.Javascript object>"
      ]
     },
     "metadata": {},
     "output_type": "display_data"
    },
    {
     "data": {
      "text/markdown": [
       "<span style=\"color:#ccaa33\">Check:</span> When you've updated the starter code, `check()` will tell you whether your code is correct. You need to update the code that creates variables `letters`, `formatted_address`"
      ],
      "text/plain": [
       "Check: When you've updated the starter code, `check()` will tell you whether your code is correct. You need to update the code that creates variables `letters`, `formatted_address`"
      ]
     },
     "metadata": {},
     "output_type": "display_data"
    }
   ],
   "source": [
    "# DO not change: Define two Python strings\n",
    "alphabet = \"A.B.C.D.E.F.G.H.I.J.K.L.M.N.O.P.Q.R.S.T.U.V.W.X.Y.Z\"\n",
    "address = \"Mr. H. Potter,The cupboard under the Stairs,4 Privet Drive,Little Whinging,Surrey\"\n",
    "\n",
    "# TODO: Convert strings into Python lists\n",
    "letters = ____\n",
    "formatted_address = ____\n",
    "\n",
    "# Do not change: Check your answer\n",
    "q3.check()"
   ]
  },
  {
   "cell_type": "code",
   "execution_count": 9,
   "id": "dc4bfce4",
   "metadata": {
    "execution": {
     "iopub.execute_input": "2023-08-28T04:39:03.413835Z",
     "iopub.status.busy": "2023-08-28T04:39:03.413442Z",
     "iopub.status.idle": "2023-08-28T04:39:03.418808Z",
     "shell.execute_reply": "2023-08-28T04:39:03.417435Z"
    },
    "papermill": {
     "duration": 0.020502,
     "end_time": "2023-08-28T04:39:03.421639",
     "exception": false,
     "start_time": "2023-08-28T04:39:03.401137",
     "status": "completed"
    },
    "tags": []
   },
   "outputs": [],
   "source": [
    "# Uncomment to see a hint\n",
    "#q3.hint()\n",
    "\n",
    "# Uncomment to see the solution\n",
    "#q3.solution()"
   ]
  },
  {
   "cell_type": "markdown",
   "id": "1911a7fc",
   "metadata": {
    "papermill": {
     "duration": 0.010571,
     "end_time": "2023-08-28T04:39:03.442897",
     "exception": false,
     "start_time": "2023-08-28T04:39:03.432326",
     "status": "completed"
    },
    "tags": []
   },
   "source": [
    "# Question 4\n",
    "\n",
    "In the Python course, you'll learn all about **list comprehensions**, which allow you to create a list based on the values in another list.  In this question, you'll get a brief preview of how they work.\n",
    "\n",
    "Say we're working with the list below."
   ]
  },
  {
   "cell_type": "code",
   "execution_count": 10,
   "id": "9598f392",
   "metadata": {
    "execution": {
     "iopub.execute_input": "2023-08-28T04:39:03.466946Z",
     "iopub.status.busy": "2023-08-28T04:39:03.466512Z",
     "iopub.status.idle": "2023-08-28T04:39:03.472129Z",
     "shell.execute_reply": "2023-08-28T04:39:03.470749Z"
    },
    "papermill": {
     "duration": 0.020927,
     "end_time": "2023-08-28T04:39:03.474722",
     "exception": false,
     "start_time": "2023-08-28T04:39:03.453795",
     "status": "completed"
    },
    "tags": []
   },
   "outputs": [],
   "source": [
    "test_ratings = [1, 2, 3, 4, 5]"
   ]
  },
  {
   "cell_type": "markdown",
   "id": "5a5df3e7",
   "metadata": {
    "papermill": {
     "duration": 0.010529,
     "end_time": "2023-08-28T04:39:03.496063",
     "exception": false,
     "start_time": "2023-08-28T04:39:03.485534",
     "status": "completed"
    },
    "tags": []
   },
   "source": [
    "Then we can use this list (`test_ratings`) to create a new list (`test_liked`) where each item has been turned into a boolean, depending on whether or not the item is greater than or equal to four."
   ]
  },
  {
   "cell_type": "code",
   "execution_count": 11,
   "id": "03440dd3",
   "metadata": {
    "execution": {
     "iopub.execute_input": "2023-08-28T04:39:03.519773Z",
     "iopub.status.busy": "2023-08-28T04:39:03.519386Z",
     "iopub.status.idle": "2023-08-28T04:39:03.526265Z",
     "shell.execute_reply": "2023-08-28T04:39:03.524450Z"
    },
    "papermill": {
     "duration": 0.021646,
     "end_time": "2023-08-28T04:39:03.528634",
     "exception": false,
     "start_time": "2023-08-28T04:39:03.506988",
     "status": "completed"
    },
    "tags": []
   },
   "outputs": [
    {
     "name": "stdout",
     "output_type": "stream",
     "text": [
      "[False, False, False, True, True]\n"
     ]
    }
   ],
   "source": [
    "test_liked = [i>=4 for i in test_ratings]\n",
    "print(test_liked)"
   ]
  },
  {
   "cell_type": "markdown",
   "id": "aeedbc6f",
   "metadata": {
    "papermill": {
     "duration": 0.010684,
     "end_time": "2023-08-28T04:39:03.552056",
     "exception": false,
     "start_time": "2023-08-28T04:39:03.541372",
     "status": "completed"
    },
    "tags": []
   },
   "source": [
    "In this question, you'll use this list comprehension to define a function `percentage_liked()` that takes one argument as input:\n",
    "- `ratings`: list of ratings that people gave to a movie, where each rating is a number between 1-5, inclusive\n",
    "\n",
    "We say someone liked the movie, if they gave a rating of either 4 or 5.  Your function should return the percentage of people who liked the movie.\n",
    "\n",
    "For instance, if we supply a value of `[1, 2, 3, 4, 5, 4, 5, 1]`, then 50% (4/8) of the people liked the movie, and the function should return `0.5`.\n",
    "\n",
    "Part of the function has already been completed for you.  You need only use `list_liked` to calculate `percentage_liked`."
   ]
  },
  {
   "cell_type": "code",
   "execution_count": 12,
   "id": "9384a075",
   "metadata": {
    "execution": {
     "iopub.execute_input": "2023-08-28T04:39:03.576577Z",
     "iopub.status.busy": "2023-08-28T04:39:03.576057Z",
     "iopub.status.idle": "2023-08-28T04:39:03.587868Z",
     "shell.execute_reply": "2023-08-28T04:39:03.586451Z"
    },
    "papermill": {
     "duration": 0.027244,
     "end_time": "2023-08-28T04:39:03.590381",
     "exception": false,
     "start_time": "2023-08-28T04:39:03.563137",
     "status": "completed"
    },
    "tags": []
   },
   "outputs": [
    {
     "data": {
      "application/javascript": [
       "parent.postMessage({\"jupyterEvent\": \"custom.exercise_interaction\", \"data\": {\"outcomeType\": 2, \"failureMessage\": \"Expected return value of `0.5` given `ratings=[1, 2, 3, 4, 5, 4, 5, 1]`, but got `<learntools.core.constants.PlaceholderValue object at 0x78ec97a83760>` instead.\", \"interactionType\": 1, \"questionType\": 2, \"questionId\": \"4_PercentageLiked\", \"learnToolsVersion\": \"0.3.4\", \"valueTowardsCompletion\": 0.0, \"exceptionClass\": \"\", \"trace\": \"\"}}, \"*\")"
      ],
      "text/plain": [
       "<IPython.core.display.Javascript object>"
      ]
     },
     "metadata": {},
     "output_type": "display_data"
    },
    {
     "data": {
      "text/markdown": [
       "<span style=\"color:#cc3333\">Incorrect:</span> Expected return value of `0.5` given `ratings=[1, 2, 3, 4, 5, 4, 5, 1]`, but got `<learntools.core.constants.PlaceholderValue object at 0x78ec97a83760>` instead."
      ],
      "text/plain": [
       "Incorrect: Expected return value of `0.5` given `ratings=[1, 2, 3, 4, 5, 4, 5, 1]`, but got `<learntools.core.constants.PlaceholderValue object at 0x78ec97a83760>` instead."
      ]
     },
     "metadata": {},
     "output_type": "display_data"
    }
   ],
   "source": [
    "\n",
    "def percentage_liked(ratings):\n",
    "    list_liked = [i>=4 for i in ratings]\n",
    "    # TODO: Complete the function\n",
    "    percentage_liked = ____\n",
    "    return percentage_liked\n",
    "\n",
    "# Do not change: should return 0.5\n",
    "percentage_liked([1, 2, 3, 4, 5, 4, 5, 1])\n",
    "\n",
    "# Do not change: Check your answer\n",
    "q4.check()"
   ]
  },
  {
   "cell_type": "code",
   "execution_count": 13,
   "id": "5018d117",
   "metadata": {
    "execution": {
     "iopub.execute_input": "2023-08-28T04:39:03.615462Z",
     "iopub.status.busy": "2023-08-28T04:39:03.614926Z",
     "iopub.status.idle": "2023-08-28T04:39:03.620866Z",
     "shell.execute_reply": "2023-08-28T04:39:03.619559Z"
    },
    "papermill": {
     "duration": 0.02161,
     "end_time": "2023-08-28T04:39:03.623479",
     "exception": false,
     "start_time": "2023-08-28T04:39:03.601869",
     "status": "completed"
    },
    "tags": []
   },
   "outputs": [],
   "source": [
    "# Uncomment to see a hint\n",
    "#q4.hint()\n",
    "\n",
    "# Uncomment to see the solution\n",
    "#q4.solution()"
   ]
  },
  {
   "cell_type": "markdown",
   "id": "faeb4768",
   "metadata": {
    "papermill": {
     "duration": 0.01106,
     "end_time": "2023-08-28T04:39:03.646370",
     "exception": false,
     "start_time": "2023-08-28T04:39:03.635310",
     "status": "completed"
    },
    "tags": []
   },
   "source": [
    "# 🌶️ Question 5\n",
    " \n",
    "Say you're doing analytics for a website.  You need to write a function that returns the percentage growth in the total number of users relative to a specified number of years ago.\n",
    "\n",
    "Your function `percentage_growth()` should take two arguments as input:\n",
    "- `num_users` = Python list with the total number of users each year.  So `num_users[0]` is the total number of users in the first year, `num_users[1]` is the total number of users in the second year, and so on.  The final entry in the list gives the total number of users in the most recently completed year.\n",
    "- `yrs_ago` = number of years to go back in time when calculating the growth percentage\n",
    "\n",
    "For instance, say `num_users = [920344, 1043553, 1204334, 1458996, 1503323, 1593432, 1623463, 1843064, 1930992, 2001078]`.\n",
    "- if `yrs_ago = 1`, we want the function to return a value of about `0.036`. This corresponds to a percentage growth of approximately 3.6%, calculated as (2001078 - 1930992)/1930992.\n",
    "- if `years_ago = 7`, we would want to return approximately `0.66`.  This corresponds to a percentage growth of approximately 66%, calculated as (2001078 - 1204334)/1204334.\n",
    "\n",
    "Your coworker sent you a draft of a function, but it doesn't seem to be doing the correct calculation.  Can you figure out what has gone wrong and make the needed changes?"
   ]
  },
  {
   "cell_type": "code",
   "execution_count": 14,
   "id": "5bb5caae",
   "metadata": {
    "execution": {
     "iopub.execute_input": "2023-08-28T04:39:03.671421Z",
     "iopub.status.busy": "2023-08-28T04:39:03.670830Z",
     "iopub.status.idle": "2023-08-28T04:39:03.685826Z",
     "shell.execute_reply": "2023-08-28T04:39:03.684650Z"
    },
    "papermill": {
     "duration": 0.030688,
     "end_time": "2023-08-28T04:39:03.688450",
     "exception": false,
     "start_time": "2023-08-28T04:39:03.657762",
     "status": "completed"
    },
    "tags": []
   },
   "outputs": [
    {
     "name": "stdout",
     "output_type": "stream",
     "text": [
      "0.0\n",
      "0.2807272117129434\n"
     ]
    },
    {
     "data": {
      "application/javascript": [
       "parent.postMessage({\"jupyterEvent\": \"custom.exercise_interaction\", \"data\": {\"outcomeType\": 2, \"failureMessage\": \"Expected return value of `0.03629533421163837` given `num_users=[920344, 1043553, 1204334, 1458996, 1503323, 1593432, 1623463, 1843064, 1930992, 2001078]`, `yrs_ago=1`, but got `0.0` instead.\", \"interactionType\": 1, \"questionType\": 2, \"questionId\": \"5_WebsiteAnalytics\", \"learnToolsVersion\": \"0.3.4\", \"valueTowardsCompletion\": 0.0, \"exceptionClass\": \"\", \"trace\": \"\"}}, \"*\")"
      ],
      "text/plain": [
       "<IPython.core.display.Javascript object>"
      ]
     },
     "metadata": {},
     "output_type": "display_data"
    },
    {
     "data": {
      "text/markdown": [
       "<span style=\"color:#cc3333\">Incorrect:</span> Expected return value of `0.03629533421163837` given `num_users=[920344, 1043553, 1204334, 1458996, 1503323, 1593432, 1623463, 1843064, 1930992, 2001078]`, `yrs_ago=1`, but got `0.0` instead."
      ],
      "text/plain": [
       "Incorrect: Expected return value of `0.03629533421163837` given `num_users=[920344, 1043553, 1204334, 1458996, 1503323, 1593432, 1623463, 1843064, 1930992, 2001078]`, `yrs_ago=1`, but got `0.0` instead."
      ]
     },
     "metadata": {},
     "output_type": "display_data"
    }
   ],
   "source": [
    "# TODO: Edit the function\n",
    "def percentage_growth(num_users, yrs_ago):\n",
    "    growth = (num_users[len(num_users)-1] - num_users[len(num_users)-yrs_ago])/num_users[len(num_users)-2]\n",
    "    return growth\n",
    "\n",
    "# Do not change: Variable for calculating some test examples\n",
    "num_users_test = [920344, 1043553, 1204334, 1458996, 1503323, 1593432, 1623463, 1843064, 1930992, 2001078]\n",
    "\n",
    "# Do not change: Should return .036\n",
    "print(percentage_growth(num_users_test, 1))\n",
    "\n",
    "# Do not change: Should return 0.66\n",
    "print(percentage_growth(num_users_test, 7))\n",
    "\n",
    "# Do not change: Check your answer\n",
    "q5.check()"
   ]
  },
  {
   "cell_type": "code",
   "execution_count": 15,
   "id": "e2757626",
   "metadata": {
    "execution": {
     "iopub.execute_input": "2023-08-28T04:39:03.715159Z",
     "iopub.status.busy": "2023-08-28T04:39:03.714624Z",
     "iopub.status.idle": "2023-08-28T04:39:03.720361Z",
     "shell.execute_reply": "2023-08-28T04:39:03.718820Z"
    },
    "papermill": {
     "duration": 0.022332,
     "end_time": "2023-08-28T04:39:03.722780",
     "exception": false,
     "start_time": "2023-08-28T04:39:03.700448",
     "status": "completed"
    },
    "tags": []
   },
   "outputs": [],
   "source": [
    "# Uncomment to see a hint\n",
    "#q5.hint()\n",
    "\n",
    "# Uncomment to see the solution\n",
    "#q5.solution()"
   ]
  },
  {
   "cell_type": "markdown",
   "id": "8940e5f7",
   "metadata": {
    "papermill": {
     "duration": 0.011525,
     "end_time": "2023-08-28T04:39:03.746298",
     "exception": false,
     "start_time": "2023-08-28T04:39:03.734773",
     "status": "completed"
    },
    "tags": []
   },
   "source": [
    "# Congratulations!\n",
    "\n",
    "Congratulations for finishing the Intro to Programming course!  You should be proud of your very first steps with learning programming.  As next steps, we recommend taking:\n",
    "- the **[Python course](http://www.kaggle.com/learn/python)**, and \n",
    "- the **[Intro to Machine Learning course](https://www.kaggle.com/learn/intro-to-machine-learning)**."
   ]
  },
  {
   "cell_type": "markdown",
   "id": "197ebe98",
   "metadata": {
    "papermill": {
     "duration": 0.011527,
     "end_time": "2023-08-28T04:39:03.769914",
     "exception": false,
     "start_time": "2023-08-28T04:39:03.758387",
     "status": "completed"
    },
    "tags": []
   },
   "source": [
    "---\n",
    "\n",
    "\n",
    "\n",
    "\n",
    "*Have questions or comments? Visit the [course discussion forum](https://www.kaggle.com/learn/intro-to-programming/discussion) to chat with other learners.*"
   ]
  }
 ],
 "metadata": {
  "kernelspec": {
   "display_name": "Python 3",
   "language": "python",
   "name": "python3"
  },
  "language_info": {
   "codemirror_mode": {
    "name": "ipython",
    "version": 3
   },
   "file_extension": ".py",
   "mimetype": "text/x-python",
   "name": "python",
   "nbconvert_exporter": "python",
   "pygments_lexer": "ipython3",
   "version": "3.10.12"
  },
  "papermill": {
   "default_parameters": {},
   "duration": 14.856184,
   "end_time": "2023-08-28T04:39:04.806826",
   "environment_variables": {},
   "exception": null,
   "input_path": "__notebook__.ipynb",
   "output_path": "__notebook__.ipynb",
   "parameters": {},
   "start_time": "2023-08-28T04:38:49.950642",
   "version": "2.4.0"
  }
 },
 "nbformat": 4,
 "nbformat_minor": 5
}
