{
 "cells": [
  {
   "cell_type": "markdown",
   "id": "43febf76",
   "metadata": {
    "papermill": {
     "duration": 0.008361,
     "end_time": "2023-08-30T07:46:30.667016",
     "exception": false,
     "start_time": "2023-08-30T07:46:30.658655",
     "status": "completed"
    },
    "tags": []
   },
   "source": [
    "**This notebook is an exercise in the [Intro to Programming](https://www.kaggle.com/learn/intro-to-programming) course.  You can reference the tutorial at [this link](https://www.kaggle.com/alexisbcook/intro-to-lists).**\n",
    "\n",
    "---\n"
   ]
  },
  {
   "cell_type": "markdown",
   "id": "9d44094e",
   "metadata": {
    "papermill": {
     "duration": 0.007352,
     "end_time": "2023-08-30T07:46:30.682173",
     "exception": false,
     "start_time": "2023-08-30T07:46:30.674821",
     "status": "completed"
    },
    "tags": []
   },
   "source": [
    "In the tutorial, you learned how to define and modify Python lists.  In this exercise, you will use your new knowledge to solve several problems.\n",
    "\n",
    "# Set up the notebook\n",
    "\n",
    "Run the next code cell without changes to set up the notebook."
   ]
  },
  {
   "cell_type": "code",
   "execution_count": 1,
   "id": "02e541cf",
   "metadata": {
    "execution": {
     "iopub.execute_input": "2023-08-30T07:46:30.699445Z",
     "iopub.status.busy": "2023-08-30T07:46:30.698694Z",
     "iopub.status.idle": "2023-08-30T07:46:30.751687Z",
     "shell.execute_reply": "2023-08-30T07:46:30.750403Z"
    },
    "papermill": {
     "duration": 0.064745,
     "end_time": "2023-08-30T07:46:30.754425",
     "exception": false,
     "start_time": "2023-08-30T07:46:30.689680",
     "status": "completed"
    },
    "tags": []
   },
   "outputs": [
    {
     "name": "stdout",
     "output_type": "stream",
     "text": [
      "Setup complete.\n"
     ]
    }
   ],
   "source": [
    "from learntools.core import binder\n",
    "binder.bind(globals())\n",
    "from learntools.intro_to_programming.ex5 import *\n",
    "print('Setup complete.')"
   ]
  },
  {
   "cell_type": "markdown",
   "id": "c32085a4",
   "metadata": {
    "papermill": {
     "duration": 0.007705,
     "end_time": "2023-08-30T07:46:30.771079",
     "exception": false,
     "start_time": "2023-08-30T07:46:30.763374",
     "status": "completed"
    },
    "tags": []
   },
   "source": [
    "# Question 1\n",
    "\n",
    "You own a restaurant with five food dishes, organized in the Python list `menu` below.  One day, you decide to:\n",
    "- remove bean soup (`'bean soup'`) from the menu, and\n",
    "- add roasted beet salad (`'roasted beet salad'`) to the menu.\n",
    "\n",
    "Implement this change to the list below.  While completing this task, \n",
    "- do not change the line that creates the `menu` list.  \n",
    "- your answer should use `.remove()` and `.append()`.  "
   ]
  },
  {
   "cell_type": "code",
   "execution_count": 2,
   "id": "f02ceea5",
   "metadata": {
    "execution": {
     "iopub.execute_input": "2023-08-30T07:46:30.789120Z",
     "iopub.status.busy": "2023-08-30T07:46:30.788450Z",
     "iopub.status.idle": "2023-08-30T07:46:30.799225Z",
     "shell.execute_reply": "2023-08-30T07:46:30.797771Z"
    },
    "papermill": {
     "duration": 0.022317,
     "end_time": "2023-08-30T07:46:30.801481",
     "exception": false,
     "start_time": "2023-08-30T07:46:30.779164",
     "status": "completed"
    },
    "tags": []
   },
   "outputs": [
    {
     "data": {
      "application/javascript": [
       "parent.postMessage({\"jupyterEvent\": \"custom.exercise_interaction\", \"data\": {\"outcomeType\": 1, \"valueTowardsCompletion\": 0.2, \"interactionType\": 1, \"questionType\": 2, \"questionId\": \"1_FoodMenu\", \"learnToolsVersion\": \"0.3.4\", \"failureMessage\": \"\", \"exceptionClass\": \"\", \"trace\": \"\"}}, \"*\")"
      ],
      "text/plain": [
       "<IPython.core.display.Javascript object>"
      ]
     },
     "metadata": {},
     "output_type": "display_data"
    },
    {
     "data": {
      "text/markdown": [
       "<span style=\"color:#33cc33\">Correct</span>"
      ],
      "text/plain": [
       "Correct"
      ]
     },
     "metadata": {},
     "output_type": "display_data"
    }
   ],
   "source": [
    "# Do not change: Initial menu for your restaurant\n",
    "menu = ['stewed meat with onions', 'bean soup', 'risotto with trout and shrimp',\n",
    "       'fish soup with cream and onion', 'gyro']\n",
    "\n",
    "# TODO: remove 'bean soup', and add 'roasted beet salad' to the end of the menu\n",
    "menu.remove(\"bean soup\")\n",
    "menu.append('roasted beet salad')\n",
    "\n",
    "# Do not change: Check your answer\n",
    "q1.check()"
   ]
  },
  {
   "cell_type": "code",
   "execution_count": 3,
   "id": "06b0e064",
   "metadata": {
    "execution": {
     "iopub.execute_input": "2023-08-30T07:46:30.820866Z",
     "iopub.status.busy": "2023-08-30T07:46:30.820224Z",
     "iopub.status.idle": "2023-08-30T07:46:30.832707Z",
     "shell.execute_reply": "2023-08-30T07:46:30.831592Z"
    },
    "papermill": {
     "duration": 0.024209,
     "end_time": "2023-08-30T07:46:30.835039",
     "exception": false,
     "start_time": "2023-08-30T07:46:30.810830",
     "status": "completed"
    },
    "tags": []
   },
   "outputs": [
    {
     "data": {
      "application/javascript": [
       "parent.postMessage({\"jupyterEvent\": \"custom.exercise_interaction\", \"data\": {\"interactionType\": 2, \"questionType\": 2, \"questionId\": \"1_FoodMenu\", \"learnToolsVersion\": \"0.3.4\", \"valueTowardsCompletion\": 0.0, \"failureMessage\": \"\", \"exceptionClass\": \"\", \"trace\": \"\", \"outcomeType\": 4}}, \"*\")"
      ],
      "text/plain": [
       "<IPython.core.display.Javascript object>"
      ]
     },
     "metadata": {},
     "output_type": "display_data"
    },
    {
     "data": {
      "text/markdown": [
       "<span style=\"color:#3366cc\">Hint:</span> Here is the original line of code that created the menu: `menu = ['stewed meat with onions', 'bean soup', 'risotto with trout and shrimp', 'fish soup with cream and onion', 'gyro']`.  Use `.append()` to add an item, and use `.remove()` to remove an item."
      ],
      "text/plain": [
       "Hint: Here is the original line of code that created the menu: `menu = ['stewed meat with onions', 'bean soup', 'risotto with trout and shrimp', 'fish soup with cream and onion', 'gyro']`.  Use `.append()` to add an item, and use `.remove()` to remove an item."
      ]
     },
     "metadata": {},
     "output_type": "display_data"
    },
    {
     "data": {
      "application/javascript": [
       "parent.postMessage({\"jupyterEvent\": \"custom.exercise_interaction\", \"data\": {\"interactionType\": 3, \"questionType\": 2, \"questionId\": \"1_FoodMenu\", \"learnToolsVersion\": \"0.3.4\", \"valueTowardsCompletion\": 0.0, \"failureMessage\": \"\", \"exceptionClass\": \"\", \"trace\": \"\", \"outcomeType\": 4}}, \"*\")"
      ],
      "text/plain": [
       "<IPython.core.display.Javascript object>"
      ]
     },
     "metadata": {},
     "output_type": "display_data"
    },
    {
     "data": {
      "text/markdown": [
       "<span style=\"color:#33cc99\">Solution:</span> \n",
       "```python\n",
       "# Do not change: Initial menu for your restaurant\n",
       "menu = ['stewed meat with onions', 'bean soup', 'risotto with trout and shrimp',\n",
       "       'fish soup with cream and onion', 'gyro']\n",
       "\n",
       "# Remove 'bean soup', and add 'roasted beet salad' to the end of the menu\n",
       "menu.remove('bean soup')\n",
       "menu.append('roasted beet salad')\n",
       "\n",
       "```"
      ],
      "text/plain": [
       "Solution: \n",
       "```python\n",
       "# Do not change: Initial menu for your restaurant\n",
       "menu = ['stewed meat with onions', 'bean soup', 'risotto with trout and shrimp',\n",
       "       'fish soup with cream and onion', 'gyro']\n",
       "\n",
       "# Remove 'bean soup', and add 'roasted beet salad' to the end of the menu\n",
       "menu.remove('bean soup')\n",
       "menu.append('roasted beet salad')\n",
       "\n",
       "```"
      ]
     },
     "metadata": {},
     "output_type": "display_data"
    }
   ],
   "source": [
    "# Uncomment to see a hint\n",
    "q1.hint()\n",
    "\n",
    "# Uncomment to see the solution\n",
    "q1.solution()"
   ]
  },
  {
   "cell_type": "markdown",
   "id": "3ba8e48c",
   "metadata": {
    "papermill": {
     "duration": 0.008056,
     "end_time": "2023-08-30T07:46:30.851591",
     "exception": false,
     "start_time": "2023-08-30T07:46:30.843535",
     "status": "completed"
    },
    "tags": []
   },
   "source": [
    "# Question 2\n",
    "\n",
    "The list `num_customers` contains the number of customers who came into your restaurant every day over the last month (which lasted thirty days).  Fill in values for each of the following:\n",
    "- `avg_first_seven` - average number of customers who visited in the first seven days\n",
    "- `avg_last_seven` - average number of customers who visited in the last seven days\n",
    "- `max_month` - number of customers on the day that got the most customers in the last month\n",
    "- `min_month` - number of customers on the day that got the least customers in the last month\n",
    "\n",
    "Answer this question by writing code.  For instance, if you have to find the minimum value in a list, use `min()` instead of scanning for the smallest value and directly filling in a number."
   ]
  },
  {
   "cell_type": "code",
   "execution_count": 4,
   "id": "6acb4f60",
   "metadata": {
    "execution": {
     "iopub.execute_input": "2023-08-30T07:46:30.871163Z",
     "iopub.status.busy": "2023-08-30T07:46:30.870562Z",
     "iopub.status.idle": "2023-08-30T07:46:30.881121Z",
     "shell.execute_reply": "2023-08-30T07:46:30.879822Z"
    },
    "papermill": {
     "duration": 0.023276,
     "end_time": "2023-08-30T07:46:30.883680",
     "exception": false,
     "start_time": "2023-08-30T07:46:30.860404",
     "status": "completed"
    },
    "tags": []
   },
   "outputs": [
    {
     "data": {
      "application/javascript": [
       "parent.postMessage({\"jupyterEvent\": \"custom.exercise_interaction\", \"data\": {\"outcomeType\": 1, \"valueTowardsCompletion\": 0.2, \"interactionType\": 1, \"questionType\": 1, \"questionId\": \"2_NumCustomers\", \"learnToolsVersion\": \"0.3.4\", \"failureMessage\": \"\", \"exceptionClass\": \"\", \"trace\": \"\"}}, \"*\")"
      ],
      "text/plain": [
       "<IPython.core.display.Javascript object>"
      ]
     },
     "metadata": {},
     "output_type": "display_data"
    },
    {
     "data": {
      "text/markdown": [
       "<span style=\"color:#33cc33\">Correct</span>"
      ],
      "text/plain": [
       "Correct"
      ]
     },
     "metadata": {},
     "output_type": "display_data"
    }
   ],
   "source": [
    "# Do not change: Number of customers each day for the last month\n",
    "num_customers = [137, 147, 135, 128, 170, 174, 165, 146, 126, 159,\n",
    "                 141, 148, 132, 147, 168, 153, 170, 161, 148, 152,\n",
    "                 141, 151, 131, 149, 164, 163, 143, 143, 166, 171]\n",
    "\n",
    "# TODO: Fill in values for the variables below\n",
    "avg_first_seven = sum(num_customers[:7])/7 \n",
    "avg_last_seven = sum(num_customers[-7:])/7\n",
    "max_month = max(num_customers)\n",
    "min_month = min(num_customers)\n",
    "\n",
    "# Do not change: Check your answer\n",
    "q2.check()"
   ]
  },
  {
   "cell_type": "code",
   "execution_count": 5,
   "id": "9ffacf4a",
   "metadata": {
    "execution": {
     "iopub.execute_input": "2023-08-30T07:46:30.907010Z",
     "iopub.status.busy": "2023-08-30T07:46:30.906115Z",
     "iopub.status.idle": "2023-08-30T07:46:30.920759Z",
     "shell.execute_reply": "2023-08-30T07:46:30.919262Z"
    },
    "papermill": {
     "duration": 0.029942,
     "end_time": "2023-08-30T07:46:30.923080",
     "exception": false,
     "start_time": "2023-08-30T07:46:30.893138",
     "status": "completed"
    },
    "tags": []
   },
   "outputs": [
    {
     "data": {
      "application/javascript": [
       "parent.postMessage({\"jupyterEvent\": \"custom.exercise_interaction\", \"data\": {\"interactionType\": 2, \"questionType\": 1, \"questionId\": \"2_NumCustomers\", \"learnToolsVersion\": \"0.3.4\", \"valueTowardsCompletion\": 0.0, \"failureMessage\": \"\", \"exceptionClass\": \"\", \"trace\": \"\", \"outcomeType\": 4}}, \"*\")"
      ],
      "text/plain": [
       "<IPython.core.display.Javascript object>"
      ]
     },
     "metadata": {},
     "output_type": "display_data"
    },
    {
     "data": {
      "text/markdown": [
       "<span style=\"color:#3366cc\">Hint:</span> To take the average of a list of numbers, you can calculate the sum and then divide by the length. And, to pull the last `y` entries of a list `my_list`, use `my_list[-y:]`."
      ],
      "text/plain": [
       "Hint: To take the average of a list of numbers, you can calculate the sum and then divide by the length. And, to pull the last `y` entries of a list `my_list`, use `my_list[-y:]`."
      ]
     },
     "metadata": {},
     "output_type": "display_data"
    },
    {
     "data": {
      "application/javascript": [
       "parent.postMessage({\"jupyterEvent\": \"custom.exercise_interaction\", \"data\": {\"interactionType\": 3, \"questionType\": 1, \"questionId\": \"2_NumCustomers\", \"learnToolsVersion\": \"0.3.4\", \"valueTowardsCompletion\": 0.0, \"failureMessage\": \"\", \"exceptionClass\": \"\", \"trace\": \"\", \"outcomeType\": 4}}, \"*\")"
      ],
      "text/plain": [
       "<IPython.core.display.Javascript object>"
      ]
     },
     "metadata": {},
     "output_type": "display_data"
    },
    {
     "data": {
      "text/markdown": [
       "<span style=\"color:#33cc99\">Solution:</span> \n",
       "```python\n",
       "# Fill in values for the variables below\n",
       "avg_first_seven = sum(num_customers[:7])/7 \n",
       "avg_last_seven = sum(num_customers[-7:])/7\n",
       "max_month = max(num_customers)\n",
       "min_month = min(num_customers)\n",
       "\n",
       "```"
      ],
      "text/plain": [
       "Solution: \n",
       "```python\n",
       "# Fill in values for the variables below\n",
       "avg_first_seven = sum(num_customers[:7])/7 \n",
       "avg_last_seven = sum(num_customers[-7:])/7\n",
       "max_month = max(num_customers)\n",
       "min_month = min(num_customers)\n",
       "\n",
       "```"
      ]
     },
     "metadata": {},
     "output_type": "display_data"
    }
   ],
   "source": [
    "# Uncomment to see a hint\n",
    "q2.hint()\n",
    "\n",
    "# Uncomment to see the solution\n",
    "q2.solution()"
   ]
  },
  {
   "cell_type": "markdown",
   "id": "44662d86",
   "metadata": {
    "papermill": {
     "duration": 0.00923,
     "end_time": "2023-08-30T07:46:30.941610",
     "exception": false,
     "start_time": "2023-08-30T07:46:30.932380",
     "status": "completed"
    },
    "tags": []
   },
   "source": [
    "# Question 3\n",
    "\n",
    "In the tutorial, we gave an example of a Python string with information that was better as a list."
   ]
  },
  {
   "cell_type": "code",
   "execution_count": 6,
   "id": "92ed3507",
   "metadata": {
    "execution": {
     "iopub.execute_input": "2023-08-30T07:46:30.962545Z",
     "iopub.status.busy": "2023-08-30T07:46:30.961356Z",
     "iopub.status.idle": "2023-08-30T07:46:30.966751Z",
     "shell.execute_reply": "2023-08-30T07:46:30.965849Z"
    },
    "papermill": {
     "duration": 0.018267,
     "end_time": "2023-08-30T07:46:30.969028",
     "exception": false,
     "start_time": "2023-08-30T07:46:30.950761",
     "status": "completed"
    },
    "tags": []
   },
   "outputs": [],
   "source": [
    "flowers = \"pink primrose,hard-leaved pocket orchid,canterbury bells,sweet pea,english marigold,tiger lily,moon orchid,bird of paradise,monkshood,globe thistle\""
   ]
  },
  {
   "cell_type": "markdown",
   "id": "9773185b",
   "metadata": {
    "papermill": {
     "duration": 0.008838,
     "end_time": "2023-08-30T07:46:30.987160",
     "exception": false,
     "start_time": "2023-08-30T07:46:30.978322",
     "status": "completed"
    },
    "tags": []
   },
   "source": [
    "You can actually use Python to quickly turn this string into a list with `.split()`.  In the parentheses, we need to provide the character should be used to mark the end of one list item and the beginning of another, and enclose it in quotation marks.  In this case, that character is a comma."
   ]
  },
  {
   "cell_type": "code",
   "execution_count": 7,
   "id": "e511b4e6",
   "metadata": {
    "execution": {
     "iopub.execute_input": "2023-08-30T07:46:31.007706Z",
     "iopub.status.busy": "2023-08-30T07:46:31.006935Z",
     "iopub.status.idle": "2023-08-30T07:46:31.013762Z",
     "shell.execute_reply": "2023-08-30T07:46:31.012335Z"
    },
    "papermill": {
     "duration": 0.019741,
     "end_time": "2023-08-30T07:46:31.016147",
     "exception": false,
     "start_time": "2023-08-30T07:46:30.996406",
     "status": "completed"
    },
    "tags": []
   },
   "outputs": [
    {
     "name": "stdout",
     "output_type": "stream",
     "text": [
      "['pink primrose', 'hard-leaved pocket orchid', 'canterbury bells', 'sweet pea', 'english marigold', 'tiger lily', 'moon orchid', 'bird of paradise', 'monkshood', 'globe thistle']\n"
     ]
    }
   ],
   "source": [
    " print(flowers.split(\",\"))"
   ]
  },
  {
   "cell_type": "markdown",
   "id": "98417bbc",
   "metadata": {
    "papermill": {
     "duration": 0.009244,
     "end_time": "2023-08-30T07:46:31.035126",
     "exception": false,
     "start_time": "2023-08-30T07:46:31.025882",
     "status": "completed"
    },
    "tags": []
   },
   "source": [
    "Now it is your turn to try this out!  Create two Python lists:\n",
    "- `letters` should be a Python list where each entry is an uppercase letter of the English alphabet.  For instance, the first two entries should be `\"A\"` and `\"B\"`, and the final two entries should be `\"Y\"` and `\"Z\"`.  Use the string `alphabet` to create this list.\n",
    "- `address` should be a Python list where each row in `address` is a different item in the list.  Currently, each row in `address` is separated by a comma. "
   ]
  },
  {
   "cell_type": "code",
   "execution_count": 8,
   "id": "a37809a0",
   "metadata": {
    "execution": {
     "iopub.execute_input": "2023-08-30T07:46:31.055951Z",
     "iopub.status.busy": "2023-08-30T07:46:31.055110Z",
     "iopub.status.idle": "2023-08-30T07:46:31.063491Z",
     "shell.execute_reply": "2023-08-30T07:46:31.062188Z"
    },
    "papermill": {
     "duration": 0.021773,
     "end_time": "2023-08-30T07:46:31.066203",
     "exception": false,
     "start_time": "2023-08-30T07:46:31.044430",
     "status": "completed"
    },
    "tags": []
   },
   "outputs": [
    {
     "data": {
      "application/javascript": [
       "parent.postMessage({\"jupyterEvent\": \"custom.exercise_interaction\", \"data\": {\"outcomeType\": 1, \"valueTowardsCompletion\": 0.2, \"interactionType\": 1, \"questionType\": 1, \"questionId\": \"3_SplitString\", \"learnToolsVersion\": \"0.3.4\", \"failureMessage\": \"\", \"exceptionClass\": \"\", \"trace\": \"\"}}, \"*\")"
      ],
      "text/plain": [
       "<IPython.core.display.Javascript object>"
      ]
     },
     "metadata": {},
     "output_type": "display_data"
    },
    {
     "data": {
      "text/markdown": [
       "<span style=\"color:#33cc33\">Correct</span>"
      ],
      "text/plain": [
       "Correct"
      ]
     },
     "metadata": {},
     "output_type": "display_data"
    }
   ],
   "source": [
    "# DO not change: Define two Python strings\n",
    "alphabet = \"A.B.C.D.E.F.G.H.I.J.K.L.M.N.O.P.Q.R.S.T.U.V.W.X.Y.Z\"\n",
    "address = \"Mr. H. Potter,The cupboard under the Stairs,4 Privet Drive,Little Whinging,Surrey\"\n",
    "\n",
    "# TODO: Convert strings into Python lists\n",
    "letters = alphabet.split(\".\")\n",
    "formatted_address = address.split(\",\")\n",
    "\n",
    "# Do not change: Check your answer\n",
    "q3.check()"
   ]
  },
  {
   "cell_type": "code",
   "execution_count": 9,
   "id": "9ecda5cc",
   "metadata": {
    "execution": {
     "iopub.execute_input": "2023-08-30T07:46:31.089020Z",
     "iopub.status.busy": "2023-08-30T07:46:31.088641Z",
     "iopub.status.idle": "2023-08-30T07:46:31.101598Z",
     "shell.execute_reply": "2023-08-30T07:46:31.100610Z"
    },
    "papermill": {
     "duration": 0.027257,
     "end_time": "2023-08-30T07:46:31.103933",
     "exception": false,
     "start_time": "2023-08-30T07:46:31.076676",
     "status": "completed"
    },
    "tags": []
   },
   "outputs": [
    {
     "data": {
      "application/javascript": [
       "parent.postMessage({\"jupyterEvent\": \"custom.exercise_interaction\", \"data\": {\"interactionType\": 2, \"questionType\": 1, \"questionId\": \"3_SplitString\", \"learnToolsVersion\": \"0.3.4\", \"valueTowardsCompletion\": 0.0, \"failureMessage\": \"\", \"exceptionClass\": \"\", \"trace\": \"\", \"outcomeType\": 4}}, \"*\")"
      ],
      "text/plain": [
       "<IPython.core.display.Javascript object>"
      ]
     },
     "metadata": {},
     "output_type": "display_data"
    },
    {
     "data": {
      "text/markdown": [
       "<span style=\"color:#3366cc\">Hint:</span> In each case, you need to use `.split()`."
      ],
      "text/plain": [
       "Hint: In each case, you need to use `.split()`."
      ]
     },
     "metadata": {},
     "output_type": "display_data"
    },
    {
     "data": {
      "application/javascript": [
       "parent.postMessage({\"jupyterEvent\": \"custom.exercise_interaction\", \"data\": {\"interactionType\": 3, \"questionType\": 1, \"questionId\": \"3_SplitString\", \"learnToolsVersion\": \"0.3.4\", \"valueTowardsCompletion\": 0.0, \"failureMessage\": \"\", \"exceptionClass\": \"\", \"trace\": \"\", \"outcomeType\": 4}}, \"*\")"
      ],
      "text/plain": [
       "<IPython.core.display.Javascript object>"
      ]
     },
     "metadata": {},
     "output_type": "display_data"
    },
    {
     "data": {
      "text/markdown": [
       "<span style=\"color:#33cc99\">Solution:</span> \n",
       "```python\n",
       "letters = alphabet.split(\".\")\n",
       "formatted_address = address.split(\",\")\n",
       "\n",
       "```"
      ],
      "text/plain": [
       "Solution: \n",
       "```python\n",
       "letters = alphabet.split(\".\")\n",
       "formatted_address = address.split(\",\")\n",
       "\n",
       "```"
      ]
     },
     "metadata": {},
     "output_type": "display_data"
    }
   ],
   "source": [
    "# Uncomment to see a hint\n",
    "q3.hint()\n",
    "\n",
    "# Uncomment to see the solution\n",
    "q3.solution()"
   ]
  },
  {
   "cell_type": "markdown",
   "id": "72061260",
   "metadata": {
    "papermill": {
     "duration": 0.009818,
     "end_time": "2023-08-30T07:46:31.123964",
     "exception": false,
     "start_time": "2023-08-30T07:46:31.114146",
     "status": "completed"
    },
    "tags": []
   },
   "source": [
    "# Question 4\n",
    "\n",
    "In the Python course, you'll learn all about **list comprehensions**, which allow you to create a list based on the values in another list.  In this question, you'll get a brief preview of how they work.\n",
    "\n",
    "Say we're working with the list below."
   ]
  },
  {
   "cell_type": "code",
   "execution_count": 10,
   "id": "5cdeb769",
   "metadata": {
    "execution": {
     "iopub.execute_input": "2023-08-30T07:46:31.147783Z",
     "iopub.status.busy": "2023-08-30T07:46:31.146700Z",
     "iopub.status.idle": "2023-08-30T07:46:31.153038Z",
     "shell.execute_reply": "2023-08-30T07:46:31.151715Z"
    },
    "papermill": {
     "duration": 0.021471,
     "end_time": "2023-08-30T07:46:31.155509",
     "exception": false,
     "start_time": "2023-08-30T07:46:31.134038",
     "status": "completed"
    },
    "tags": []
   },
   "outputs": [],
   "source": [
    "test_ratings = [1, 2, 3, 4, 5]"
   ]
  },
  {
   "cell_type": "markdown",
   "id": "43f16127",
   "metadata": {
    "papermill": {
     "duration": 0.010156,
     "end_time": "2023-08-30T07:46:31.176196",
     "exception": false,
     "start_time": "2023-08-30T07:46:31.166040",
     "status": "completed"
    },
    "tags": []
   },
   "source": [
    "Then we can use this list (`test_ratings`) to create a new list (`test_liked`) where each item has been turned into a boolean, depending on whether or not the item is greater than or equal to four."
   ]
  },
  {
   "cell_type": "code",
   "execution_count": 11,
   "id": "c6d7831e",
   "metadata": {
    "execution": {
     "iopub.execute_input": "2023-08-30T07:46:31.198434Z",
     "iopub.status.busy": "2023-08-30T07:46:31.197780Z",
     "iopub.status.idle": "2023-08-30T07:46:31.203183Z",
     "shell.execute_reply": "2023-08-30T07:46:31.202043Z"
    },
    "papermill": {
     "duration": 0.019658,
     "end_time": "2023-08-30T07:46:31.205997",
     "exception": false,
     "start_time": "2023-08-30T07:46:31.186339",
     "status": "completed"
    },
    "tags": []
   },
   "outputs": [
    {
     "name": "stdout",
     "output_type": "stream",
     "text": [
      "[False, False, False, True, True]\n"
     ]
    }
   ],
   "source": [
    "test_liked = [i>=4 for i in test_ratings]\n",
    "print(test_liked)"
   ]
  },
  {
   "cell_type": "markdown",
   "id": "dd5fdd95",
   "metadata": {
    "papermill": {
     "duration": 0.009875,
     "end_time": "2023-08-30T07:46:31.226184",
     "exception": false,
     "start_time": "2023-08-30T07:46:31.216309",
     "status": "completed"
    },
    "tags": []
   },
   "source": [
    "In this question, you'll use this list comprehension to define a function `percentage_liked()` that takes one argument as input:\n",
    "- `ratings`: list of ratings that people gave to a movie, where each rating is a number between 1-5, inclusive\n",
    "\n",
    "We say someone liked the movie, if they gave a rating of either 4 or 5.  Your function should return the percentage of people who liked the movie.\n",
    "\n",
    "For instance, if we supply a value of `[1, 2, 3, 4, 5, 4, 5, 1]`, then 50% (4/8) of the people liked the movie, and the function should return `0.5`.\n",
    "\n",
    "Part of the function has already been completed for you.  You need only use `list_liked` to calculate `percentage_liked`."
   ]
  },
  {
   "cell_type": "code",
   "execution_count": 12,
   "id": "25b7d41c",
   "metadata": {
    "execution": {
     "iopub.execute_input": "2023-08-30T07:46:31.248065Z",
     "iopub.status.busy": "2023-08-30T07:46:31.247713Z",
     "iopub.status.idle": "2023-08-30T07:46:31.257520Z",
     "shell.execute_reply": "2023-08-30T07:46:31.256435Z"
    },
    "papermill": {
     "duration": 0.023642,
     "end_time": "2023-08-30T07:46:31.259926",
     "exception": false,
     "start_time": "2023-08-30T07:46:31.236284",
     "status": "completed"
    },
    "tags": []
   },
   "outputs": [
    {
     "data": {
      "application/javascript": [
       "parent.postMessage({\"jupyterEvent\": \"custom.exercise_interaction\", \"data\": {\"outcomeType\": 1, \"valueTowardsCompletion\": 0.2, \"interactionType\": 1, \"questionType\": 2, \"questionId\": \"4_PercentageLiked\", \"learnToolsVersion\": \"0.3.4\", \"failureMessage\": \"\", \"exceptionClass\": \"\", \"trace\": \"\"}}, \"*\")"
      ],
      "text/plain": [
       "<IPython.core.display.Javascript object>"
      ]
     },
     "metadata": {},
     "output_type": "display_data"
    },
    {
     "data": {
      "text/markdown": [
       "<span style=\"color:#33cc33\">Correct</span>"
      ],
      "text/plain": [
       "Correct"
      ]
     },
     "metadata": {},
     "output_type": "display_data"
    }
   ],
   "source": [
    "\n",
    "def percentage_liked(ratings):\n",
    "    list_liked = [i >= 4 for i in ratings]\n",
    "    percentage_liked = sum(list_liked)/len(list_liked)\n",
    "    return percentage_liked\n",
    "\n",
    "# Do not change: should return 0.5\n",
    "percentage_liked([1, 2, 3, 4, 5, 4, 5, 1])\n",
    "\n",
    "# Do not change: Check your answer\n",
    "q4.check()"
   ]
  },
  {
   "cell_type": "code",
   "execution_count": 13,
   "id": "0bc6e5bc",
   "metadata": {
    "execution": {
     "iopub.execute_input": "2023-08-30T07:46:31.283522Z",
     "iopub.status.busy": "2023-08-30T07:46:31.282357Z",
     "iopub.status.idle": "2023-08-30T07:46:31.295080Z",
     "shell.execute_reply": "2023-08-30T07:46:31.294310Z"
    },
    "papermill": {
     "duration": 0.026663,
     "end_time": "2023-08-30T07:46:31.297097",
     "exception": false,
     "start_time": "2023-08-30T07:46:31.270434",
     "status": "completed"
    },
    "tags": []
   },
   "outputs": [
    {
     "data": {
      "application/javascript": [
       "parent.postMessage({\"jupyterEvent\": \"custom.exercise_interaction\", \"data\": {\"interactionType\": 2, \"questionType\": 2, \"questionId\": \"4_PercentageLiked\", \"learnToolsVersion\": \"0.3.4\", \"valueTowardsCompletion\": 0.0, \"failureMessage\": \"\", \"exceptionClass\": \"\", \"trace\": \"\", \"outcomeType\": 4}}, \"*\")"
      ],
      "text/plain": [
       "<IPython.core.display.Javascript object>"
      ]
     },
     "metadata": {},
     "output_type": "display_data"
    },
    {
     "data": {
      "text/markdown": [
       "<span style=\"color:#3366cc\">Hint:</span> Remember that when we add booleans, it returns the total number of entries in the sum that are `True`."
      ],
      "text/plain": [
       "Hint: Remember that when we add booleans, it returns the total number of entries in the sum that are `True`."
      ]
     },
     "metadata": {},
     "output_type": "display_data"
    },
    {
     "data": {
      "application/javascript": [
       "parent.postMessage({\"jupyterEvent\": \"custom.exercise_interaction\", \"data\": {\"interactionType\": 3, \"questionType\": 2, \"questionId\": \"4_PercentageLiked\", \"learnToolsVersion\": \"0.3.4\", \"valueTowardsCompletion\": 0.0, \"failureMessage\": \"\", \"exceptionClass\": \"\", \"trace\": \"\", \"outcomeType\": 4}}, \"*\")"
      ],
      "text/plain": [
       "<IPython.core.display.Javascript object>"
      ]
     },
     "metadata": {},
     "output_type": "display_data"
    },
    {
     "data": {
      "text/markdown": [
       "<span style=\"color:#33cc99\">Solution:</span> \n",
       "```python\n",
       "\n",
       "# Complete the function\n",
       "def percentage_liked(ratings):\n",
       "    list_liked = [i >= 4 for i in ratings]\n",
       "    percentage_liked = sum(list_liked)/len(list_liked)\n",
       "    return percentage_liked\n",
       "\n",
       "```"
      ],
      "text/plain": [
       "Solution: \n",
       "```python\n",
       "\n",
       "# Complete the function\n",
       "def percentage_liked(ratings):\n",
       "    list_liked = [i >= 4 for i in ratings]\n",
       "    percentage_liked = sum(list_liked)/len(list_liked)\n",
       "    return percentage_liked\n",
       "\n",
       "```"
      ]
     },
     "metadata": {},
     "output_type": "display_data"
    }
   ],
   "source": [
    "# Uncomment to see a hint\n",
    "q4.hint()\n",
    "\n",
    "# Uncomment to see the solution\n",
    "q4.solution()"
   ]
  },
  {
   "cell_type": "markdown",
   "id": "b67a2518",
   "metadata": {
    "papermill": {
     "duration": 0.010564,
     "end_time": "2023-08-30T07:46:31.318853",
     "exception": false,
     "start_time": "2023-08-30T07:46:31.308289",
     "status": "completed"
    },
    "tags": []
   },
   "source": [
    "# 🌶️ Question 5\n",
    " \n",
    "Say you're doing analytics for a website.  You need to write a function that returns the percentage growth in the total number of users relative to a specified number of years ago.\n",
    "\n",
    "Your function `percentage_growth()` should take two arguments as input:\n",
    "- `num_users` = Python list with the total number of users each year.  So `num_users[0]` is the total number of users in the first year, `num_users[1]` is the total number of users in the second year, and so on.  The final entry in the list gives the total number of users in the most recently completed year.\n",
    "- `yrs_ago` = number of years to go back in time when calculating the growth percentage\n",
    "\n",
    "For instance, say `num_users = [920344, 1043553, 1204334, 1458996, 1503323, 1593432, 1623463, 1843064, 1930992, 2001078]`.\n",
    "- if `yrs_ago = 1`, we want the function to return a value of about `0.036`. This corresponds to a percentage growth of approximately 3.6%, calculated as (2001078 - 1930992)/1930992.\n",
    "- if `years_ago = 7`, we would want to return approximately `0.66`.  This corresponds to a percentage growth of approximately 66%, calculated as (2001078 - 1204334)/1204334.\n",
    "\n",
    "Your coworker sent you a draft of a function, but it doesn't seem to be doing the correct calculation.  Can you figure out what has gone wrong and make the needed changes?"
   ]
  },
  {
   "cell_type": "code",
   "execution_count": 14,
   "id": "fc489977",
   "metadata": {
    "execution": {
     "iopub.execute_input": "2023-08-30T07:46:31.342334Z",
     "iopub.status.busy": "2023-08-30T07:46:31.341921Z",
     "iopub.status.idle": "2023-08-30T07:46:31.353934Z",
     "shell.execute_reply": "2023-08-30T07:46:31.352600Z"
    },
    "papermill": {
     "duration": 0.026557,
     "end_time": "2023-08-30T07:46:31.356348",
     "exception": false,
     "start_time": "2023-08-30T07:46:31.329791",
     "status": "completed"
    },
    "tags": []
   },
   "outputs": [
    {
     "name": "stdout",
     "output_type": "stream",
     "text": [
      "0.03629533421163837\n",
      "0.6615639847417742\n"
     ]
    },
    {
     "data": {
      "application/javascript": [
       "parent.postMessage({\"jupyterEvent\": \"custom.exercise_interaction\", \"data\": {\"outcomeType\": 1, \"valueTowardsCompletion\": 0.2, \"interactionType\": 1, \"questionType\": 2, \"questionId\": \"5_WebsiteAnalytics\", \"learnToolsVersion\": \"0.3.4\", \"failureMessage\": \"\", \"exceptionClass\": \"\", \"trace\": \"\"}}, \"*\")"
      ],
      "text/plain": [
       "<IPython.core.display.Javascript object>"
      ]
     },
     "metadata": {},
     "output_type": "display_data"
    },
    {
     "data": {
      "text/markdown": [
       "<span style=\"color:#33cc33\">Correct</span>"
      ],
      "text/plain": [
       "Correct"
      ]
     },
     "metadata": {},
     "output_type": "display_data"
    }
   ],
   "source": [
    "# TODO: Edit the function\n",
    "def percentage_growth(num_users, yrs_ago):\n",
    "    growth = (num_users[len(num_users)-1] - num_users[len(num_users)-yrs_ago-1])/num_users[len(num_users)-yrs_ago-1]\n",
    "    return growth\n",
    "\n",
    "# Do not change: Variable for calculating some test examples\n",
    "num_users_test = [920344, 1043553, 1204334, 1458996, 1503323, 1593432, 1623463, 1843064, 1930992, 2001078]\n",
    "\n",
    "# Do not change: Should return .036\n",
    "print(percentage_growth(num_users_test, 1))\n",
    "\n",
    "# Do not change: Should return 0.66\n",
    "print(percentage_growth(num_users_test, 7))\n",
    "\n",
    "# Do not change: Check your answer\n",
    "q5.check()"
   ]
  },
  {
   "cell_type": "code",
   "execution_count": 15,
   "id": "d25318cb",
   "metadata": {
    "execution": {
     "iopub.execute_input": "2023-08-30T07:46:31.380886Z",
     "iopub.status.busy": "2023-08-30T07:46:31.380496Z",
     "iopub.status.idle": "2023-08-30T07:46:31.392914Z",
     "shell.execute_reply": "2023-08-30T07:46:31.391687Z"
    },
    "papermill": {
     "duration": 0.027675,
     "end_time": "2023-08-30T07:46:31.395433",
     "exception": false,
     "start_time": "2023-08-30T07:46:31.367758",
     "status": "completed"
    },
    "tags": []
   },
   "outputs": [
    {
     "data": {
      "application/javascript": [
       "parent.postMessage({\"jupyterEvent\": \"custom.exercise_interaction\", \"data\": {\"interactionType\": 2, \"questionType\": 2, \"questionId\": \"5_WebsiteAnalytics\", \"learnToolsVersion\": \"0.3.4\", \"valueTowardsCompletion\": 0.0, \"failureMessage\": \"\", \"exceptionClass\": \"\", \"trace\": \"\", \"outcomeType\": 4}}, \"*\")"
      ],
      "text/plain": [
       "<IPython.core.display.Javascript object>"
      ]
     },
     "metadata": {},
     "output_type": "display_data"
    },
    {
     "data": {
      "text/markdown": [
       "<span style=\"color:#3366cc\">Hint:</span> It's already correct that you need to subtract two numbers from the list, before dividing by an item in the list. You only need to modify the positions for the items that are pulled from the list. \n",
       "\n",
       "In order to pull the final entry in the `num_users` list, you would need to use `num_users[len(num_users)-1]`.  This corresponds to the number of users in the most recently completed year.  \n",
       "\n",
       "Then, to get the number of users from one year prior, you should use `num_users[len(num_users)-2]`.  \n",
       "\n",
       "To get the number of users from `yrs_ago` years ago, use `num_users[len(num_users)-yrs_ago-1]`."
      ],
      "text/plain": [
       "Hint: It's already correct that you need to subtract two numbers from the list, before dividing by an item in the list. You only need to modify the positions for the items that are pulled from the list. \n",
       "\n",
       "In order to pull the final entry in the `num_users` list, you would need to use `num_users[len(num_users)-1]`.  This corresponds to the number of users in the most recently completed year.  \n",
       "\n",
       "Then, to get the number of users from one year prior, you should use `num_users[len(num_users)-2]`.  \n",
       "\n",
       "To get the number of users from `yrs_ago` years ago, use `num_users[len(num_users)-yrs_ago-1]`."
      ]
     },
     "metadata": {},
     "output_type": "display_data"
    },
    {
     "data": {
      "application/javascript": [
       "parent.postMessage({\"jupyterEvent\": \"custom.exercise_interaction\", \"data\": {\"interactionType\": 3, \"questionType\": 2, \"questionId\": \"5_WebsiteAnalytics\", \"learnToolsVersion\": \"0.3.4\", \"valueTowardsCompletion\": 0.0, \"failureMessage\": \"\", \"exceptionClass\": \"\", \"trace\": \"\", \"outcomeType\": 4}}, \"*\")"
      ],
      "text/plain": [
       "<IPython.core.display.Javascript object>"
      ]
     },
     "metadata": {},
     "output_type": "display_data"
    },
    {
     "data": {
      "text/markdown": [
       "<span style=\"color:#33cc99\">Solution:</span> \n",
       "```python\n",
       "def percentage_growth(num_users, yrs_ago):\n",
       "    growth = (num_users[len(num_users)-1] - num_users[len(num_users)-yrs_ago-1])/num_users[len(num_users)-yrs_ago-1]\n",
       "    return growth\n",
       "\n",
       "```"
      ],
      "text/plain": [
       "Solution: \n",
       "```python\n",
       "def percentage_growth(num_users, yrs_ago):\n",
       "    growth = (num_users[len(num_users)-1] - num_users[len(num_users)-yrs_ago-1])/num_users[len(num_users)-yrs_ago-1]\n",
       "    return growth\n",
       "\n",
       "```"
      ]
     },
     "metadata": {},
     "output_type": "display_data"
    }
   ],
   "source": [
    "# Uncomment to see a hint\n",
    "q5.hint()\n",
    "\n",
    "# Uncomment to see the solution\n",
    "q5.solution()"
   ]
  },
  {
   "cell_type": "markdown",
   "id": "3545a464",
   "metadata": {
    "papermill": {
     "duration": 0.011448,
     "end_time": "2023-08-30T07:46:31.419377",
     "exception": false,
     "start_time": "2023-08-30T07:46:31.407929",
     "status": "completed"
    },
    "tags": []
   },
   "source": [
    "# Congratulations!\n",
    "\n",
    "Congratulations for finishing the Intro to Programming course!  You should be proud of your very first steps with learning programming.  As next steps, we recommend taking:\n",
    "- the **[Python course](http://www.kaggle.com/learn/python)**, and \n",
    "- the **[Intro to Machine Learning course](https://www.kaggle.com/learn/intro-to-machine-learning)**."
   ]
  },
  {
   "cell_type": "markdown",
   "id": "3d452714",
   "metadata": {
    "papermill": {
     "duration": 0.011599,
     "end_time": "2023-08-30T07:46:31.443220",
     "exception": false,
     "start_time": "2023-08-30T07:46:31.431621",
     "status": "completed"
    },
    "tags": []
   },
   "source": [
    "---\n",
    "\n",
    "\n",
    "\n",
    "\n",
    "*Have questions or comments? Visit the [course discussion forum](https://www.kaggle.com/learn/intro-to-programming/discussion) to chat with other learners.*"
   ]
  }
 ],
 "kernelspec": {
  "display_name": "Python 3",
  "language": "python",
  "name": "python3"
 },
 "language_info": {
  "codemirror_mode": {
   "name": "ipython",
   "version": 3
  },
  "file_extension": ".py",
  "mimetype": "text/x-python",
  "name": "python",
  "nbconvert_exporter": "python",
  "pygments_lexer": "ipython3",
  "version": "3.6.4"
 },
 "metadata": {
  "kernelspec": {
   "display_name": "Python 3",
   "language": "python",
   "name": "python3"
  },
  "language_info": {
   "codemirror_mode": {
    "name": "ipython",
    "version": 3
   },
   "file_extension": ".py",
   "mimetype": "text/x-python",
   "name": "python",
   "nbconvert_exporter": "python",
   "pygments_lexer": "ipython3",
   "version": "3.10.12"
  },
  "papermill": {
   "default_parameters": {},
   "duration": 11.995724,
   "end_time": "2023-08-30T07:46:32.378672",
   "environment_variables": {},
   "exception": null,
   "input_path": "__notebook__.ipynb",
   "output_path": "__notebook__.ipynb",
   "parameters": {},
   "start_time": "2023-08-30T07:46:20.382948",
   "version": "2.4.0"
  }
 },
 "nbformat": 4,
 "nbformat_minor": 5
}
