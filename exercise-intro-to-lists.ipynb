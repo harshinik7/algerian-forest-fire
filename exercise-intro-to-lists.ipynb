{
 "cells": [
  {
   "cell_type": "markdown",
   "id": "a5fa26be",
   "metadata": {
    "papermill": {
     "duration": 0.005433,
     "end_time": "2023-08-27T20:39:09.479841",
     "exception": false,
     "start_time": "2023-08-27T20:39:09.474408",
     "status": "completed"
    },
    "tags": []
   },
   "source": [
    "**This notebook is an exercise in the [Intro to Programming](https://www.kaggle.com/learn/intro-to-programming) course.  You can reference the tutorial at [this link](https://www.kaggle.com/alexisbcook/intro-to-lists).**\n",
    "\n",
    "---\n"
   ]
  },
  {
   "cell_type": "markdown",
   "id": "93309f20",
   "metadata": {
    "papermill": {
     "duration": 0.00442,
     "end_time": "2023-08-27T20:39:09.489158",
     "exception": false,
     "start_time": "2023-08-27T20:39:09.484738",
     "status": "completed"
    },
    "tags": []
   },
   "source": [
    "In the tutorial, you learned how to define and modify Python lists.  In this exercise, you will use your new knowledge to solve several problems.\n",
    "\n",
    "# Set up the notebook\n",
    "\n",
    "Run the next code cell without changes to set up the notebook."
   ]
  },
  {
   "cell_type": "code",
   "execution_count": 1,
   "id": "1a0c3b86",
   "metadata": {
    "execution": {
     "iopub.execute_input": "2023-08-27T20:39:09.500761Z",
     "iopub.status.busy": "2023-08-27T20:39:09.500130Z",
     "iopub.status.idle": "2023-08-27T20:39:09.559230Z",
     "shell.execute_reply": "2023-08-27T20:39:09.558071Z"
    },
    "papermill": {
     "duration": 0.067734,
     "end_time": "2023-08-27T20:39:09.561694",
     "exception": false,
     "start_time": "2023-08-27T20:39:09.493960",
     "status": "completed"
    },
    "tags": []
   },
   "outputs": [
    {
     "name": "stdout",
     "output_type": "stream",
     "text": [
      "Setup complete.\n"
     ]
    }
   ],
   "source": [
    "from learntools.core import binder\n",
    "binder.bind(globals())\n",
    "from learntools.intro_to_programming.ex5 import *\n",
    "print('Setup complete.')"
   ]
  },
  {
   "cell_type": "markdown",
   "id": "997b2052",
   "metadata": {
    "papermill": {
     "duration": 0.004686,
     "end_time": "2023-08-27T20:39:09.571559",
     "exception": false,
     "start_time": "2023-08-27T20:39:09.566873",
     "status": "completed"
    },
    "tags": []
   },
   "source": [
    "# Question 1\n",
    "\n",
    "You own a restaurant with five food dishes, organized in the Python list `menu` below.  One day, you decide to:\n",
    "- remove bean soup (`'bean soup'`) from the menu, and\n",
    "- add roasted beet salad (`'roasted beet salad'`) to the menu.\n",
    "\n",
    "Implement this change to the list below.  While completing this task, \n",
    "- do not change the line that creates the `menu` list.  \n",
    "- your answer should use `.remove()` and `.append()`.  "
   ]
  },
  {
   "cell_type": "code",
   "execution_count": 2,
   "id": "61333f60",
   "metadata": {
    "execution": {
     "iopub.execute_input": "2023-08-27T20:39:09.583043Z",
     "iopub.status.busy": "2023-08-27T20:39:09.582604Z",
     "iopub.status.idle": "2023-08-27T20:39:09.593010Z",
     "shell.execute_reply": "2023-08-27T20:39:09.592059Z"
    },
    "papermill": {
     "duration": 0.019557,
     "end_time": "2023-08-27T20:39:09.595819",
     "exception": false,
     "start_time": "2023-08-27T20:39:09.576262",
     "status": "completed"
    },
    "tags": []
   },
   "outputs": [
    {
     "data": {
      "application/javascript": [
       "parent.postMessage({\"jupyterEvent\": \"custom.exercise_interaction\", \"data\": {\"outcomeType\": 2, \"failureMessage\": \"These item(s) should be removed from `menu`: ['bean soup']\", \"interactionType\": 1, \"questionType\": 2, \"questionId\": \"1_FoodMenu\", \"learnToolsVersion\": \"0.3.4\", \"valueTowardsCompletion\": 0.0, \"exceptionClass\": \"\", \"trace\": \"\"}}, \"*\")"
      ],
      "text/plain": [
       "<IPython.core.display.Javascript object>"
      ]
     },
     "metadata": {},
     "output_type": "display_data"
    },
    {
     "data": {
      "text/markdown": [
       "<span style=\"color:#cc3333\">Incorrect:</span> These item(s) should be removed from `menu`: ['bean soup']"
      ],
      "text/plain": [
       "Incorrect: These item(s) should be removed from `menu`: ['bean soup']"
      ]
     },
     "metadata": {},
     "output_type": "display_data"
    }
   ],
   "source": [
    "# Do not change: Initial menu for your restaurant\n",
    "menu = ['stewed meat with onions', 'bean soup', 'risotto with trout and shrimp',\n",
    "       'fish soup with cream and onion', 'gyro']\n",
    "\n",
    "# TODO: remove 'bean soup', and add 'roasted beet salad' to the end of the menu\n",
    "____\n",
    "\n",
    "# Do not change: Check your answer\n",
    "q1.check()"
   ]
  },
  {
   "cell_type": "code",
   "execution_count": 3,
   "id": "cee85f47",
   "metadata": {
    "execution": {
     "iopub.execute_input": "2023-08-27T20:39:09.608567Z",
     "iopub.status.busy": "2023-08-27T20:39:09.608157Z",
     "iopub.status.idle": "2023-08-27T20:39:09.613482Z",
     "shell.execute_reply": "2023-08-27T20:39:09.612169Z"
    },
    "papermill": {
     "duration": 0.01402,
     "end_time": "2023-08-27T20:39:09.615325",
     "exception": false,
     "start_time": "2023-08-27T20:39:09.601305",
     "status": "completed"
    },
    "tags": []
   },
   "outputs": [],
   "source": [
    "# Uncomment to see a hint\n",
    "#q1.hint()\n",
    "\n",
    "# Uncomment to see the solution\n",
    "#q1.solution()"
   ]
  },
  {
   "cell_type": "markdown",
   "id": "687b1564",
   "metadata": {
    "papermill": {
     "duration": 0.005506,
     "end_time": "2023-08-27T20:39:09.626331",
     "exception": false,
     "start_time": "2023-08-27T20:39:09.620825",
     "status": "completed"
    },
    "tags": []
   },
   "source": [
    "# Question 2\n",
    "\n",
    "The list `num_customers` contains the number of customers who came into your restaurant every day over the last month (which lasted thirty days).  Fill in values for each of the following:\n",
    "- `avg_first_seven` - average number of customers who visited in the first seven days\n",
    "- `avg_last_seven` - average number of customers who visited in the last seven days\n",
    "- `max_month` - number of customers on the day that got the most customers in the last month\n",
    "- `min_month` - number of customers on the day that got the least customers in the last month\n",
    "\n",
    "Answer this question by writing code.  For instance, if you have to find the minimum value in a list, use `min()` instead of scanning for the smallest value and directly filling in a number."
   ]
  },
  {
   "cell_type": "code",
   "execution_count": 4,
   "id": "f77d0984",
   "metadata": {
    "execution": {
     "iopub.execute_input": "2023-08-27T20:39:09.641553Z",
     "iopub.status.busy": "2023-08-27T20:39:09.640825Z",
     "iopub.status.idle": "2023-08-27T20:39:09.649674Z",
     "shell.execute_reply": "2023-08-27T20:39:09.648275Z"
    },
    "papermill": {
     "duration": 0.019337,
     "end_time": "2023-08-27T20:39:09.651957",
     "exception": false,
     "start_time": "2023-08-27T20:39:09.632620",
     "status": "completed"
    },
    "tags": []
   },
   "outputs": [
    {
     "data": {
      "application/javascript": [
       "parent.postMessage({\"jupyterEvent\": \"custom.exercise_interaction\", \"data\": {\"outcomeType\": 4, \"interactionType\": 1, \"questionType\": 1, \"questionId\": \"2_NumCustomers\", \"learnToolsVersion\": \"0.3.4\", \"valueTowardsCompletion\": 0.0, \"failureMessage\": \"\", \"exceptionClass\": \"\", \"trace\": \"\"}}, \"*\")"
      ],
      "text/plain": [
       "<IPython.core.display.Javascript object>"
      ]
     },
     "metadata": {},
     "output_type": "display_data"
    },
    {
     "data": {
      "text/markdown": [
       "<span style=\"color:#ccaa33\">Check:</span> When you've updated the starter code, `check()` will tell you whether your code is correct. You need to update the code that creates variables `avg_first_seven`, `avg_last_seven`, `max_month`, `min_month`"
      ],
      "text/plain": [
       "Check: When you've updated the starter code, `check()` will tell you whether your code is correct. You need to update the code that creates variables `avg_first_seven`, `avg_last_seven`, `max_month`, `min_month`"
      ]
     },
     "metadata": {},
     "output_type": "display_data"
    }
   ],
   "source": [
    "# Do not change: Number of customers each day for the last month\n",
    "num_customers = [137, 147, 135, 128, 170, 174, 165, 146, 126, 159,\n",
    "                 141, 148, 132, 147, 168, 153, 170, 161, 148, 152,\n",
    "                 141, 151, 131, 149, 164, 163, 143, 143, 166, 171]\n",
    "\n",
    "# TODO: Fill in values for the variables below\n",
    "avg_first_seven = ____ \n",
    "avg_last_seven = ____ \n",
    "max_month = ____\n",
    "min_month = ____\n",
    "\n",
    "# Do not change: Check your answer\n",
    "q2.check()"
   ]
  },
  {
   "cell_type": "code",
   "execution_count": 5,
   "id": "71f6044c",
   "metadata": {
    "execution": {
     "iopub.execute_input": "2023-08-27T20:39:09.665462Z",
     "iopub.status.busy": "2023-08-27T20:39:09.665072Z",
     "iopub.status.idle": "2023-08-27T20:39:09.669382Z",
     "shell.execute_reply": "2023-08-27T20:39:09.668497Z"
    },
    "papermill": {
     "duration": 0.013232,
     "end_time": "2023-08-27T20:39:09.671383",
     "exception": false,
     "start_time": "2023-08-27T20:39:09.658151",
     "status": "completed"
    },
    "tags": []
   },
   "outputs": [],
   "source": [
    "# Uncomment to see a hint\n",
    "#q2.hint()\n",
    "\n",
    "# Uncomment to see the solution\n",
    "#q2.solution()"
   ]
  },
  {
   "cell_type": "markdown",
   "id": "51849f26",
   "metadata": {
    "papermill": {
     "duration": 0.005425,
     "end_time": "2023-08-27T20:39:09.682821",
     "exception": false,
     "start_time": "2023-08-27T20:39:09.677396",
     "status": "completed"
    },
    "tags": []
   },
   "source": [
    "# Question 3\n",
    "\n",
    "In the tutorial, we gave an example of a Python string with information that was better as a list."
   ]
  },
  {
   "cell_type": "code",
   "execution_count": 6,
   "id": "0db67466",
   "metadata": {
    "execution": {
     "iopub.execute_input": "2023-08-27T20:39:09.696227Z",
     "iopub.status.busy": "2023-08-27T20:39:09.695385Z",
     "iopub.status.idle": "2023-08-27T20:39:09.700163Z",
     "shell.execute_reply": "2023-08-27T20:39:09.699496Z"
    },
    "papermill": {
     "duration": 0.013444,
     "end_time": "2023-08-27T20:39:09.701871",
     "exception": false,
     "start_time": "2023-08-27T20:39:09.688427",
     "status": "completed"
    },
    "tags": []
   },
   "outputs": [],
   "source": [
    "flowers = \"pink primrose,hard-leaved pocket orchid,canterbury bells,sweet pea,english marigold,tiger lily,moon orchid,bird of paradise,monkshood,globe thistle\""
   ]
  },
  {
   "cell_type": "markdown",
   "id": "9ad520c3",
   "metadata": {
    "papermill": {
     "duration": 0.005155,
     "end_time": "2023-08-27T20:39:09.712728",
     "exception": false,
     "start_time": "2023-08-27T20:39:09.707573",
     "status": "completed"
    },
    "tags": []
   },
   "source": [
    "You can actually use Python to quickly turn this string into a list with `.split()`.  In the parentheses, we need to provide the character should be used to mark the end of one list item and the beginning of another, and enclose it in quotation marks.  In this case, that character is a comma."
   ]
  },
  {
   "cell_type": "code",
   "execution_count": 7,
   "id": "2de0b377",
   "metadata": {
    "execution": {
     "iopub.execute_input": "2023-08-27T20:39:09.725330Z",
     "iopub.status.busy": "2023-08-27T20:39:09.724959Z",
     "iopub.status.idle": "2023-08-27T20:39:09.730845Z",
     "shell.execute_reply": "2023-08-27T20:39:09.729224Z"
    },
    "papermill": {
     "duration": 0.015189,
     "end_time": "2023-08-27T20:39:09.733302",
     "exception": false,
     "start_time": "2023-08-27T20:39:09.718113",
     "status": "completed"
    },
    "tags": []
   },
   "outputs": [
    {
     "name": "stdout",
     "output_type": "stream",
     "text": [
      "['pink primrose', 'hard-leaved pocket orchid', 'canterbury bells', 'sweet pea', 'english marigold', 'tiger lily', 'moon orchid', 'bird of paradise', 'monkshood', 'globe thistle']\n"
     ]
    }
   ],
   "source": [
    " print(flowers.split(\",\"))"
   ]
  },
  {
   "cell_type": "markdown",
   "id": "43632fdb",
   "metadata": {
    "papermill": {
     "duration": 0.006224,
     "end_time": "2023-08-27T20:39:09.745340",
     "exception": false,
     "start_time": "2023-08-27T20:39:09.739116",
     "status": "completed"
    },
    "tags": []
   },
   "source": [
    "Now it is your turn to try this out!  Create two Python lists:\n",
    "- `letters` should be a Python list where each entry is an uppercase letter of the English alphabet.  For instance, the first two entries should be `\"A\"` and `\"B\"`, and the final two entries should be `\"Y\"` and `\"Z\"`.  Use the string `alphabet` to create this list.\n",
    "- `address` should be a Python list where each row in `address` is a different item in the list.  Currently, each row in `address` is separated by a comma. "
   ]
  },
  {
   "cell_type": "code",
   "execution_count": 8,
   "id": "1c30bfec",
   "metadata": {
    "execution": {
     "iopub.execute_input": "2023-08-27T20:39:09.759007Z",
     "iopub.status.busy": "2023-08-27T20:39:09.758626Z",
     "iopub.status.idle": "2023-08-27T20:39:09.766664Z",
     "shell.execute_reply": "2023-08-27T20:39:09.765520Z"
    },
    "papermill": {
     "duration": 0.018709,
     "end_time": "2023-08-27T20:39:09.770039",
     "exception": false,
     "start_time": "2023-08-27T20:39:09.751330",
     "status": "completed"
    },
    "tags": []
   },
   "outputs": [
    {
     "data": {
      "application/javascript": [
       "parent.postMessage({\"jupyterEvent\": \"custom.exercise_interaction\", \"data\": {\"outcomeType\": 4, \"interactionType\": 1, \"questionType\": 1, \"questionId\": \"3_SplitString\", \"learnToolsVersion\": \"0.3.4\", \"valueTowardsCompletion\": 0.0, \"failureMessage\": \"\", \"exceptionClass\": \"\", \"trace\": \"\"}}, \"*\")"
      ],
      "text/plain": [
       "<IPython.core.display.Javascript object>"
      ]
     },
     "metadata": {},
     "output_type": "display_data"
    },
    {
     "data": {
      "text/markdown": [
       "<span style=\"color:#ccaa33\">Check:</span> When you've updated the starter code, `check()` will tell you whether your code is correct. You need to update the code that creates variables `letters`, `formatted_address`"
      ],
      "text/plain": [
       "Check: When you've updated the starter code, `check()` will tell you whether your code is correct. You need to update the code that creates variables `letters`, `formatted_address`"
      ]
     },
     "metadata": {},
     "output_type": "display_data"
    }
   ],
   "source": [
    "# DO not change: Define two Python strings\n",
    "alphabet = \"A.B.C.D.E.F.G.H.I.J.K.L.M.N.O.P.Q.R.S.T.U.V.W.X.Y.Z\"\n",
    "address = \"Mr. H. Potter,The cupboard under the Stairs,4 Privet Drive,Little Whinging,Surrey\"\n",
    "\n",
    "# TODO: Convert strings into Python lists\n",
    "letters = ____\n",
    "formatted_address = ____\n",
    "\n",
    "# Do not change: Check your answer\n",
    "q3.check()"
   ]
  },
  {
   "cell_type": "code",
   "execution_count": 9,
   "id": "882cb4f8",
   "metadata": {
    "execution": {
     "iopub.execute_input": "2023-08-27T20:39:09.784942Z",
     "iopub.status.busy": "2023-08-27T20:39:09.784592Z",
     "iopub.status.idle": "2023-08-27T20:39:09.790323Z",
     "shell.execute_reply": "2023-08-27T20:39:09.788548Z"
    },
    "papermill": {
     "duration": 0.016312,
     "end_time": "2023-08-27T20:39:09.792920",
     "exception": false,
     "start_time": "2023-08-27T20:39:09.776608",
     "status": "completed"
    },
    "tags": []
   },
   "outputs": [],
   "source": [
    "# Uncomment to see a hint\n",
    "#q3.hint()\n",
    "\n",
    "# Uncomment to see the solution\n",
    "#q3.solution()"
   ]
  },
  {
   "cell_type": "markdown",
   "id": "96a94c6a",
   "metadata": {
    "papermill": {
     "duration": 0.006918,
     "end_time": "2023-08-27T20:39:09.808686",
     "exception": false,
     "start_time": "2023-08-27T20:39:09.801768",
     "status": "completed"
    },
    "tags": []
   },
   "source": [
    "# Question 4\n",
    "\n",
    "In the Python course, you'll learn all about **list comprehensions**, which allow you to create a list based on the values in another list.  In this question, you'll get a brief preview of how they work.\n",
    "\n",
    "Say we're working with the list below."
   ]
  },
  {
   "cell_type": "code",
   "execution_count": 10,
   "id": "ddc8f018",
   "metadata": {
    "execution": {
     "iopub.execute_input": "2023-08-27T20:39:09.825993Z",
     "iopub.status.busy": "2023-08-27T20:39:09.825573Z",
     "iopub.status.idle": "2023-08-27T20:39:09.829842Z",
     "shell.execute_reply": "2023-08-27T20:39:09.829035Z"
    },
    "papermill": {
     "duration": 0.014853,
     "end_time": "2023-08-27T20:39:09.831934",
     "exception": false,
     "start_time": "2023-08-27T20:39:09.817081",
     "status": "completed"
    },
    "tags": []
   },
   "outputs": [],
   "source": [
    "test_ratings = [1, 2, 3, 4, 5]"
   ]
  },
  {
   "cell_type": "markdown",
   "id": "2a9d02e2",
   "metadata": {
    "papermill": {
     "duration": 0.005635,
     "end_time": "2023-08-27T20:39:09.844369",
     "exception": false,
     "start_time": "2023-08-27T20:39:09.838734",
     "status": "completed"
    },
    "tags": []
   },
   "source": [
    "Then we can use this list (`test_ratings`) to create a new list (`test_liked`) where each item has been turned into a boolean, depending on whether or not the item is greater than or equal to four."
   ]
  },
  {
   "cell_type": "code",
   "execution_count": 11,
   "id": "b4957cc5",
   "metadata": {
    "execution": {
     "iopub.execute_input": "2023-08-27T20:39:09.859220Z",
     "iopub.status.busy": "2023-08-27T20:39:09.858772Z",
     "iopub.status.idle": "2023-08-27T20:39:09.865034Z",
     "shell.execute_reply": "2023-08-27T20:39:09.863137Z"
    },
    "papermill": {
     "duration": 0.016844,
     "end_time": "2023-08-27T20:39:09.867217",
     "exception": false,
     "start_time": "2023-08-27T20:39:09.850373",
     "status": "completed"
    },
    "tags": []
   },
   "outputs": [
    {
     "name": "stdout",
     "output_type": "stream",
     "text": [
      "[False, False, False, True, True]\n"
     ]
    }
   ],
   "source": [
    "test_liked = [i>=4 for i in test_ratings]\n",
    "print(test_liked)"
   ]
  },
  {
   "cell_type": "markdown",
   "id": "e070a600",
   "metadata": {
    "papermill": {
     "duration": 0.006525,
     "end_time": "2023-08-27T20:39:09.882280",
     "exception": false,
     "start_time": "2023-08-27T20:39:09.875755",
     "status": "completed"
    },
    "tags": []
   },
   "source": [
    "In this question, you'll use this list comprehension to define a function `percentage_liked()` that takes one argument as input:\n",
    "- `ratings`: list of ratings that people gave to a movie, where each rating is a number between 1-5, inclusive\n",
    "\n",
    "We say someone liked the movie, if they gave a rating of either 4 or 5.  Your function should return the percentage of people who liked the movie.\n",
    "\n",
    "For instance, if we supply a value of `[1, 2, 3, 4, 5, 4, 5, 1]`, then 50% (4/8) of the people liked the movie, and the function should return `0.5`.\n",
    "\n",
    "Part of the function has already been completed for you.  You need only use `list_liked` to calculate `percentage_liked`."
   ]
  },
  {
   "cell_type": "code",
   "execution_count": 12,
   "id": "3871ad7c",
   "metadata": {
    "execution": {
     "iopub.execute_input": "2023-08-27T20:39:09.901857Z",
     "iopub.status.busy": "2023-08-27T20:39:09.900464Z",
     "iopub.status.idle": "2023-08-27T20:39:09.910667Z",
     "shell.execute_reply": "2023-08-27T20:39:09.909261Z"
    },
    "papermill": {
     "duration": 0.023231,
     "end_time": "2023-08-27T20:39:09.914694",
     "exception": false,
     "start_time": "2023-08-27T20:39:09.891463",
     "status": "completed"
    },
    "tags": []
   },
   "outputs": [
    {
     "data": {
      "application/javascript": [
       "parent.postMessage({\"jupyterEvent\": \"custom.exercise_interaction\", \"data\": {\"outcomeType\": 2, \"failureMessage\": \"Expected return value of `0.5` given `ratings=[1, 2, 3, 4, 5, 4, 5, 1]`, but got `<learntools.core.constants.PlaceholderValue object at 0x78057ccc5900>` instead.\", \"interactionType\": 1, \"questionType\": 2, \"questionId\": \"4_PercentageLiked\", \"learnToolsVersion\": \"0.3.4\", \"valueTowardsCompletion\": 0.0, \"exceptionClass\": \"\", \"trace\": \"\"}}, \"*\")"
      ],
      "text/plain": [
       "<IPython.core.display.Javascript object>"
      ]
     },
     "metadata": {},
     "output_type": "display_data"
    },
    {
     "data": {
      "text/markdown": [
       "<span style=\"color:#cc3333\">Incorrect:</span> Expected return value of `0.5` given `ratings=[1, 2, 3, 4, 5, 4, 5, 1]`, but got `<learntools.core.constants.PlaceholderValue object at 0x78057ccc5900>` instead."
      ],
      "text/plain": [
       "Incorrect: Expected return value of `0.5` given `ratings=[1, 2, 3, 4, 5, 4, 5, 1]`, but got `<learntools.core.constants.PlaceholderValue object at 0x78057ccc5900>` instead."
      ]
     },
     "metadata": {},
     "output_type": "display_data"
    }
   ],
   "source": [
    "\n",
    "def percentage_liked(ratings):\n",
    "    list_liked = [i>=4 for i in ratings]\n",
    "    # TODO: Complete the function\n",
    "    percentage_liked = ____\n",
    "    return percentage_liked\n",
    "\n",
    "# Do not change: should return 0.5\n",
    "percentage_liked([1, 2, 3, 4, 5, 4, 5, 1])\n",
    "\n",
    "# Do not change: Check your answer\n",
    "q4.check()"
   ]
  },
  {
   "cell_type": "code",
   "execution_count": 13,
   "id": "480719f8",
   "metadata": {
    "execution": {
     "iopub.execute_input": "2023-08-27T20:39:09.933235Z",
     "iopub.status.busy": "2023-08-27T20:39:09.932774Z",
     "iopub.status.idle": "2023-08-27T20:39:09.937403Z",
     "shell.execute_reply": "2023-08-27T20:39:09.936130Z"
    },
    "papermill": {
     "duration": 0.01729,
     "end_time": "2023-08-27T20:39:09.940119",
     "exception": false,
     "start_time": "2023-08-27T20:39:09.922829",
     "status": "completed"
    },
    "tags": []
   },
   "outputs": [],
   "source": [
    "# Uncomment to see a hint\n",
    "#q4.hint()\n",
    "\n",
    "# Uncomment to see the solution\n",
    "#q4.solution()"
   ]
  },
  {
   "cell_type": "markdown",
   "id": "d37a077b",
   "metadata": {
    "papermill": {
     "duration": 0.006639,
     "end_time": "2023-08-27T20:39:09.955512",
     "exception": false,
     "start_time": "2023-08-27T20:39:09.948873",
     "status": "completed"
    },
    "tags": []
   },
   "source": [
    "# 🌶️ Question 5\n",
    " \n",
    "Say you're doing analytics for a website.  You need to write a function that returns the percentage growth in the total number of users relative to a specified number of years ago.\n",
    "\n",
    "Your function `percentage_growth()` should take two arguments as input:\n",
    "- `num_users` = Python list with the total number of users each year.  So `num_users[0]` is the total number of users in the first year, `num_users[1]` is the total number of users in the second year, and so on.  The final entry in the list gives the total number of users in the most recently completed year.\n",
    "- `yrs_ago` = number of years to go back in time when calculating the growth percentage\n",
    "\n",
    "For instance, say `num_users = [920344, 1043553, 1204334, 1458996, 1503323, 1593432, 1623463, 1843064, 1930992, 2001078]`.\n",
    "- if `yrs_ago = 1`, we want the function to return a value of about `0.036`. This corresponds to a percentage growth of approximately 3.6%, calculated as (2001078 - 1930992)/1930992.\n",
    "- if `years_ago = 7`, we would want to return approximately `0.66`.  This corresponds to a percentage growth of approximately 66%, calculated as (2001078 - 1204334)/1204334.\n",
    "\n",
    "Your coworker sent you a draft of a function, but it doesn't seem to be doing the correct calculation.  Can you figure out what has gone wrong and make the needed changes?"
   ]
  },
  {
   "cell_type": "code",
   "execution_count": 14,
   "id": "f7cffb28",
   "metadata": {
    "execution": {
     "iopub.execute_input": "2023-08-27T20:39:09.970374Z",
     "iopub.status.busy": "2023-08-27T20:39:09.969995Z",
     "iopub.status.idle": "2023-08-27T20:39:09.981695Z",
     "shell.execute_reply": "2023-08-27T20:39:09.980414Z"
    },
    "papermill": {
     "duration": 0.022264,
     "end_time": "2023-08-27T20:39:09.984263",
     "exception": false,
     "start_time": "2023-08-27T20:39:09.961999",
     "status": "completed"
    },
    "tags": []
   },
   "outputs": [
    {
     "name": "stdout",
     "output_type": "stream",
     "text": [
      "0.0\n",
      "0.2807272117129434\n"
     ]
    },
    {
     "data": {
      "application/javascript": [
       "parent.postMessage({\"jupyterEvent\": \"custom.exercise_interaction\", \"data\": {\"outcomeType\": 2, \"failureMessage\": \"Expected return value of `0.03629533421163837` given `num_users=[920344, 1043553, 1204334, 1458996, 1503323, 1593432, 1623463, 1843064, 1930992, 2001078]`, `yrs_ago=1`, but got `0.0` instead.\", \"interactionType\": 1, \"questionType\": 2, \"questionId\": \"5_WebsiteAnalytics\", \"learnToolsVersion\": \"0.3.4\", \"valueTowardsCompletion\": 0.0, \"exceptionClass\": \"\", \"trace\": \"\"}}, \"*\")"
      ],
      "text/plain": [
       "<IPython.core.display.Javascript object>"
      ]
     },
     "metadata": {},
     "output_type": "display_data"
    },
    {
     "data": {
      "text/markdown": [
       "<span style=\"color:#cc3333\">Incorrect:</span> Expected return value of `0.03629533421163837` given `num_users=[920344, 1043553, 1204334, 1458996, 1503323, 1593432, 1623463, 1843064, 1930992, 2001078]`, `yrs_ago=1`, but got `0.0` instead."
      ],
      "text/plain": [
       "Incorrect: Expected return value of `0.03629533421163837` given `num_users=[920344, 1043553, 1204334, 1458996, 1503323, 1593432, 1623463, 1843064, 1930992, 2001078]`, `yrs_ago=1`, but got `0.0` instead."
      ]
     },
     "metadata": {},
     "output_type": "display_data"
    }
   ],
   "source": [
    "# TODO: Edit the function\n",
    "def percentage_growth(num_users, yrs_ago):\n",
    "    growth = (num_users[len(num_users)-1] - num_users[len(num_users)-yrs_ago])/num_users[len(num_users)-2]\n",
    "    return growth\n",
    "\n",
    "# Do not change: Variable for calculating some test examples\n",
    "num_users_test = [920344, 1043553, 1204334, 1458996, 1503323, 1593432, 1623463, 1843064, 1930992, 2001078]\n",
    "\n",
    "# Do not change: Should return .036\n",
    "print(percentage_growth(num_users_test, 1))\n",
    "\n",
    "# Do not change: Should return 0.66\n",
    "print(percentage_growth(num_users_test, 7))\n",
    "\n",
    "# Do not change: Check your answer\n",
    "q5.check()"
   ]
  },
  {
   "cell_type": "code",
   "execution_count": 15,
   "id": "5d665b2d",
   "metadata": {
    "execution": {
     "iopub.execute_input": "2023-08-27T20:39:09.999799Z",
     "iopub.status.busy": "2023-08-27T20:39:09.999466Z",
     "iopub.status.idle": "2023-08-27T20:39:10.003052Z",
     "shell.execute_reply": "2023-08-27T20:39:10.002210Z"
    },
    "papermill": {
     "duration": 0.013712,
     "end_time": "2023-08-27T20:39:10.004813",
     "exception": false,
     "start_time": "2023-08-27T20:39:09.991101",
     "status": "completed"
    },
    "tags": []
   },
   "outputs": [],
   "source": [
    "# Uncomment to see a hint\n",
    "#q5.hint()\n",
    "\n",
    "# Uncomment to see the solution\n",
    "#q5.solution()"
   ]
  },
  {
   "cell_type": "markdown",
   "id": "6de4dbbf",
   "metadata": {
    "papermill": {
     "duration": 0.007516,
     "end_time": "2023-08-27T20:39:10.019556",
     "exception": false,
     "start_time": "2023-08-27T20:39:10.012040",
     "status": "completed"
    },
    "tags": []
   },
   "source": [
    "# Congratulations!\n",
    "\n",
    "Congratulations for finishing the Intro to Programming course!  You should be proud of your very first steps with learning programming.  As next steps, we recommend taking:\n",
    "- the **[Python course](http://www.kaggle.com/learn/python)**, and \n",
    "- the **[Intro to Machine Learning course](https://www.kaggle.com/learn/intro-to-machine-learning)**."
   ]
  },
  {
   "cell_type": "markdown",
   "id": "cbc0a8f8",
   "metadata": {
    "papermill": {
     "duration": 0.006852,
     "end_time": "2023-08-27T20:39:10.033409",
     "exception": false,
     "start_time": "2023-08-27T20:39:10.026557",
     "status": "completed"
    },
    "tags": []
   },
   "source": [
    "---\n",
    "\n",
    "\n",
    "\n",
    "\n",
    "*Have questions or comments? Visit the [course discussion forum](https://www.kaggle.com/learn/intro-to-programming/discussion) to chat with other learners.*"
   ]
  }
 ],
 "metadata": {
  "kernelspec": {
   "display_name": "Python 3",
   "language": "python",
   "name": "python3"
  },
  "language_info": {
   "codemirror_mode": {
    "name": "ipython",
    "version": 3
   },
   "file_extension": ".py",
   "mimetype": "text/x-python",
   "name": "python",
   "nbconvert_exporter": "python",
   "pygments_lexer": "ipython3",
   "version": "3.10.12"
  },
  "papermill": {
   "default_parameters": {},
   "duration": 10.781151,
   "end_time": "2023-08-27T20:39:10.861375",
   "environment_variables": {},
   "exception": null,
   "input_path": "__notebook__.ipynb",
   "output_path": "__notebook__.ipynb",
   "parameters": {},
   "start_time": "2023-08-27T20:39:00.080224",
   "version": "2.4.0"
  }
 },
 "nbformat": 4,
 "nbformat_minor": 5
}
