{
 "cells": [
  {
   "cell_type": "markdown",
   "id": "4581b941",
   "metadata": {
    "papermill": {
     "duration": 0.011414,
     "end_time": "2023-08-27T20:40:32.193915",
     "exception": false,
     "start_time": "2023-08-27T20:40:32.182501",
     "status": "completed"
    },
    "tags": []
   },
   "source": [
    "**This notebook is an exercise in the [Intro to Programming](https://www.kaggle.com/learn/intro-to-programming) course.  You can reference the tutorial at [this link](https://www.kaggle.com/alexisbcook/intro-to-lists).**\n",
    "\n",
    "---\n"
   ]
  },
  {
   "cell_type": "markdown",
   "id": "b8be4f71",
   "metadata": {
    "papermill": {
     "duration": 0.008401,
     "end_time": "2023-08-27T20:40:32.213101",
     "exception": false,
     "start_time": "2023-08-27T20:40:32.204700",
     "status": "completed"
    },
    "tags": []
   },
   "source": [
    "In the tutorial, you learned how to define and modify Python lists.  In this exercise, you will use your new knowledge to solve several problems.\n",
    "\n",
    "# Set up the notebook\n",
    "\n",
    "Run the next code cell without changes to set up the notebook."
   ]
  },
  {
   "cell_type": "code",
   "execution_count": 1,
   "id": "f513cf7c",
   "metadata": {
    "execution": {
     "iopub.execute_input": "2023-08-27T20:40:32.230347Z",
     "iopub.status.busy": "2023-08-27T20:40:32.229947Z",
     "iopub.status.idle": "2023-08-27T20:40:32.295293Z",
     "shell.execute_reply": "2023-08-27T20:40:32.294099Z"
    },
    "papermill": {
     "duration": 0.077377,
     "end_time": "2023-08-27T20:40:32.298168",
     "exception": false,
     "start_time": "2023-08-27T20:40:32.220791",
     "status": "completed"
    },
    "tags": []
   },
   "outputs": [
    {
     "name": "stdout",
     "output_type": "stream",
     "text": [
      "Setup complete.\n"
     ]
    }
   ],
   "source": [
    "from learntools.core import binder\n",
    "binder.bind(globals())\n",
    "from learntools.intro_to_programming.ex5 import *\n",
    "print('Setup complete.')"
   ]
  },
  {
   "cell_type": "markdown",
   "id": "82f889bf",
   "metadata": {
    "papermill": {
     "duration": 0.010448,
     "end_time": "2023-08-27T20:40:32.318736",
     "exception": false,
     "start_time": "2023-08-27T20:40:32.308288",
     "status": "completed"
    },
    "tags": []
   },
   "source": [
    "# Question 1\n",
    "\n",
    "You own a restaurant with five food dishes, organized in the Python list `menu` below.  One day, you decide to:\n",
    "- remove bean soup (`'bean soup'`) from the menu, and\n",
    "- add roasted beet salad (`'roasted beet salad'`) to the menu.\n",
    "\n",
    "Implement this change to the list below.  While completing this task, \n",
    "- do not change the line that creates the `menu` list.  \n",
    "- your answer should use `.remove()` and `.append()`.  "
   ]
  },
  {
   "cell_type": "code",
   "execution_count": 2,
   "id": "d76d1925",
   "metadata": {
    "execution": {
     "iopub.execute_input": "2023-08-27T20:40:32.340084Z",
     "iopub.status.busy": "2023-08-27T20:40:32.338851Z",
     "iopub.status.idle": "2023-08-27T20:40:32.351061Z",
     "shell.execute_reply": "2023-08-27T20:40:32.349811Z"
    },
    "papermill": {
     "duration": 0.024649,
     "end_time": "2023-08-27T20:40:32.353507",
     "exception": false,
     "start_time": "2023-08-27T20:40:32.328858",
     "status": "completed"
    },
    "tags": []
   },
   "outputs": [
    {
     "data": {
      "application/javascript": [
       "parent.postMessage({\"jupyterEvent\": \"custom.exercise_interaction\", \"data\": {\"outcomeType\": 1, \"valueTowardsCompletion\": 0.2, \"interactionType\": 1, \"questionType\": 2, \"questionId\": \"1_FoodMenu\", \"learnToolsVersion\": \"0.3.4\", \"failureMessage\": \"\", \"exceptionClass\": \"\", \"trace\": \"\"}}, \"*\")"
      ],
      "text/plain": [
       "<IPython.core.display.Javascript object>"
      ]
     },
     "metadata": {},
     "output_type": "display_data"
    },
    {
     "data": {
      "text/markdown": [
       "<span style=\"color:#33cc33\">Correct</span>"
      ],
      "text/plain": [
       "Correct"
      ]
     },
     "metadata": {},
     "output_type": "display_data"
    }
   ],
   "source": [
    "# Do not change: Initial menu for your restaurant\n",
    "menu = ['stewed meat with onions', 'bean soup', 'risotto with trout and shrimp',\n",
    "       'fish soup with cream and onion', 'gyro']\n",
    "\n",
    "# TODO: remove 'bean soup', and add 'roasted beet salad' to the end of the menu\n",
    "menu.remove(\"bean soup\")\n",
    "menu.append('roasted beet salad')\n",
    "\n",
    "# Do not change: Check your answer\n",
    "q1.check()"
   ]
  },
  {
   "cell_type": "code",
   "execution_count": 3,
   "id": "9d838cdc",
   "metadata": {
    "execution": {
     "iopub.execute_input": "2023-08-27T20:40:32.372201Z",
     "iopub.status.busy": "2023-08-27T20:40:32.371741Z",
     "iopub.status.idle": "2023-08-27T20:40:32.384624Z",
     "shell.execute_reply": "2023-08-27T20:40:32.383880Z"
    },
    "papermill": {
     "duration": 0.025541,
     "end_time": "2023-08-27T20:40:32.387162",
     "exception": false,
     "start_time": "2023-08-27T20:40:32.361621",
     "status": "completed"
    },
    "tags": []
   },
   "outputs": [
    {
     "data": {
      "application/javascript": [
       "parent.postMessage({\"jupyterEvent\": \"custom.exercise_interaction\", \"data\": {\"interactionType\": 2, \"questionType\": 2, \"questionId\": \"1_FoodMenu\", \"learnToolsVersion\": \"0.3.4\", \"valueTowardsCompletion\": 0.0, \"failureMessage\": \"\", \"exceptionClass\": \"\", \"trace\": \"\", \"outcomeType\": 4}}, \"*\")"
      ],
      "text/plain": [
       "<IPython.core.display.Javascript object>"
      ]
     },
     "metadata": {},
     "output_type": "display_data"
    },
    {
     "data": {
      "text/markdown": [
       "<span style=\"color:#3366cc\">Hint:</span> Here is the original line of code that created the menu: `menu = ['stewed meat with onions', 'bean soup', 'risotto with trout and shrimp', 'fish soup with cream and onion', 'gyro']`.  Use `.append()` to add an item, and use `.remove()` to remove an item."
      ],
      "text/plain": [
       "Hint: Here is the original line of code that created the menu: `menu = ['stewed meat with onions', 'bean soup', 'risotto with trout and shrimp', 'fish soup with cream and onion', 'gyro']`.  Use `.append()` to add an item, and use `.remove()` to remove an item."
      ]
     },
     "metadata": {},
     "output_type": "display_data"
    },
    {
     "data": {
      "application/javascript": [
       "parent.postMessage({\"jupyterEvent\": \"custom.exercise_interaction\", \"data\": {\"interactionType\": 3, \"questionType\": 2, \"questionId\": \"1_FoodMenu\", \"learnToolsVersion\": \"0.3.4\", \"valueTowardsCompletion\": 0.0, \"failureMessage\": \"\", \"exceptionClass\": \"\", \"trace\": \"\", \"outcomeType\": 4}}, \"*\")"
      ],
      "text/plain": [
       "<IPython.core.display.Javascript object>"
      ]
     },
     "metadata": {},
     "output_type": "display_data"
    },
    {
     "data": {
      "text/markdown": [
       "<span style=\"color:#33cc99\">Solution:</span> \n",
       "```python\n",
       "# Do not change: Initial menu for your restaurant\n",
       "menu = ['stewed meat with onions', 'bean soup', 'risotto with trout and shrimp',\n",
       "       'fish soup with cream and onion', 'gyro']\n",
       "\n",
       "# Remove 'bean soup', and add 'roasted beet salad' to the end of the menu\n",
       "menu.remove('bean soup')\n",
       "menu.append('roasted beet salad')\n",
       "\n",
       "```"
      ],
      "text/plain": [
       "Solution: \n",
       "```python\n",
       "# Do not change: Initial menu for your restaurant\n",
       "menu = ['stewed meat with onions', 'bean soup', 'risotto with trout and shrimp',\n",
       "       'fish soup with cream and onion', 'gyro']\n",
       "\n",
       "# Remove 'bean soup', and add 'roasted beet salad' to the end of the menu\n",
       "menu.remove('bean soup')\n",
       "menu.append('roasted beet salad')\n",
       "\n",
       "```"
      ]
     },
     "metadata": {},
     "output_type": "display_data"
    }
   ],
   "source": [
    "# Uncomment to see a hint\n",
    "q1.hint()\n",
    "\n",
    "# Uncomment to see the solution\n",
    "q1.solution()"
   ]
  },
  {
   "cell_type": "markdown",
   "id": "94d4d101",
   "metadata": {
    "papermill": {
     "duration": 0.011602,
     "end_time": "2023-08-27T20:40:32.410942",
     "exception": false,
     "start_time": "2023-08-27T20:40:32.399340",
     "status": "completed"
    },
    "tags": []
   },
   "source": [
    "# Question 2\n",
    "\n",
    "The list `num_customers` contains the number of customers who came into your restaurant every day over the last month (which lasted thirty days).  Fill in values for each of the following:\n",
    "- `avg_first_seven` - average number of customers who visited in the first seven days\n",
    "- `avg_last_seven` - average number of customers who visited in the last seven days\n",
    "- `max_month` - number of customers on the day that got the most customers in the last month\n",
    "- `min_month` - number of customers on the day that got the least customers in the last month\n",
    "\n",
    "Answer this question by writing code.  For instance, if you have to find the minimum value in a list, use `min()` instead of scanning for the smallest value and directly filling in a number."
   ]
  },
  {
   "cell_type": "code",
   "execution_count": 4,
   "id": "4864f5b5",
   "metadata": {
    "execution": {
     "iopub.execute_input": "2023-08-27T20:40:32.438738Z",
     "iopub.status.busy": "2023-08-27T20:40:32.437929Z",
     "iopub.status.idle": "2023-08-27T20:40:32.449386Z",
     "shell.execute_reply": "2023-08-27T20:40:32.448299Z"
    },
    "papermill": {
     "duration": 0.034199,
     "end_time": "2023-08-27T20:40:32.457147",
     "exception": false,
     "start_time": "2023-08-27T20:40:32.422948",
     "status": "completed"
    },
    "tags": []
   },
   "outputs": [
    {
     "data": {
      "application/javascript": [
       "parent.postMessage({\"jupyterEvent\": \"custom.exercise_interaction\", \"data\": {\"outcomeType\": 4, \"interactionType\": 1, \"questionType\": 1, \"questionId\": \"2_NumCustomers\", \"learnToolsVersion\": \"0.3.4\", \"valueTowardsCompletion\": 0.0, \"failureMessage\": \"\", \"exceptionClass\": \"\", \"trace\": \"\"}}, \"*\")"
      ],
      "text/plain": [
       "<IPython.core.display.Javascript object>"
      ]
     },
     "metadata": {},
     "output_type": "display_data"
    },
    {
     "data": {
      "text/markdown": [
       "<span style=\"color:#ccaa33\">Check:</span> When you've updated the starter code, `check()` will tell you whether your code is correct. You need to update the code that creates variables `avg_first_seven`, `avg_last_seven`, `max_month`, `min_month`"
      ],
      "text/plain": [
       "Check: When you've updated the starter code, `check()` will tell you whether your code is correct. You need to update the code that creates variables `avg_first_seven`, `avg_last_seven`, `max_month`, `min_month`"
      ]
     },
     "metadata": {},
     "output_type": "display_data"
    }
   ],
   "source": [
    "# Do not change: Number of customers each day for the last month\n",
    "num_customers = [137, 147, 135, 128, 170, 174, 165, 146, 126, 159,\n",
    "                 141, 148, 132, 147, 168, 153, 170, 161, 148, 152,\n",
    "                 141, 151, 131, 149, 164, 163, 143, 143, 166, 171]\n",
    "\n",
    "# TODO: Fill in values for the variables below\n",
    "avg_first_seven = ____ \n",
    "avg_last_seven = ____ \n",
    "max_month = ____\n",
    "min_month = ____\n",
    "\n",
    "# Do not change: Check your answer\n",
    "q2.check()"
   ]
  },
  {
   "cell_type": "code",
   "execution_count": 5,
   "id": "e3f5e250",
   "metadata": {
    "execution": {
     "iopub.execute_input": "2023-08-27T20:40:32.479169Z",
     "iopub.status.busy": "2023-08-27T20:40:32.478473Z",
     "iopub.status.idle": "2023-08-27T20:40:32.483265Z",
     "shell.execute_reply": "2023-08-27T20:40:32.482156Z"
    },
    "papermill": {
     "duration": 0.017439,
     "end_time": "2023-08-27T20:40:32.485444",
     "exception": false,
     "start_time": "2023-08-27T20:40:32.468005",
     "status": "completed"
    },
    "tags": []
   },
   "outputs": [],
   "source": [
    "# Uncomment to see a hint\n",
    "#q2.hint()\n",
    "\n",
    "# Uncomment to see the solution\n",
    "#q2.solution()"
   ]
  },
  {
   "cell_type": "markdown",
   "id": "0e24818d",
   "metadata": {
    "papermill": {
     "duration": 0.009169,
     "end_time": "2023-08-27T20:40:32.503969",
     "exception": false,
     "start_time": "2023-08-27T20:40:32.494800",
     "status": "completed"
    },
    "tags": []
   },
   "source": [
    "# Question 3\n",
    "\n",
    "In the tutorial, we gave an example of a Python string with information that was better as a list."
   ]
  },
  {
   "cell_type": "code",
   "execution_count": 6,
   "id": "3bc38876",
   "metadata": {
    "execution": {
     "iopub.execute_input": "2023-08-27T20:40:32.525026Z",
     "iopub.status.busy": "2023-08-27T20:40:32.524338Z",
     "iopub.status.idle": "2023-08-27T20:40:32.529294Z",
     "shell.execute_reply": "2023-08-27T20:40:32.528479Z"
    },
    "papermill": {
     "duration": 0.017851,
     "end_time": "2023-08-27T20:40:32.531426",
     "exception": false,
     "start_time": "2023-08-27T20:40:32.513575",
     "status": "completed"
    },
    "tags": []
   },
   "outputs": [],
   "source": [
    "flowers = \"pink primrose,hard-leaved pocket orchid,canterbury bells,sweet pea,english marigold,tiger lily,moon orchid,bird of paradise,monkshood,globe thistle\""
   ]
  },
  {
   "cell_type": "markdown",
   "id": "8c7e8573",
   "metadata": {
    "papermill": {
     "duration": 0.009091,
     "end_time": "2023-08-27T20:40:32.549717",
     "exception": false,
     "start_time": "2023-08-27T20:40:32.540626",
     "status": "completed"
    },
    "tags": []
   },
   "source": [
    "You can actually use Python to quickly turn this string into a list with `.split()`.  In the parentheses, we need to provide the character should be used to mark the end of one list item and the beginning of another, and enclose it in quotation marks.  In this case, that character is a comma."
   ]
  },
  {
   "cell_type": "code",
   "execution_count": 7,
   "id": "30677884",
   "metadata": {
    "execution": {
     "iopub.execute_input": "2023-08-27T20:40:32.574782Z",
     "iopub.status.busy": "2023-08-27T20:40:32.573985Z",
     "iopub.status.idle": "2023-08-27T20:40:32.579489Z",
     "shell.execute_reply": "2023-08-27T20:40:32.578666Z"
    },
    "papermill": {
     "duration": 0.024134,
     "end_time": "2023-08-27T20:40:32.583553",
     "exception": false,
     "start_time": "2023-08-27T20:40:32.559419",
     "status": "completed"
    },
    "tags": []
   },
   "outputs": [
    {
     "name": "stdout",
     "output_type": "stream",
     "text": [
      "['pink primrose', 'hard-leaved pocket orchid', 'canterbury bells', 'sweet pea', 'english marigold', 'tiger lily', 'moon orchid', 'bird of paradise', 'monkshood', 'globe thistle']\n"
     ]
    }
   ],
   "source": [
    " print(flowers.split(\",\"))"
   ]
  },
  {
   "cell_type": "markdown",
   "id": "95c20bdf",
   "metadata": {
    "papermill": {
     "duration": 0.009714,
     "end_time": "2023-08-27T20:40:32.604864",
     "exception": false,
     "start_time": "2023-08-27T20:40:32.595150",
     "status": "completed"
    },
    "tags": []
   },
   "source": [
    "Now it is your turn to try this out!  Create two Python lists:\n",
    "- `letters` should be a Python list where each entry is an uppercase letter of the English alphabet.  For instance, the first two entries should be `\"A\"` and `\"B\"`, and the final two entries should be `\"Y\"` and `\"Z\"`.  Use the string `alphabet` to create this list.\n",
    "- `address` should be a Python list where each row in `address` is a different item in the list.  Currently, each row in `address` is separated by a comma. "
   ]
  },
  {
   "cell_type": "code",
   "execution_count": 8,
   "id": "8e82fbb8",
   "metadata": {
    "execution": {
     "iopub.execute_input": "2023-08-27T20:40:32.626305Z",
     "iopub.status.busy": "2023-08-27T20:40:32.625326Z",
     "iopub.status.idle": "2023-08-27T20:40:32.636041Z",
     "shell.execute_reply": "2023-08-27T20:40:32.634997Z"
    },
    "papermill": {
     "duration": 0.024012,
     "end_time": "2023-08-27T20:40:32.638259",
     "exception": false,
     "start_time": "2023-08-27T20:40:32.614247",
     "status": "completed"
    },
    "tags": []
   },
   "outputs": [
    {
     "data": {
      "application/javascript": [
       "parent.postMessage({\"jupyterEvent\": \"custom.exercise_interaction\", \"data\": {\"outcomeType\": 4, \"interactionType\": 1, \"questionType\": 1, \"questionId\": \"3_SplitString\", \"learnToolsVersion\": \"0.3.4\", \"valueTowardsCompletion\": 0.0, \"failureMessage\": \"\", \"exceptionClass\": \"\", \"trace\": \"\"}}, \"*\")"
      ],
      "text/plain": [
       "<IPython.core.display.Javascript object>"
      ]
     },
     "metadata": {},
     "output_type": "display_data"
    },
    {
     "data": {
      "text/markdown": [
       "<span style=\"color:#ccaa33\">Check:</span> When you've updated the starter code, `check()` will tell you whether your code is correct. You need to update the code that creates variables `letters`, `formatted_address`"
      ],
      "text/plain": [
       "Check: When you've updated the starter code, `check()` will tell you whether your code is correct. You need to update the code that creates variables `letters`, `formatted_address`"
      ]
     },
     "metadata": {},
     "output_type": "display_data"
    }
   ],
   "source": [
    "# DO not change: Define two Python strings\n",
    "alphabet = \"A.B.C.D.E.F.G.H.I.J.K.L.M.N.O.P.Q.R.S.T.U.V.W.X.Y.Z\"\n",
    "address = \"Mr. H. Potter,The cupboard under the Stairs,4 Privet Drive,Little Whinging,Surrey\"\n",
    "\n",
    "# TODO: Convert strings into Python lists\n",
    "letters = ____\n",
    "formatted_address = ____\n",
    "\n",
    "# Do not change: Check your answer\n",
    "q3.check()"
   ]
  },
  {
   "cell_type": "code",
   "execution_count": 9,
   "id": "2eac9db6",
   "metadata": {
    "execution": {
     "iopub.execute_input": "2023-08-27T20:40:32.660386Z",
     "iopub.status.busy": "2023-08-27T20:40:32.659552Z",
     "iopub.status.idle": "2023-08-27T20:40:32.664957Z",
     "shell.execute_reply": "2023-08-27T20:40:32.663796Z"
    },
    "papermill": {
     "duration": 0.019487,
     "end_time": "2023-08-27T20:40:32.667561",
     "exception": false,
     "start_time": "2023-08-27T20:40:32.648074",
     "status": "completed"
    },
    "tags": []
   },
   "outputs": [],
   "source": [
    "# Uncomment to see a hint\n",
    "#q3.hint()\n",
    "\n",
    "# Uncomment to see the solution\n",
    "#q3.solution()"
   ]
  },
  {
   "cell_type": "markdown",
   "id": "7aea31d1",
   "metadata": {
    "papermill": {
     "duration": 0.009564,
     "end_time": "2023-08-27T20:40:32.687210",
     "exception": false,
     "start_time": "2023-08-27T20:40:32.677646",
     "status": "completed"
    },
    "tags": []
   },
   "source": [
    "# Question 4\n",
    "\n",
    "In the Python course, you'll learn all about **list comprehensions**, which allow you to create a list based on the values in another list.  In this question, you'll get a brief preview of how they work.\n",
    "\n",
    "Say we're working with the list below."
   ]
  },
  {
   "cell_type": "code",
   "execution_count": 10,
   "id": "674940a6",
   "metadata": {
    "execution": {
     "iopub.execute_input": "2023-08-27T20:40:32.709355Z",
     "iopub.status.busy": "2023-08-27T20:40:32.708593Z",
     "iopub.status.idle": "2023-08-27T20:40:32.713663Z",
     "shell.execute_reply": "2023-08-27T20:40:32.712889Z"
    },
    "papermill": {
     "duration": 0.018977,
     "end_time": "2023-08-27T20:40:32.716001",
     "exception": false,
     "start_time": "2023-08-27T20:40:32.697024",
     "status": "completed"
    },
    "tags": []
   },
   "outputs": [],
   "source": [
    "test_ratings = [1, 2, 3, 4, 5]"
   ]
  },
  {
   "cell_type": "markdown",
   "id": "b80f5525",
   "metadata": {
    "papermill": {
     "duration": 0.009536,
     "end_time": "2023-08-27T20:40:32.735405",
     "exception": false,
     "start_time": "2023-08-27T20:40:32.725869",
     "status": "completed"
    },
    "tags": []
   },
   "source": [
    "Then we can use this list (`test_ratings`) to create a new list (`test_liked`) where each item has been turned into a boolean, depending on whether or not the item is greater than or equal to four."
   ]
  },
  {
   "cell_type": "code",
   "execution_count": 11,
   "id": "25b8c4da",
   "metadata": {
    "execution": {
     "iopub.execute_input": "2023-08-27T20:40:32.757675Z",
     "iopub.status.busy": "2023-08-27T20:40:32.756957Z",
     "iopub.status.idle": "2023-08-27T20:40:32.763105Z",
     "shell.execute_reply": "2023-08-27T20:40:32.762006Z"
    },
    "papermill": {
     "duration": 0.02003,
     "end_time": "2023-08-27T20:40:32.765296",
     "exception": false,
     "start_time": "2023-08-27T20:40:32.745266",
     "status": "completed"
    },
    "tags": []
   },
   "outputs": [
    {
     "name": "stdout",
     "output_type": "stream",
     "text": [
      "[False, False, False, True, True]\n"
     ]
    }
   ],
   "source": [
    "test_liked = [i>=4 for i in test_ratings]\n",
    "print(test_liked)"
   ]
  },
  {
   "cell_type": "markdown",
   "id": "df20d68a",
   "metadata": {
    "papermill": {
     "duration": 0.009748,
     "end_time": "2023-08-27T20:40:32.785316",
     "exception": false,
     "start_time": "2023-08-27T20:40:32.775568",
     "status": "completed"
    },
    "tags": []
   },
   "source": [
    "In this question, you'll use this list comprehension to define a function `percentage_liked()` that takes one argument as input:\n",
    "- `ratings`: list of ratings that people gave to a movie, where each rating is a number between 1-5, inclusive\n",
    "\n",
    "We say someone liked the movie, if they gave a rating of either 4 or 5.  Your function should return the percentage of people who liked the movie.\n",
    "\n",
    "For instance, if we supply a value of `[1, 2, 3, 4, 5, 4, 5, 1]`, then 50% (4/8) of the people liked the movie, and the function should return `0.5`.\n",
    "\n",
    "Part of the function has already been completed for you.  You need only use `list_liked` to calculate `percentage_liked`."
   ]
  },
  {
   "cell_type": "code",
   "execution_count": 12,
   "id": "c0f9e802",
   "metadata": {
    "execution": {
     "iopub.execute_input": "2023-08-27T20:40:32.807764Z",
     "iopub.status.busy": "2023-08-27T20:40:32.807075Z",
     "iopub.status.idle": "2023-08-27T20:40:32.817353Z",
     "shell.execute_reply": "2023-08-27T20:40:32.816455Z"
    },
    "papermill": {
     "duration": 0.023995,
     "end_time": "2023-08-27T20:40:32.819527",
     "exception": false,
     "start_time": "2023-08-27T20:40:32.795532",
     "status": "completed"
    },
    "tags": []
   },
   "outputs": [
    {
     "data": {
      "application/javascript": [
       "parent.postMessage({\"jupyterEvent\": \"custom.exercise_interaction\", \"data\": {\"outcomeType\": 2, \"failureMessage\": \"Expected return value of `0.5` given `ratings=[1, 2, 3, 4, 5, 4, 5, 1]`, but got `<learntools.core.constants.PlaceholderValue object at 0x7a11784a58d0>` instead.\", \"interactionType\": 1, \"questionType\": 2, \"questionId\": \"4_PercentageLiked\", \"learnToolsVersion\": \"0.3.4\", \"valueTowardsCompletion\": 0.0, \"exceptionClass\": \"\", \"trace\": \"\"}}, \"*\")"
      ],
      "text/plain": [
       "<IPython.core.display.Javascript object>"
      ]
     },
     "metadata": {},
     "output_type": "display_data"
    },
    {
     "data": {
      "text/markdown": [
       "<span style=\"color:#cc3333\">Incorrect:</span> Expected return value of `0.5` given `ratings=[1, 2, 3, 4, 5, 4, 5, 1]`, but got `<learntools.core.constants.PlaceholderValue object at 0x7a11784a58d0>` instead."
      ],
      "text/plain": [
       "Incorrect: Expected return value of `0.5` given `ratings=[1, 2, 3, 4, 5, 4, 5, 1]`, but got `<learntools.core.constants.PlaceholderValue object at 0x7a11784a58d0>` instead."
      ]
     },
     "metadata": {},
     "output_type": "display_data"
    }
   ],
   "source": [
    "\n",
    "def percentage_liked(ratings):\n",
    "    list_liked = [i>=4 for i in ratings]\n",
    "    # TODO: Complete the function\n",
    "    percentage_liked = ____\n",
    "    return percentage_liked\n",
    "\n",
    "# Do not change: should return 0.5\n",
    "percentage_liked([1, 2, 3, 4, 5, 4, 5, 1])\n",
    "\n",
    "# Do not change: Check your answer\n",
    "q4.check()"
   ]
  },
  {
   "cell_type": "code",
   "execution_count": 13,
   "id": "d662da5b",
   "metadata": {
    "execution": {
     "iopub.execute_input": "2023-08-27T20:40:32.842627Z",
     "iopub.status.busy": "2023-08-27T20:40:32.841901Z",
     "iopub.status.idle": "2023-08-27T20:40:32.846592Z",
     "shell.execute_reply": "2023-08-27T20:40:32.845789Z"
    },
    "papermill": {
     "duration": 0.018922,
     "end_time": "2023-08-27T20:40:32.848808",
     "exception": false,
     "start_time": "2023-08-27T20:40:32.829886",
     "status": "completed"
    },
    "tags": []
   },
   "outputs": [],
   "source": [
    "# Uncomment to see a hint\n",
    "#q4.hint()\n",
    "\n",
    "# Uncomment to see the solution\n",
    "#q4.solution()"
   ]
  },
  {
   "cell_type": "markdown",
   "id": "f51d04c4",
   "metadata": {
    "papermill": {
     "duration": 0.010194,
     "end_time": "2023-08-27T20:40:32.869500",
     "exception": false,
     "start_time": "2023-08-27T20:40:32.859306",
     "status": "completed"
    },
    "tags": []
   },
   "source": [
    "# 🌶️ Question 5\n",
    " \n",
    "Say you're doing analytics for a website.  You need to write a function that returns the percentage growth in the total number of users relative to a specified number of years ago.\n",
    "\n",
    "Your function `percentage_growth()` should take two arguments as input:\n",
    "- `num_users` = Python list with the total number of users each year.  So `num_users[0]` is the total number of users in the first year, `num_users[1]` is the total number of users in the second year, and so on.  The final entry in the list gives the total number of users in the most recently completed year.\n",
    "- `yrs_ago` = number of years to go back in time when calculating the growth percentage\n",
    "\n",
    "For instance, say `num_users = [920344, 1043553, 1204334, 1458996, 1503323, 1593432, 1623463, 1843064, 1930992, 2001078]`.\n",
    "- if `yrs_ago = 1`, we want the function to return a value of about `0.036`. This corresponds to a percentage growth of approximately 3.6%, calculated as (2001078 - 1930992)/1930992.\n",
    "- if `years_ago = 7`, we would want to return approximately `0.66`.  This corresponds to a percentage growth of approximately 66%, calculated as (2001078 - 1204334)/1204334.\n",
    "\n",
    "Your coworker sent you a draft of a function, but it doesn't seem to be doing the correct calculation.  Can you figure out what has gone wrong and make the needed changes?"
   ]
  },
  {
   "cell_type": "code",
   "execution_count": 14,
   "id": "3fbd2585",
   "metadata": {
    "execution": {
     "iopub.execute_input": "2023-08-27T20:40:32.892687Z",
     "iopub.status.busy": "2023-08-27T20:40:32.891954Z",
     "iopub.status.idle": "2023-08-27T20:40:32.904975Z",
     "shell.execute_reply": "2023-08-27T20:40:32.903809Z"
    },
    "papermill": {
     "duration": 0.027299,
     "end_time": "2023-08-27T20:40:32.907248",
     "exception": false,
     "start_time": "2023-08-27T20:40:32.879949",
     "status": "completed"
    },
    "tags": []
   },
   "outputs": [
    {
     "name": "stdout",
     "output_type": "stream",
     "text": [
      "0.0\n",
      "0.2807272117129434\n"
     ]
    },
    {
     "data": {
      "application/javascript": [
       "parent.postMessage({\"jupyterEvent\": \"custom.exercise_interaction\", \"data\": {\"outcomeType\": 2, \"failureMessage\": \"Expected return value of `0.03629533421163837` given `num_users=[920344, 1043553, 1204334, 1458996, 1503323, 1593432, 1623463, 1843064, 1930992, 2001078]`, `yrs_ago=1`, but got `0.0` instead.\", \"interactionType\": 1, \"questionType\": 2, \"questionId\": \"5_WebsiteAnalytics\", \"learnToolsVersion\": \"0.3.4\", \"valueTowardsCompletion\": 0.0, \"exceptionClass\": \"\", \"trace\": \"\"}}, \"*\")"
      ],
      "text/plain": [
       "<IPython.core.display.Javascript object>"
      ]
     },
     "metadata": {},
     "output_type": "display_data"
    },
    {
     "data": {
      "text/markdown": [
       "<span style=\"color:#cc3333\">Incorrect:</span> Expected return value of `0.03629533421163837` given `num_users=[920344, 1043553, 1204334, 1458996, 1503323, 1593432, 1623463, 1843064, 1930992, 2001078]`, `yrs_ago=1`, but got `0.0` instead."
      ],
      "text/plain": [
       "Incorrect: Expected return value of `0.03629533421163837` given `num_users=[920344, 1043553, 1204334, 1458996, 1503323, 1593432, 1623463, 1843064, 1930992, 2001078]`, `yrs_ago=1`, but got `0.0` instead."
      ]
     },
     "metadata": {},
     "output_type": "display_data"
    }
   ],
   "source": [
    "# TODO: Edit the function\n",
    "def percentage_growth(num_users, yrs_ago):\n",
    "    growth = (num_users[len(num_users)-1] - num_users[len(num_users)-yrs_ago])/num_users[len(num_users)-2]\n",
    "    return growth\n",
    "\n",
    "# Do not change: Variable for calculating some test examples\n",
    "num_users_test = [920344, 1043553, 1204334, 1458996, 1503323, 1593432, 1623463, 1843064, 1930992, 2001078]\n",
    "\n",
    "# Do not change: Should return .036\n",
    "print(percentage_growth(num_users_test, 1))\n",
    "\n",
    "# Do not change: Should return 0.66\n",
    "print(percentage_growth(num_users_test, 7))\n",
    "\n",
    "# Do not change: Check your answer\n",
    "q5.check()"
   ]
  },
  {
   "cell_type": "code",
   "execution_count": 15,
   "id": "96733c17",
   "metadata": {
    "execution": {
     "iopub.execute_input": "2023-08-27T20:40:32.931542Z",
     "iopub.status.busy": "2023-08-27T20:40:32.930861Z",
     "iopub.status.idle": "2023-08-27T20:40:32.935389Z",
     "shell.execute_reply": "2023-08-27T20:40:32.934582Z"
    },
    "papermill": {
     "duration": 0.019452,
     "end_time": "2023-08-27T20:40:32.937583",
     "exception": false,
     "start_time": "2023-08-27T20:40:32.918131",
     "status": "completed"
    },
    "tags": []
   },
   "outputs": [],
   "source": [
    "# Uncomment to see a hint\n",
    "#q5.hint()\n",
    "\n",
    "# Uncomment to see the solution\n",
    "#q5.solution()"
   ]
  },
  {
   "cell_type": "markdown",
   "id": "8302f7c6",
   "metadata": {
    "papermill": {
     "duration": 0.01075,
     "end_time": "2023-08-27T20:40:32.959510",
     "exception": false,
     "start_time": "2023-08-27T20:40:32.948760",
     "status": "completed"
    },
    "tags": []
   },
   "source": [
    "# Congratulations!\n",
    "\n",
    "Congratulations for finishing the Intro to Programming course!  You should be proud of your very first steps with learning programming.  As next steps, we recommend taking:\n",
    "- the **[Python course](http://www.kaggle.com/learn/python)**, and \n",
    "- the **[Intro to Machine Learning course](https://www.kaggle.com/learn/intro-to-machine-learning)**."
   ]
  },
  {
   "cell_type": "markdown",
   "id": "ad2e80f9",
   "metadata": {
    "papermill": {
     "duration": 0.010759,
     "end_time": "2023-08-27T20:40:32.981728",
     "exception": false,
     "start_time": "2023-08-27T20:40:32.970969",
     "status": "completed"
    },
    "tags": []
   },
   "source": [
    "---\n",
    "\n",
    "\n",
    "\n",
    "\n",
    "*Have questions or comments? Visit the [course discussion forum](https://www.kaggle.com/learn/intro-to-programming/discussion) to chat with other learners.*"
   ]
  }
 ],
 "metadata": {
  "kernelspec": {
   "display_name": "Python 3",
   "language": "python",
   "name": "python3"
  },
  "language_info": {
   "codemirror_mode": {
    "name": "ipython",
    "version": 3
   },
   "file_extension": ".py",
   "mimetype": "text/x-python",
   "name": "python",
   "nbconvert_exporter": "python",
   "pygments_lexer": "ipython3",
   "version": "3.10.12"
  },
  "papermill": {
   "default_parameters": {},
   "duration": 14.872133,
   "end_time": "2023-08-27T20:40:33.914171",
   "environment_variables": {},
   "exception": null,
   "input_path": "__notebook__.ipynb",
   "output_path": "__notebook__.ipynb",
   "parameters": {},
   "start_time": "2023-08-27T20:40:19.042038",
   "version": "2.4.0"
  }
 },
 "nbformat": 4,
 "nbformat_minor": 5
}
