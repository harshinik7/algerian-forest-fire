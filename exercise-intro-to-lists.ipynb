{
 "cells": [
  {
   "cell_type": "markdown",
   "id": "7f578fcc",
   "metadata": {
    "papermill": {
     "duration": 0.01033,
     "end_time": "2023-08-30T06:21:34.154533",
     "exception": false,
     "start_time": "2023-08-30T06:21:34.144203",
     "status": "completed"
    },
    "tags": []
   },
   "source": [
    "**This notebook is an exercise in the [Intro to Programming](https://www.kaggle.com/learn/intro-to-programming) course.  You can reference the tutorial at [this link](https://www.kaggle.com/alexisbcook/intro-to-lists).**\n",
    "\n",
    "---\n"
   ]
  },
  {
   "cell_type": "markdown",
   "id": "dfba0dfb",
   "metadata": {
    "papermill": {
     "duration": 0.009286,
     "end_time": "2023-08-30T06:21:34.173398",
     "exception": false,
     "start_time": "2023-08-30T06:21:34.164112",
     "status": "completed"
    },
    "tags": []
   },
   "source": [
    "In the tutorial, you learned how to define and modify Python lists.  In this exercise, you will use your new knowledge to solve several problems.\n",
    "\n",
    "# Set up the notebook\n",
    "\n",
    "Run the next code cell without changes to set up the notebook."
   ]
  },
  {
   "cell_type": "code",
   "execution_count": 1,
   "id": "8bb4d02e",
   "metadata": {
    "execution": {
     "iopub.execute_input": "2023-08-30T06:21:34.194411Z",
     "iopub.status.busy": "2023-08-30T06:21:34.193891Z",
     "iopub.status.idle": "2023-08-30T06:21:34.244723Z",
     "shell.execute_reply": "2023-08-30T06:21:34.243606Z"
    },
    "papermill": {
     "duration": 0.064813,
     "end_time": "2023-08-30T06:21:34.247690",
     "exception": false,
     "start_time": "2023-08-30T06:21:34.182877",
     "status": "completed"
    },
    "tags": []
   },
   "outputs": [
    {
     "name": "stdout",
     "output_type": "stream",
     "text": [
      "Setup complete.\n"
     ]
    }
   ],
   "source": [
    "from learntools.core import binder\n",
    "binder.bind(globals())\n",
    "from learntools.intro_to_programming.ex5 import *\n",
    "print('Setup complete.')"
   ]
  },
  {
   "cell_type": "markdown",
   "id": "8ea4c1dc",
   "metadata": {
    "papermill": {
     "duration": 0.009658,
     "end_time": "2023-08-30T06:21:34.267692",
     "exception": false,
     "start_time": "2023-08-30T06:21:34.258034",
     "status": "completed"
    },
    "tags": []
   },
   "source": [
    "# Question 1\n",
    "\n",
    "You own a restaurant with five food dishes, organized in the Python list `menu` below.  One day, you decide to:\n",
    "- remove bean soup (`'bean soup'`) from the menu, and\n",
    "- add roasted beet salad (`'roasted beet salad'`) to the menu.\n",
    "\n",
    "Implement this change to the list below.  While completing this task, \n",
    "- do not change the line that creates the `menu` list.  \n",
    "- your answer should use `.remove()` and `.append()`.  "
   ]
  },
  {
   "cell_type": "code",
   "execution_count": 2,
   "id": "5f54d046",
   "metadata": {
    "execution": {
     "iopub.execute_input": "2023-08-30T06:21:34.289630Z",
     "iopub.status.busy": "2023-08-30T06:21:34.289226Z",
     "iopub.status.idle": "2023-08-30T06:21:34.302330Z",
     "shell.execute_reply": "2023-08-30T06:21:34.301236Z"
    },
    "papermill": {
     "duration": 0.026753,
     "end_time": "2023-08-30T06:21:34.304613",
     "exception": false,
     "start_time": "2023-08-30T06:21:34.277860",
     "status": "completed"
    },
    "tags": []
   },
   "outputs": [
    {
     "data": {
      "application/javascript": [
       "parent.postMessage({\"jupyterEvent\": \"custom.exercise_interaction\", \"data\": {\"outcomeType\": 1, \"valueTowardsCompletion\": 0.2, \"interactionType\": 1, \"questionType\": 2, \"questionId\": \"1_FoodMenu\", \"learnToolsVersion\": \"0.3.4\", \"failureMessage\": \"\", \"exceptionClass\": \"\", \"trace\": \"\"}}, \"*\")"
      ],
      "text/plain": [
       "<IPython.core.display.Javascript object>"
      ]
     },
     "metadata": {},
     "output_type": "display_data"
    },
    {
     "data": {
      "text/markdown": [
       "<span style=\"color:#33cc33\">Correct</span>"
      ],
      "text/plain": [
       "Correct"
      ]
     },
     "metadata": {},
     "output_type": "display_data"
    }
   ],
   "source": [
    "# Do not change: Initial menu for your restaurant\n",
    "menu = ['stewed meat with onions', 'bean soup', 'risotto with trout and shrimp',\n",
    "       'fish soup with cream and onion', 'gyro']\n",
    "\n",
    "# TODO: remove 'bean soup', and add 'roasted beet salad' to the end of the menu\n",
    "menu.remove(\"bean soup\")\n",
    "menu.append('roasted beet salad')\n",
    "\n",
    "# Do not change: Check your answer\n",
    "q1.check()"
   ]
  },
  {
   "cell_type": "code",
   "execution_count": 3,
   "id": "dc29af44",
   "metadata": {
    "execution": {
     "iopub.execute_input": "2023-08-30T06:21:34.328461Z",
     "iopub.status.busy": "2023-08-30T06:21:34.328045Z",
     "iopub.status.idle": "2023-08-30T06:21:34.342001Z",
     "shell.execute_reply": "2023-08-30T06:21:34.340818Z"
    },
    "papermill": {
     "duration": 0.029699,
     "end_time": "2023-08-30T06:21:34.344544",
     "exception": false,
     "start_time": "2023-08-30T06:21:34.314845",
     "status": "completed"
    },
    "tags": []
   },
   "outputs": [
    {
     "data": {
      "application/javascript": [
       "parent.postMessage({\"jupyterEvent\": \"custom.exercise_interaction\", \"data\": {\"interactionType\": 2, \"questionType\": 2, \"questionId\": \"1_FoodMenu\", \"learnToolsVersion\": \"0.3.4\", \"valueTowardsCompletion\": 0.0, \"failureMessage\": \"\", \"exceptionClass\": \"\", \"trace\": \"\", \"outcomeType\": 4}}, \"*\")"
      ],
      "text/plain": [
       "<IPython.core.display.Javascript object>"
      ]
     },
     "metadata": {},
     "output_type": "display_data"
    },
    {
     "data": {
      "text/markdown": [
       "<span style=\"color:#3366cc\">Hint:</span> Here is the original line of code that created the menu: `menu = ['stewed meat with onions', 'bean soup', 'risotto with trout and shrimp', 'fish soup with cream and onion', 'gyro']`.  Use `.append()` to add an item, and use `.remove()` to remove an item."
      ],
      "text/plain": [
       "Hint: Here is the original line of code that created the menu: `menu = ['stewed meat with onions', 'bean soup', 'risotto with trout and shrimp', 'fish soup with cream and onion', 'gyro']`.  Use `.append()` to add an item, and use `.remove()` to remove an item."
      ]
     },
     "metadata": {},
     "output_type": "display_data"
    },
    {
     "data": {
      "application/javascript": [
       "parent.postMessage({\"jupyterEvent\": \"custom.exercise_interaction\", \"data\": {\"interactionType\": 3, \"questionType\": 2, \"questionId\": \"1_FoodMenu\", \"learnToolsVersion\": \"0.3.4\", \"valueTowardsCompletion\": 0.0, \"failureMessage\": \"\", \"exceptionClass\": \"\", \"trace\": \"\", \"outcomeType\": 4}}, \"*\")"
      ],
      "text/plain": [
       "<IPython.core.display.Javascript object>"
      ]
     },
     "metadata": {},
     "output_type": "display_data"
    },
    {
     "data": {
      "text/markdown": [
       "<span style=\"color:#33cc99\">Solution:</span> \n",
       "```python\n",
       "# Do not change: Initial menu for your restaurant\n",
       "menu = ['stewed meat with onions', 'bean soup', 'risotto with trout and shrimp',\n",
       "       'fish soup with cream and onion', 'gyro']\n",
       "\n",
       "# Remove 'bean soup', and add 'roasted beet salad' to the end of the menu\n",
       "menu.remove('bean soup')\n",
       "menu.append('roasted beet salad')\n",
       "\n",
       "```"
      ],
      "text/plain": [
       "Solution: \n",
       "```python\n",
       "# Do not change: Initial menu for your restaurant\n",
       "menu = ['stewed meat with onions', 'bean soup', 'risotto with trout and shrimp',\n",
       "       'fish soup with cream and onion', 'gyro']\n",
       "\n",
       "# Remove 'bean soup', and add 'roasted beet salad' to the end of the menu\n",
       "menu.remove('bean soup')\n",
       "menu.append('roasted beet salad')\n",
       "\n",
       "```"
      ]
     },
     "metadata": {},
     "output_type": "display_data"
    }
   ],
   "source": [
    "# Uncomment to see a hint\n",
    "q1.hint()\n",
    "\n",
    "# Uncomment to see the solution\n",
    "q1.solution()"
   ]
  },
  {
   "cell_type": "markdown",
   "id": "8cffe869",
   "metadata": {
    "papermill": {
     "duration": 0.010716,
     "end_time": "2023-08-30T06:21:34.366108",
     "exception": false,
     "start_time": "2023-08-30T06:21:34.355392",
     "status": "completed"
    },
    "tags": []
   },
   "source": [
    "# Question 2\n",
    "\n",
    "The list `num_customers` contains the number of customers who came into your restaurant every day over the last month (which lasted thirty days).  Fill in values for each of the following:\n",
    "- `avg_first_seven` - average number of customers who visited in the first seven days\n",
    "- `avg_last_seven` - average number of customers who visited in the last seven days\n",
    "- `max_month` - number of customers on the day that got the most customers in the last month\n",
    "- `min_month` - number of customers on the day that got the least customers in the last month\n",
    "\n",
    "Answer this question by writing code.  For instance, if you have to find the minimum value in a list, use `min()` instead of scanning for the smallest value and directly filling in a number."
   ]
  },
  {
   "cell_type": "code",
   "execution_count": 4,
   "id": "de0c4a23",
   "metadata": {
    "execution": {
     "iopub.execute_input": "2023-08-30T06:21:34.391718Z",
     "iopub.status.busy": "2023-08-30T06:21:34.391155Z",
     "iopub.status.idle": "2023-08-30T06:21:34.403347Z",
     "shell.execute_reply": "2023-08-30T06:21:34.402235Z"
    },
    "papermill": {
     "duration": 0.027876,
     "end_time": "2023-08-30T06:21:34.405781",
     "exception": false,
     "start_time": "2023-08-30T06:21:34.377905",
     "status": "completed"
    },
    "tags": []
   },
   "outputs": [
    {
     "data": {
      "application/javascript": [
       "parent.postMessage({\"jupyterEvent\": \"custom.exercise_interaction\", \"data\": {\"outcomeType\": 1, \"valueTowardsCompletion\": 0.2, \"interactionType\": 1, \"questionType\": 1, \"questionId\": \"2_NumCustomers\", \"learnToolsVersion\": \"0.3.4\", \"failureMessage\": \"\", \"exceptionClass\": \"\", \"trace\": \"\"}}, \"*\")"
      ],
      "text/plain": [
       "<IPython.core.display.Javascript object>"
      ]
     },
     "metadata": {},
     "output_type": "display_data"
    },
    {
     "data": {
      "text/markdown": [
       "<span style=\"color:#33cc33\">Correct</span>"
      ],
      "text/plain": [
       "Correct"
      ]
     },
     "metadata": {},
     "output_type": "display_data"
    }
   ],
   "source": [
    "# Do not change: Number of customers each day for the last month\n",
    "num_customers = [137, 147, 135, 128, 170, 174, 165, 146, 126, 159,\n",
    "                 141, 148, 132, 147, 168, 153, 170, 161, 148, 152,\n",
    "                 141, 151, 131, 149, 164, 163, 143, 143, 166, 171]\n",
    "\n",
    "# TODO: Fill in values for the variables below\n",
    "avg_first_seven = sum(num_customers[:7])/7 \n",
    "avg_last_seven = sum(num_customers[-7:])/7\n",
    "max_month = max(num_customers)\n",
    "min_month = min(num_customers)\n",
    "\n",
    "# Do not change: Check your answer\n",
    "q2.check()"
   ]
  },
  {
   "cell_type": "code",
   "execution_count": 5,
   "id": "327c753c",
   "metadata": {
    "execution": {
     "iopub.execute_input": "2023-08-30T06:21:34.430324Z",
     "iopub.status.busy": "2023-08-30T06:21:34.429927Z",
     "iopub.status.idle": "2023-08-30T06:21:34.444326Z",
     "shell.execute_reply": "2023-08-30T06:21:34.443143Z"
    },
    "papermill": {
     "duration": 0.029743,
     "end_time": "2023-08-30T06:21:34.446722",
     "exception": false,
     "start_time": "2023-08-30T06:21:34.416979",
     "status": "completed"
    },
    "tags": []
   },
   "outputs": [
    {
     "data": {
      "application/javascript": [
       "parent.postMessage({\"jupyterEvent\": \"custom.exercise_interaction\", \"data\": {\"interactionType\": 2, \"questionType\": 1, \"questionId\": \"2_NumCustomers\", \"learnToolsVersion\": \"0.3.4\", \"valueTowardsCompletion\": 0.0, \"failureMessage\": \"\", \"exceptionClass\": \"\", \"trace\": \"\", \"outcomeType\": 4}}, \"*\")"
      ],
      "text/plain": [
       "<IPython.core.display.Javascript object>"
      ]
     },
     "metadata": {},
     "output_type": "display_data"
    },
    {
     "data": {
      "text/markdown": [
       "<span style=\"color:#3366cc\">Hint:</span> To take the average of a list of numbers, you can calculate the sum and then divide by the length. And, to pull the last `y` entries of a list `my_list`, use `my_list[-y:]`."
      ],
      "text/plain": [
       "Hint: To take the average of a list of numbers, you can calculate the sum and then divide by the length. And, to pull the last `y` entries of a list `my_list`, use `my_list[-y:]`."
      ]
     },
     "metadata": {},
     "output_type": "display_data"
    },
    {
     "data": {
      "application/javascript": [
       "parent.postMessage({\"jupyterEvent\": \"custom.exercise_interaction\", \"data\": {\"interactionType\": 3, \"questionType\": 1, \"questionId\": \"2_NumCustomers\", \"learnToolsVersion\": \"0.3.4\", \"valueTowardsCompletion\": 0.0, \"failureMessage\": \"\", \"exceptionClass\": \"\", \"trace\": \"\", \"outcomeType\": 4}}, \"*\")"
      ],
      "text/plain": [
       "<IPython.core.display.Javascript object>"
      ]
     },
     "metadata": {},
     "output_type": "display_data"
    },
    {
     "data": {
      "text/markdown": [
       "<span style=\"color:#33cc99\">Solution:</span> \n",
       "```python\n",
       "# Fill in values for the variables below\n",
       "avg_first_seven = sum(num_customers[:7])/7 \n",
       "avg_last_seven = sum(num_customers[-7:])/7\n",
       "max_month = max(num_customers)\n",
       "min_month = min(num_customers)\n",
       "\n",
       "```"
      ],
      "text/plain": [
       "Solution: \n",
       "```python\n",
       "# Fill in values for the variables below\n",
       "avg_first_seven = sum(num_customers[:7])/7 \n",
       "avg_last_seven = sum(num_customers[-7:])/7\n",
       "max_month = max(num_customers)\n",
       "min_month = min(num_customers)\n",
       "\n",
       "```"
      ]
     },
     "metadata": {},
     "output_type": "display_data"
    }
   ],
   "source": [
    "# Uncomment to see a hint\n",
    "q2.hint()\n",
    "\n",
    "# Uncomment to see the solution\n",
    "q2.solution()"
   ]
  },
  {
   "cell_type": "markdown",
   "id": "dc30e289",
   "metadata": {
    "papermill": {
     "duration": 0.011864,
     "end_time": "2023-08-30T06:21:34.470847",
     "exception": false,
     "start_time": "2023-08-30T06:21:34.458983",
     "status": "completed"
    },
    "tags": []
   },
   "source": [
    "# Question 3\n",
    "\n",
    "In the tutorial, we gave an example of a Python string with information that was better as a list."
   ]
  },
  {
   "cell_type": "code",
   "execution_count": 6,
   "id": "3b354186",
   "metadata": {
    "execution": {
     "iopub.execute_input": "2023-08-30T06:21:34.496541Z",
     "iopub.status.busy": "2023-08-30T06:21:34.496171Z",
     "iopub.status.idle": "2023-08-30T06:21:34.501040Z",
     "shell.execute_reply": "2023-08-30T06:21:34.499868Z"
    },
    "papermill": {
     "duration": 0.020779,
     "end_time": "2023-08-30T06:21:34.503418",
     "exception": false,
     "start_time": "2023-08-30T06:21:34.482639",
     "status": "completed"
    },
    "tags": []
   },
   "outputs": [],
   "source": [
    "flowers = \"pink primrose,hard-leaved pocket orchid,canterbury bells,sweet pea,english marigold,tiger lily,moon orchid,bird of paradise,monkshood,globe thistle\""
   ]
  },
  {
   "cell_type": "markdown",
   "id": "df15e807",
   "metadata": {
    "papermill": {
     "duration": 0.011582,
     "end_time": "2023-08-30T06:21:34.527414",
     "exception": false,
     "start_time": "2023-08-30T06:21:34.515832",
     "status": "completed"
    },
    "tags": []
   },
   "source": [
    "You can actually use Python to quickly turn this string into a list with `.split()`.  In the parentheses, we need to provide the character should be used to mark the end of one list item and the beginning of another, and enclose it in quotation marks.  In this case, that character is a comma."
   ]
  },
  {
   "cell_type": "code",
   "execution_count": 7,
   "id": "61a63ede",
   "metadata": {
    "execution": {
     "iopub.execute_input": "2023-08-30T06:21:34.554339Z",
     "iopub.status.busy": "2023-08-30T06:21:34.553964Z",
     "iopub.status.idle": "2023-08-30T06:21:34.559524Z",
     "shell.execute_reply": "2023-08-30T06:21:34.558513Z"
    },
    "papermill": {
     "duration": 0.021923,
     "end_time": "2023-08-30T06:21:34.562184",
     "exception": false,
     "start_time": "2023-08-30T06:21:34.540261",
     "status": "completed"
    },
    "tags": []
   },
   "outputs": [
    {
     "name": "stdout",
     "output_type": "stream",
     "text": [
      "['pink primrose', 'hard-leaved pocket orchid', 'canterbury bells', 'sweet pea', 'english marigold', 'tiger lily', 'moon orchid', 'bird of paradise', 'monkshood', 'globe thistle']\n"
     ]
    }
   ],
   "source": [
    " print(flowers.split(\",\"))"
   ]
  },
  {
   "cell_type": "markdown",
   "id": "d21b40fd",
   "metadata": {
    "papermill": {
     "duration": 0.011728,
     "end_time": "2023-08-30T06:21:34.585990",
     "exception": false,
     "start_time": "2023-08-30T06:21:34.574262",
     "status": "completed"
    },
    "tags": []
   },
   "source": [
    "Now it is your turn to try this out!  Create two Python lists:\n",
    "- `letters` should be a Python list where each entry is an uppercase letter of the English alphabet.  For instance, the first two entries should be `\"A\"` and `\"B\"`, and the final two entries should be `\"Y\"` and `\"Z\"`.  Use the string `alphabet` to create this list.\n",
    "- `address` should be a Python list where each row in `address` is a different item in the list.  Currently, each row in `address` is separated by a comma. "
   ]
  },
  {
   "cell_type": "code",
   "execution_count": 8,
   "id": "939c98b5",
   "metadata": {
    "execution": {
     "iopub.execute_input": "2023-08-30T06:21:34.613300Z",
     "iopub.status.busy": "2023-08-30T06:21:34.612931Z",
     "iopub.status.idle": "2023-08-30T06:21:34.621890Z",
     "shell.execute_reply": "2023-08-30T06:21:34.620789Z"
    },
    "papermill": {
     "duration": 0.025015,
     "end_time": "2023-08-30T06:21:34.624208",
     "exception": false,
     "start_time": "2023-08-30T06:21:34.599193",
     "status": "completed"
    },
    "tags": []
   },
   "outputs": [
    {
     "data": {
      "application/javascript": [
       "parent.postMessage({\"jupyterEvent\": \"custom.exercise_interaction\", \"data\": {\"outcomeType\": 4, \"interactionType\": 1, \"questionType\": 1, \"questionId\": \"3_SplitString\", \"learnToolsVersion\": \"0.3.4\", \"valueTowardsCompletion\": 0.0, \"failureMessage\": \"\", \"exceptionClass\": \"\", \"trace\": \"\"}}, \"*\")"
      ],
      "text/plain": [
       "<IPython.core.display.Javascript object>"
      ]
     },
     "metadata": {},
     "output_type": "display_data"
    },
    {
     "data": {
      "text/markdown": [
       "<span style=\"color:#ccaa33\">Check:</span> When you've updated the starter code, `check()` will tell you whether your code is correct. You need to update the code that creates variables `letters`, `formatted_address`"
      ],
      "text/plain": [
       "Check: When you've updated the starter code, `check()` will tell you whether your code is correct. You need to update the code that creates variables `letters`, `formatted_address`"
      ]
     },
     "metadata": {},
     "output_type": "display_data"
    }
   ],
   "source": [
    "# DO not change: Define two Python strings\n",
    "alphabet = \"A.B.C.D.E.F.G.H.I.J.K.L.M.N.O.P.Q.R.S.T.U.V.W.X.Y.Z\"\n",
    "address = \"Mr. H. Potter,The cupboard under the Stairs,4 Privet Drive,Little Whinging,Surrey\"\n",
    "\n",
    "# TODO: Convert strings into Python lists\n",
    "letters = ____\n",
    "formatted_address = ____\n",
    "\n",
    "# Do not change: Check your answer\n",
    "q3.check()"
   ]
  },
  {
   "cell_type": "code",
   "execution_count": 9,
   "id": "cab855a8",
   "metadata": {
    "execution": {
     "iopub.execute_input": "2023-08-30T06:21:34.651854Z",
     "iopub.status.busy": "2023-08-30T06:21:34.651379Z",
     "iopub.status.idle": "2023-08-30T06:21:34.656195Z",
     "shell.execute_reply": "2023-08-30T06:21:34.655043Z"
    },
    "papermill": {
     "duration": 0.021694,
     "end_time": "2023-08-30T06:21:34.658373",
     "exception": false,
     "start_time": "2023-08-30T06:21:34.636679",
     "status": "completed"
    },
    "tags": []
   },
   "outputs": [],
   "source": [
    "# Uncomment to see a hint\n",
    "#q3.hint()\n",
    "\n",
    "# Uncomment to see the solution\n",
    "#q3.solution()"
   ]
  },
  {
   "cell_type": "markdown",
   "id": "4bc9b59a",
   "metadata": {
    "papermill": {
     "duration": 0.012325,
     "end_time": "2023-08-30T06:21:34.683527",
     "exception": false,
     "start_time": "2023-08-30T06:21:34.671202",
     "status": "completed"
    },
    "tags": []
   },
   "source": [
    "# Question 4\n",
    "\n",
    "In the Python course, you'll learn all about **list comprehensions**, which allow you to create a list based on the values in another list.  In this question, you'll get a brief preview of how they work.\n",
    "\n",
    "Say we're working with the list below."
   ]
  },
  {
   "cell_type": "code",
   "execution_count": 10,
   "id": "07cac903",
   "metadata": {
    "execution": {
     "iopub.execute_input": "2023-08-30T06:21:34.710682Z",
     "iopub.status.busy": "2023-08-30T06:21:34.710290Z",
     "iopub.status.idle": "2023-08-30T06:21:34.715074Z",
     "shell.execute_reply": "2023-08-30T06:21:34.713944Z"
    },
    "papermill": {
     "duration": 0.021031,
     "end_time": "2023-08-30T06:21:34.717345",
     "exception": false,
     "start_time": "2023-08-30T06:21:34.696314",
     "status": "completed"
    },
    "tags": []
   },
   "outputs": [],
   "source": [
    "test_ratings = [1, 2, 3, 4, 5]"
   ]
  },
  {
   "cell_type": "markdown",
   "id": "05ad5578",
   "metadata": {
    "papermill": {
     "duration": 0.012498,
     "end_time": "2023-08-30T06:21:34.742509",
     "exception": false,
     "start_time": "2023-08-30T06:21:34.730011",
     "status": "completed"
    },
    "tags": []
   },
   "source": [
    "Then we can use this list (`test_ratings`) to create a new list (`test_liked`) where each item has been turned into a boolean, depending on whether or not the item is greater than or equal to four."
   ]
  },
  {
   "cell_type": "code",
   "execution_count": 11,
   "id": "7151b418",
   "metadata": {
    "execution": {
     "iopub.execute_input": "2023-08-30T06:21:34.769540Z",
     "iopub.status.busy": "2023-08-30T06:21:34.769110Z",
     "iopub.status.idle": "2023-08-30T06:21:34.775198Z",
     "shell.execute_reply": "2023-08-30T06:21:34.774064Z"
    },
    "papermill": {
     "duration": 0.023028,
     "end_time": "2023-08-30T06:21:34.778158",
     "exception": false,
     "start_time": "2023-08-30T06:21:34.755130",
     "status": "completed"
    },
    "tags": []
   },
   "outputs": [
    {
     "name": "stdout",
     "output_type": "stream",
     "text": [
      "[False, False, False, True, True]\n"
     ]
    }
   ],
   "source": [
    "test_liked = [i>=4 for i in test_ratings]\n",
    "print(test_liked)"
   ]
  },
  {
   "cell_type": "markdown",
   "id": "d8f14440",
   "metadata": {
    "papermill": {
     "duration": 0.012824,
     "end_time": "2023-08-30T06:21:34.805642",
     "exception": false,
     "start_time": "2023-08-30T06:21:34.792818",
     "status": "completed"
    },
    "tags": []
   },
   "source": [
    "In this question, you'll use this list comprehension to define a function `percentage_liked()` that takes one argument as input:\n",
    "- `ratings`: list of ratings that people gave to a movie, where each rating is a number between 1-5, inclusive\n",
    "\n",
    "We say someone liked the movie, if they gave a rating of either 4 or 5.  Your function should return the percentage of people who liked the movie.\n",
    "\n",
    "For instance, if we supply a value of `[1, 2, 3, 4, 5, 4, 5, 1]`, then 50% (4/8) of the people liked the movie, and the function should return `0.5`.\n",
    "\n",
    "Part of the function has already been completed for you.  You need only use `list_liked` to calculate `percentage_liked`."
   ]
  },
  {
   "cell_type": "code",
   "execution_count": 12,
   "id": "6b7d9f2b",
   "metadata": {
    "execution": {
     "iopub.execute_input": "2023-08-30T06:21:34.832944Z",
     "iopub.status.busy": "2023-08-30T06:21:34.832476Z",
     "iopub.status.idle": "2023-08-30T06:21:34.843276Z",
     "shell.execute_reply": "2023-08-30T06:21:34.842119Z"
    },
    "papermill": {
     "duration": 0.027157,
     "end_time": "2023-08-30T06:21:34.845535",
     "exception": false,
     "start_time": "2023-08-30T06:21:34.818378",
     "status": "completed"
    },
    "tags": []
   },
   "outputs": [
    {
     "data": {
      "application/javascript": [
       "parent.postMessage({\"jupyterEvent\": \"custom.exercise_interaction\", \"data\": {\"outcomeType\": 2, \"failureMessage\": \"Expected return value of `0.5` given `ratings=[1, 2, 3, 4, 5, 4, 5, 1]`, but got `<learntools.core.constants.PlaceholderValue object at 0x7ef1dbc8dbd0>` instead.\", \"interactionType\": 1, \"questionType\": 2, \"questionId\": \"4_PercentageLiked\", \"learnToolsVersion\": \"0.3.4\", \"valueTowardsCompletion\": 0.0, \"exceptionClass\": \"\", \"trace\": \"\"}}, \"*\")"
      ],
      "text/plain": [
       "<IPython.core.display.Javascript object>"
      ]
     },
     "metadata": {},
     "output_type": "display_data"
    },
    {
     "data": {
      "text/markdown": [
       "<span style=\"color:#cc3333\">Incorrect:</span> Expected return value of `0.5` given `ratings=[1, 2, 3, 4, 5, 4, 5, 1]`, but got `<learntools.core.constants.PlaceholderValue object at 0x7ef1dbc8dbd0>` instead."
      ],
      "text/plain": [
       "Incorrect: Expected return value of `0.5` given `ratings=[1, 2, 3, 4, 5, 4, 5, 1]`, but got `<learntools.core.constants.PlaceholderValue object at 0x7ef1dbc8dbd0>` instead."
      ]
     },
     "metadata": {},
     "output_type": "display_data"
    }
   ],
   "source": [
    "\n",
    "def percentage_liked(ratings):\n",
    "    list_liked = [i>=4 for i in ratings]\n",
    "    # TODO: Complete the function\n",
    "    percentage_liked = ____\n",
    "    return percentage_liked\n",
    "\n",
    "# Do not change: should return 0.5\n",
    "percentage_liked([1, 2, 3, 4, 5, 4, 5, 1])\n",
    "\n",
    "# Do not change: Check your answer\n",
    "q4.check()"
   ]
  },
  {
   "cell_type": "code",
   "execution_count": 13,
   "id": "5b60fd8a",
   "metadata": {
    "execution": {
     "iopub.execute_input": "2023-08-30T06:21:34.875581Z",
     "iopub.status.busy": "2023-08-30T06:21:34.875148Z",
     "iopub.status.idle": "2023-08-30T06:21:34.880626Z",
     "shell.execute_reply": "2023-08-30T06:21:34.879232Z"
    },
    "papermill": {
     "duration": 0.023756,
     "end_time": "2023-08-30T06:21:34.883738",
     "exception": false,
     "start_time": "2023-08-30T06:21:34.859982",
     "status": "completed"
    },
    "tags": []
   },
   "outputs": [],
   "source": [
    "# Uncomment to see a hint\n",
    "#q4.hint()\n",
    "\n",
    "# Uncomment to see the solution\n",
    "#q4.solution()"
   ]
  },
  {
   "cell_type": "markdown",
   "id": "4c1f2fb8",
   "metadata": {
    "papermill": {
     "duration": 0.012999,
     "end_time": "2023-08-30T06:21:34.911197",
     "exception": false,
     "start_time": "2023-08-30T06:21:34.898198",
     "status": "completed"
    },
    "tags": []
   },
   "source": [
    "# 🌶️ Question 5\n",
    " \n",
    "Say you're doing analytics for a website.  You need to write a function that returns the percentage growth in the total number of users relative to a specified number of years ago.\n",
    "\n",
    "Your function `percentage_growth()` should take two arguments as input:\n",
    "- `num_users` = Python list with the total number of users each year.  So `num_users[0]` is the total number of users in the first year, `num_users[1]` is the total number of users in the second year, and so on.  The final entry in the list gives the total number of users in the most recently completed year.\n",
    "- `yrs_ago` = number of years to go back in time when calculating the growth percentage\n",
    "\n",
    "For instance, say `num_users = [920344, 1043553, 1204334, 1458996, 1503323, 1593432, 1623463, 1843064, 1930992, 2001078]`.\n",
    "- if `yrs_ago = 1`, we want the function to return a value of about `0.036`. This corresponds to a percentage growth of approximately 3.6%, calculated as (2001078 - 1930992)/1930992.\n",
    "- if `years_ago = 7`, we would want to return approximately `0.66`.  This corresponds to a percentage growth of approximately 66%, calculated as (2001078 - 1204334)/1204334.\n",
    "\n",
    "Your coworker sent you a draft of a function, but it doesn't seem to be doing the correct calculation.  Can you figure out what has gone wrong and make the needed changes?"
   ]
  },
  {
   "cell_type": "code",
   "execution_count": 14,
   "id": "a8f4a840",
   "metadata": {
    "execution": {
     "iopub.execute_input": "2023-08-30T06:21:34.940546Z",
     "iopub.status.busy": "2023-08-30T06:21:34.940096Z",
     "iopub.status.idle": "2023-08-30T06:21:34.952278Z",
     "shell.execute_reply": "2023-08-30T06:21:34.951150Z"
    },
    "papermill": {
     "duration": 0.029554,
     "end_time": "2023-08-30T06:21:34.954721",
     "exception": false,
     "start_time": "2023-08-30T06:21:34.925167",
     "status": "completed"
    },
    "tags": []
   },
   "outputs": [
    {
     "name": "stdout",
     "output_type": "stream",
     "text": [
      "0.0\n",
      "0.2807272117129434\n"
     ]
    },
    {
     "data": {
      "application/javascript": [
       "parent.postMessage({\"jupyterEvent\": \"custom.exercise_interaction\", \"data\": {\"outcomeType\": 2, \"failureMessage\": \"Expected return value of `0.03629533421163837` given `num_users=[920344, 1043553, 1204334, 1458996, 1503323, 1593432, 1623463, 1843064, 1930992, 2001078]`, `yrs_ago=1`, but got `0.0` instead.\", \"interactionType\": 1, \"questionType\": 2, \"questionId\": \"5_WebsiteAnalytics\", \"learnToolsVersion\": \"0.3.4\", \"valueTowardsCompletion\": 0.0, \"exceptionClass\": \"\", \"trace\": \"\"}}, \"*\")"
      ],
      "text/plain": [
       "<IPython.core.display.Javascript object>"
      ]
     },
     "metadata": {},
     "output_type": "display_data"
    },
    {
     "data": {
      "text/markdown": [
       "<span style=\"color:#cc3333\">Incorrect:</span> Expected return value of `0.03629533421163837` given `num_users=[920344, 1043553, 1204334, 1458996, 1503323, 1593432, 1623463, 1843064, 1930992, 2001078]`, `yrs_ago=1`, but got `0.0` instead."
      ],
      "text/plain": [
       "Incorrect: Expected return value of `0.03629533421163837` given `num_users=[920344, 1043553, 1204334, 1458996, 1503323, 1593432, 1623463, 1843064, 1930992, 2001078]`, `yrs_ago=1`, but got `0.0` instead."
      ]
     },
     "metadata": {},
     "output_type": "display_data"
    }
   ],
   "source": [
    "# TODO: Edit the function\n",
    "def percentage_growth(num_users, yrs_ago):\n",
    "    growth = (num_users[len(num_users)-1] - num_users[len(num_users)-yrs_ago])/num_users[len(num_users)-2]\n",
    "    return growth\n",
    "\n",
    "# Do not change: Variable for calculating some test examples\n",
    "num_users_test = [920344, 1043553, 1204334, 1458996, 1503323, 1593432, 1623463, 1843064, 1930992, 2001078]\n",
    "\n",
    "# Do not change: Should return .036\n",
    "print(percentage_growth(num_users_test, 1))\n",
    "\n",
    "# Do not change: Should return 0.66\n",
    "print(percentage_growth(num_users_test, 7))\n",
    "\n",
    "# Do not change: Check your answer\n",
    "q5.check()"
   ]
  },
  {
   "cell_type": "code",
   "execution_count": 15,
   "id": "5da9072d",
   "metadata": {
    "execution": {
     "iopub.execute_input": "2023-08-30T06:21:34.987122Z",
     "iopub.status.busy": "2023-08-30T06:21:34.986704Z",
     "iopub.status.idle": "2023-08-30T06:21:34.991484Z",
     "shell.execute_reply": "2023-08-30T06:21:34.990319Z"
    },
    "papermill": {
     "duration": 0.023522,
     "end_time": "2023-08-30T06:21:34.994112",
     "exception": false,
     "start_time": "2023-08-30T06:21:34.970590",
     "status": "completed"
    },
    "tags": []
   },
   "outputs": [],
   "source": [
    "# Uncomment to see a hint\n",
    "#q5.hint()\n",
    "\n",
    "# Uncomment to see the solution\n",
    "#q5.solution()"
   ]
  },
  {
   "cell_type": "markdown",
   "id": "8781b5fd",
   "metadata": {
    "papermill": {
     "duration": 0.015328,
     "end_time": "2023-08-30T06:21:35.023909",
     "exception": false,
     "start_time": "2023-08-30T06:21:35.008581",
     "status": "completed"
    },
    "tags": []
   },
   "source": [
    "# Congratulations!\n",
    "\n",
    "Congratulations for finishing the Intro to Programming course!  You should be proud of your very first steps with learning programming.  As next steps, we recommend taking:\n",
    "- the **[Python course](http://www.kaggle.com/learn/python)**, and \n",
    "- the **[Intro to Machine Learning course](https://www.kaggle.com/learn/intro-to-machine-learning)**."
   ]
  },
  {
   "cell_type": "markdown",
   "id": "fc488699",
   "metadata": {
    "papermill": {
     "duration": 0.013744,
     "end_time": "2023-08-30T06:21:35.051824",
     "exception": false,
     "start_time": "2023-08-30T06:21:35.038080",
     "status": "completed"
    },
    "tags": []
   },
   "source": [
    "---\n",
    "\n",
    "\n",
    "\n",
    "\n",
    "*Have questions or comments? Visit the [course discussion forum](https://www.kaggle.com/learn/intro-to-programming/discussion) to chat with other learners.*"
   ]
  }
 ],
 "kernelspec": {
  "display_name": "Python 3",
  "language": "python",
  "name": "python3"
 },
 "language_info": {
  "codemirror_mode": {
   "name": "ipython",
   "version": 3
  },
  "file_extension": ".py",
  "mimetype": "text/x-python",
  "name": "python",
  "nbconvert_exporter": "python",
  "pygments_lexer": "ipython3",
  "version": "3.6.4"
 },
 "metadata": {
  "kernelspec": {
   "display_name": "Python 3",
   "language": "python",
   "name": "python3"
  },
  "language_info": {
   "codemirror_mode": {
    "name": "ipython",
    "version": 3
   },
   "file_extension": ".py",
   "mimetype": "text/x-python",
   "name": "python",
   "nbconvert_exporter": "python",
   "pygments_lexer": "ipython3",
   "version": "3.10.12"
  },
  "papermill": {
   "default_parameters": {},
   "duration": 13.332547,
   "end_time": "2023-08-30T06:21:35.987641",
   "environment_variables": {},
   "exception": null,
   "input_path": "__notebook__.ipynb",
   "output_path": "__notebook__.ipynb",
   "parameters": {},
   "start_time": "2023-08-30T06:21:22.655094",
   "version": "2.4.0"
  }
 },
 "nbformat": 4,
 "nbformat_minor": 5
}
