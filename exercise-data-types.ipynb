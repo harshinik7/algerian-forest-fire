{
 "cells": [
  {
   "cell_type": "markdown",
   "id": "9202d318",
   "metadata": {
    "papermill": {
     "duration": 0.008881,
     "end_time": "2023-08-27T07:43:13.941211",
     "exception": false,
     "start_time": "2023-08-27T07:43:13.932330",
     "status": "completed"
    },
    "tags": []
   },
   "source": [
    "**This notebook is an exercise in the [Intro to Programming](https://www.kaggle.com/learn/intro-to-programming) course.  You can reference the tutorial at [this link](https://www.kaggle.com/alexisbcook/data-types).**\n",
    "\n",
    "---\n"
   ]
  },
  {
   "cell_type": "markdown",
   "id": "1aeec018",
   "metadata": {
    "papermill": {
     "duration": 0.008462,
     "end_time": "2023-08-27T07:43:13.958134",
     "exception": false,
     "start_time": "2023-08-27T07:43:13.949672",
     "status": "completed"
    },
    "tags": []
   },
   "source": [
    "In the tutorial, you learned about four different data types: floats, integers, strings, and booleans.  In this exercise, you'll experiment with them.\n",
    "\n",
    "# Set up the notebook\n",
    "\n",
    "Run the next code cell without changes to set up the notebook."
   ]
  },
  {
   "cell_type": "code",
   "execution_count": 1,
   "id": "41086c51",
   "metadata": {
    "execution": {
     "iopub.execute_input": "2023-08-27T07:43:13.977459Z",
     "iopub.status.busy": "2023-08-27T07:43:13.976546Z",
     "iopub.status.idle": "2023-08-27T07:43:14.028927Z",
     "shell.execute_reply": "2023-08-27T07:43:14.027794Z"
    },
    "papermill": {
     "duration": 0.064993,
     "end_time": "2023-08-27T07:43:14.031445",
     "exception": false,
     "start_time": "2023-08-27T07:43:13.966452",
     "status": "completed"
    },
    "tags": []
   },
   "outputs": [
    {
     "name": "stdout",
     "output_type": "stream",
     "text": [
      "Setup complete.\n"
     ]
    }
   ],
   "source": [
    "# Set up the exercise\n",
    "from learntools.core import binder\n",
    "binder.bind(globals())\n",
    "from learntools.intro_to_programming.ex3 import *\n",
    "print('Setup complete.')"
   ]
  },
  {
   "cell_type": "markdown",
   "id": "fe18236a",
   "metadata": {
    "papermill": {
     "duration": 0.008226,
     "end_time": "2023-08-27T07:43:14.048399",
     "exception": false,
     "start_time": "2023-08-27T07:43:14.040173",
     "status": "completed"
    },
    "tags": []
   },
   "source": [
    "# Question 1\n",
    "\n",
    "You have seen how to convert a float to an integer with the `int` function.  Try this out yourself by running the code cell below."
   ]
  },
  {
   "cell_type": "code",
   "execution_count": 2,
   "id": "8168ec98",
   "metadata": {
    "execution": {
     "iopub.execute_input": "2023-08-27T07:43:14.067690Z",
     "iopub.status.busy": "2023-08-27T07:43:14.066816Z",
     "iopub.status.idle": "2023-08-27T07:43:14.073509Z",
     "shell.execute_reply": "2023-08-27T07:43:14.072427Z"
    },
    "papermill": {
     "duration": 0.019492,
     "end_time": "2023-08-27T07:43:14.076466",
     "exception": false,
     "start_time": "2023-08-27T07:43:14.056974",
     "status": "completed"
    },
    "tags": []
   },
   "outputs": [
    {
     "name": "stdout",
     "output_type": "stream",
     "text": [
      "1.0\n",
      "<class 'float'>\n",
      "1\n",
      "<class 'int'>\n"
     ]
    }
   ],
   "source": [
    "# Define a float\n",
    "y = 1.\n",
    "print(y)\n",
    "print(type(y))\n",
    "\n",
    "# Convert float to integer with the int function\n",
    "z = int(y)\n",
    "print(z)\n",
    "print(type(z))"
   ]
  },
  {
   "cell_type": "markdown",
   "id": "51896a9c",
   "metadata": {
    "papermill": {
     "duration": 0.008397,
     "end_time": "2023-08-27T07:43:14.095057",
     "exception": false,
     "start_time": "2023-08-27T07:43:14.086660",
     "status": "completed"
    },
    "tags": []
   },
   "source": [
    "In this case, the float you are using has no numbers after the decimal.  \n",
    "- But what happens when you try to convert a float with a fractional part to an integer?  \n",
    "- How does the outcome of the `int` function change for positive and negative numbers?\n",
    "\n",
    "Use the next code cell to investigate and answer these questions.  Feel free to add or remove any lines of code -- it is your workspace!"
   ]
  },
  {
   "cell_type": "code",
   "execution_count": 3,
   "id": "f277ff12",
   "metadata": {
    "execution": {
     "iopub.execute_input": "2023-08-27T07:43:14.115648Z",
     "iopub.status.busy": "2023-08-27T07:43:14.115244Z",
     "iopub.status.idle": "2023-08-27T07:43:14.121676Z",
     "shell.execute_reply": "2023-08-27T07:43:14.120534Z"
    },
    "papermill": {
     "duration": 0.018981,
     "end_time": "2023-08-27T07:43:14.124207",
     "exception": false,
     "start_time": "2023-08-27T07:43:14.105226",
     "status": "completed"
    },
    "tags": []
   },
   "outputs": [
    {
     "name": "stdout",
     "output_type": "stream",
     "text": [
      "1\n",
      "1\n",
      "-3\n",
      "-2\n"
     ]
    }
   ],
   "source": [
    "# Uncomment and run this code to get started!\n",
    "print(int(1.2321))\n",
    "print(int(1.747))\n",
    "print(int(-3.94535))\n",
    "print(int(-2.19774))"
   ]
  },
  {
   "cell_type": "markdown",
   "id": "07775e10",
   "metadata": {
    "papermill": {
     "duration": 0.009094,
     "end_time": "2023-08-27T07:43:14.142150",
     "exception": false,
     "start_time": "2023-08-27T07:43:14.133056",
     "status": "completed"
    },
    "tags": []
   },
   "source": [
    "Once you have an answer, run the code cell below to see the solution.  Viewing the solution will give you credit for answering the problem."
   ]
  },
  {
   "cell_type": "code",
   "execution_count": 4,
   "id": "6497847a",
   "metadata": {
    "execution": {
     "iopub.execute_input": "2023-08-27T07:43:14.162291Z",
     "iopub.status.busy": "2023-08-27T07:43:14.161887Z",
     "iopub.status.idle": "2023-08-27T07:43:14.171867Z",
     "shell.execute_reply": "2023-08-27T07:43:14.170753Z"
    },
    "papermill": {
     "duration": 0.022723,
     "end_time": "2023-08-27T07:43:14.174260",
     "exception": false,
     "start_time": "2023-08-27T07:43:14.151537",
     "status": "completed"
    },
    "tags": []
   },
   "outputs": [
    {
     "data": {
      "application/javascript": [
       "parent.postMessage({\"jupyterEvent\": \"custom.exercise_interaction\", \"data\": {\"outcomeType\": 1, \"valueTowardsCompletion\": 0.2, \"interactionType\": 1, \"questionType\": 4, \"questionId\": \"1_FloatToInt\", \"learnToolsVersion\": \"0.3.4\", \"failureMessage\": \"\", \"exceptionClass\": \"\", \"trace\": \"\"}}, \"*\")"
      ],
      "text/plain": [
       "<IPython.core.display.Javascript object>"
      ]
     },
     "metadata": {},
     "output_type": "display_data"
    },
    {
     "data": {
      "text/markdown": [
       "<span style=\"color:#33cc33\">Correct:</span> \n",
       "\n",
       "Negative floats are always rounded UP to the closest integer (for instance, both -1.1 and -1.9 are rounded up to -1). Positive floats are always rounded DOWN to the closest integer (for instance, 2.1 and 2.9 are rounded down to 2)."
      ],
      "text/plain": [
       "Correct: \n",
       "\n",
       "Negative floats are always rounded UP to the closest integer (for instance, both -1.1 and -1.9 are rounded up to -1). Positive floats are always rounded DOWN to the closest integer (for instance, 2.1 and 2.9 are rounded down to 2)."
      ]
     },
     "metadata": {},
     "output_type": "display_data"
    }
   ],
   "source": [
    "# Check your answer (Run this code cell to receive credit!)\n",
    "q1.check()"
   ]
  },
  {
   "cell_type": "markdown",
   "id": "c6fc1169",
   "metadata": {
    "papermill": {
     "duration": 0.008794,
     "end_time": "2023-08-27T07:43:14.192192",
     "exception": false,
     "start_time": "2023-08-27T07:43:14.183398",
     "status": "completed"
    },
    "tags": []
   },
   "source": [
    "# Question 2\n",
    "\n",
    "In the tutorial, you learned about booleans (which can take a value of `True` or `False`), in addition to integers, floats, and strings.  For this question, your goal is to determine what happens when you multiply a boolean by any of these data types.  Specifically, \n",
    "- What happens when you multiply an integer or float by `True`?  What happens when you multiply them by `False`?  How does the answer change if the numbers are positive or negative?\n",
    "- What happens when you multiply a string by `True`?  By `False`?\n",
    "\n",
    "Use the next code cell for your investigation. "
   ]
  },
  {
   "cell_type": "code",
   "execution_count": 5,
   "id": "39e72e04",
   "metadata": {
    "execution": {
     "iopub.execute_input": "2023-08-27T07:43:14.212338Z",
     "iopub.status.busy": "2023-08-27T07:43:14.211959Z",
     "iopub.status.idle": "2023-08-27T07:43:14.218618Z",
     "shell.execute_reply": "2023-08-27T07:43:14.217204Z"
    },
    "papermill": {
     "duration": 0.019754,
     "end_time": "2023-08-27T07:43:14.221051",
     "exception": false,
     "start_time": "2023-08-27T07:43:14.201297",
     "status": "completed"
    },
    "tags": []
   },
   "outputs": [
    {
     "name": "stdout",
     "output_type": "stream",
     "text": [
      "0\n",
      "-3.1\n",
      "<class 'str'>\n",
      "0\n"
     ]
    }
   ],
   "source": [
    "# Uncomment and run this code to get started!\n",
    "print(3 * False)\n",
    "print(-3.1 * True)\n",
    "print(type(\"abc\" * False))\n",
    "print(len(\"abc\" * False))"
   ]
  },
  {
   "cell_type": "markdown",
   "id": "56cd755b",
   "metadata": {
    "papermill": {
     "duration": 0.009009,
     "end_time": "2023-08-27T07:43:14.239346",
     "exception": false,
     "start_time": "2023-08-27T07:43:14.230337",
     "status": "completed"
    },
    "tags": []
   },
   "source": [
    "Once you have an answer, run the code cell below to see the solution.  Viewing the solution will give you credit for answering the problem."
   ]
  },
  {
   "cell_type": "code",
   "execution_count": 6,
   "id": "4b9193b7",
   "metadata": {
    "execution": {
     "iopub.execute_input": "2023-08-27T07:43:14.259719Z",
     "iopub.status.busy": "2023-08-27T07:43:14.259313Z",
     "iopub.status.idle": "2023-08-27T07:43:14.268043Z",
     "shell.execute_reply": "2023-08-27T07:43:14.266934Z"
    },
    "papermill": {
     "duration": 0.021767,
     "end_time": "2023-08-27T07:43:14.270314",
     "exception": false,
     "start_time": "2023-08-27T07:43:14.248547",
     "status": "completed"
    },
    "tags": []
   },
   "outputs": [
    {
     "data": {
      "application/javascript": [
       "parent.postMessage({\"jupyterEvent\": \"custom.exercise_interaction\", \"data\": {\"outcomeType\": 1, \"valueTowardsCompletion\": 0.2, \"interactionType\": 1, \"questionType\": 4, \"questionId\": \"2_MultiplyBooleans\", \"learnToolsVersion\": \"0.3.4\", \"failureMessage\": \"\", \"exceptionClass\": \"\", \"trace\": \"\"}}, \"*\")"
      ],
      "text/plain": [
       "<IPython.core.display.Javascript object>"
      ]
     },
     "metadata": {},
     "output_type": "display_data"
    },
    {
     "data": {
      "text/markdown": [
       "<span style=\"color:#33cc33\">Correct:</span> \n",
       "\n",
       "When you multiple an integer or float by a boolean with value `True`, it just returns that same integer or float (and is equivalent to multiplying by 1).  If you multiply an integer or float by a boolean with value `False`, it always returns 0.  This is true for both positive and negative numbers.  If you multiply a string by a boolean with value `True`, it just returns that same string.  And if you multiply a string by a boolean with value `False`, it returns an empty string (or a string with length zero)."
      ],
      "text/plain": [
       "Correct: \n",
       "\n",
       "When you multiple an integer or float by a boolean with value `True`, it just returns that same integer or float (and is equivalent to multiplying by 1).  If you multiply an integer or float by a boolean with value `False`, it always returns 0.  This is true for both positive and negative numbers.  If you multiply a string by a boolean with value `True`, it just returns that same string.  And if you multiply a string by a boolean with value `False`, it returns an empty string (or a string with length zero)."
      ]
     },
     "metadata": {},
     "output_type": "display_data"
    }
   ],
   "source": [
    "# Check your answer (Run this code cell to receive credit!)\n",
    "q2.check()"
   ]
  },
  {
   "cell_type": "markdown",
   "id": "3f4fb673",
   "metadata": {
    "papermill": {
     "duration": 0.009275,
     "end_time": "2023-08-27T07:43:14.289369",
     "exception": false,
     "start_time": "2023-08-27T07:43:14.280094",
     "status": "completed"
    },
    "tags": []
   },
   "source": [
    "# Question 3\n",
    "\n",
    "In this question, you will build off your work from the previous exercise to write a function that estimates the value of a house.\n",
    "\n",
    "Use the next code cell to create a function `get_expected_cost` that takes as input three variables:\n",
    "- `beds` - number of bedrooms (data type float)\n",
    "- `baths` - number of bathrooms (data type float)\n",
    "- `has_basement` - whether or not the house has a basement (data type boolean)\n",
    "\n",
    "It should return the expected cost of a house with those characteristics. Assume that:\n",
    "- the expected cost for a house with 0 bedrooms and 0 bathrooms, and no basement is 80000, \n",
    "- each bedroom adds 30000 to the expected cost,\n",
    "- each bathroom adds 10000 to the expected cost, and\n",
    "- a basement adds 40000 to the expected cost.\n",
    "\n",
    "For instance,\n",
    "- a house with 1 bedroom, 1 bathroom, and no basement has an expected cost of 80000 + 30000 + 10000 = 120000.  This value will be calculated with `get_expected_cost(1, 1, False)`.\n",
    "- a house with 2 bedrooms, 1 bathroom, and a basement has an expected cost of 80000 + 2*30000 + 10000 + 40000 = 190000.  This value will be calculated with `get_expected_cost(2, 1, True)`.\n",
    "\n",
    "Remember you can always get a hint by uncommenting `q3.hint()` in the code cell following the next!"
   ]
  },
  {
   "cell_type": "code",
   "execution_count": 7,
   "id": "8014c09c",
   "metadata": {
    "execution": {
     "iopub.execute_input": "2023-08-27T07:43:14.310235Z",
     "iopub.status.busy": "2023-08-27T07:43:14.309826Z",
     "iopub.status.idle": "2023-08-27T07:43:14.320402Z",
     "shell.execute_reply": "2023-08-27T07:43:14.319246Z"
    },
    "papermill": {
     "duration": 0.023894,
     "end_time": "2023-08-27T07:43:14.322874",
     "exception": false,
     "start_time": "2023-08-27T07:43:14.298980",
     "status": "completed"
    },
    "tags": []
   },
   "outputs": [
    {
     "data": {
      "application/javascript": [
       "parent.postMessage({\"jupyterEvent\": \"custom.exercise_interaction\", \"data\": {\"outcomeType\": 1, \"valueTowardsCompletion\": 0.2, \"interactionType\": 1, \"questionType\": 2, \"questionId\": \"3_EstimateHouseValueBool\", \"learnToolsVersion\": \"0.3.4\", \"failureMessage\": \"\", \"exceptionClass\": \"\", \"trace\": \"\"}}, \"*\")"
      ],
      "text/plain": [
       "<IPython.core.display.Javascript object>"
      ]
     },
     "metadata": {},
     "output_type": "display_data"
    },
    {
     "data": {
      "text/markdown": [
       "<span style=\"color:#33cc33\">Correct</span>"
      ],
      "text/plain": [
       "Correct"
      ]
     },
     "metadata": {},
     "output_type": "display_data"
    }
   ],
   "source": [
    "# TODO: Complete the function\n",
    "def get_expected_cost(beds, baths, has_basement):\n",
    "    value = 80000+30000*beds+10000*baths+40000*has_basement\n",
    "    return value\n",
    "\n",
    "# Check your answer \n",
    "q3.check()"
   ]
  },
  {
   "cell_type": "code",
   "execution_count": 8,
   "id": "80e5bd6a",
   "metadata": {
    "execution": {
     "iopub.execute_input": "2023-08-27T07:43:14.345121Z",
     "iopub.status.busy": "2023-08-27T07:43:14.344465Z",
     "iopub.status.idle": "2023-08-27T07:43:14.349437Z",
     "shell.execute_reply": "2023-08-27T07:43:14.348262Z"
    },
    "papermill": {
     "duration": 0.018979,
     "end_time": "2023-08-27T07:43:14.351853",
     "exception": false,
     "start_time": "2023-08-27T07:43:14.332874",
     "status": "completed"
    },
    "tags": []
   },
   "outputs": [],
   "source": [
    "# Uncomment to see a hint\n",
    "#q3.hint()\n",
    "\n",
    "# Uncomment to view the solution\n",
    "#q3.solution()"
   ]
  },
  {
   "cell_type": "markdown",
   "id": "1e0c68d4",
   "metadata": {
    "papermill": {
     "duration": 0.009656,
     "end_time": "2023-08-27T07:43:14.371438",
     "exception": false,
     "start_time": "2023-08-27T07:43:14.361782",
     "status": "completed"
    },
    "tags": []
   },
   "source": [
    "# Question 4\n",
    "\n",
    "We'll continue our study of boolean arithmetic.  For this question, your task is to provide a description of what happpens when you add booleans. \n",
    "\n",
    "Use the next code cell for your investigation.  Feel free to add or remove any lines of code - use it as your workspace!"
   ]
  },
  {
   "cell_type": "code",
   "execution_count": 9,
   "id": "7eedc3bd",
   "metadata": {
    "execution": {
     "iopub.execute_input": "2023-08-27T07:43:14.393252Z",
     "iopub.status.busy": "2023-08-27T07:43:14.392847Z",
     "iopub.status.idle": "2023-08-27T07:43:14.398917Z",
     "shell.execute_reply": "2023-08-27T07:43:14.397786Z"
    },
    "papermill": {
     "duration": 0.020303,
     "end_time": "2023-08-27T07:43:14.401788",
     "exception": false,
     "start_time": "2023-08-27T07:43:14.381485",
     "status": "completed"
    },
    "tags": []
   },
   "outputs": [
    {
     "name": "stdout",
     "output_type": "stream",
     "text": [
      "0\n",
      "1\n",
      "1\n",
      "2\n",
      "3\n"
     ]
    }
   ],
   "source": [
    "print(False + False)\n",
    "print(True + False)\n",
    "print(False + True)\n",
    "print(True + True)\n",
    "print(False + True + True + True)"
   ]
  },
  {
   "cell_type": "markdown",
   "id": "d8fe714b",
   "metadata": {
    "papermill": {
     "duration": 0.009623,
     "end_time": "2023-08-27T07:43:14.421371",
     "exception": false,
     "start_time": "2023-08-27T07:43:14.411748",
     "status": "completed"
    },
    "tags": []
   },
   "source": [
    "Once you have an answer, run the code cell below to see the solution.  Viewing the solution will give you credit for answering the problem."
   ]
  },
  {
   "cell_type": "code",
   "execution_count": 10,
   "id": "167422f4",
   "metadata": {
    "execution": {
     "iopub.execute_input": "2023-08-27T07:43:14.443364Z",
     "iopub.status.busy": "2023-08-27T07:43:14.442986Z",
     "iopub.status.idle": "2023-08-27T07:43:14.451859Z",
     "shell.execute_reply": "2023-08-27T07:43:14.450782Z"
    },
    "papermill": {
     "duration": 0.022682,
     "end_time": "2023-08-27T07:43:14.454171",
     "exception": false,
     "start_time": "2023-08-27T07:43:14.431489",
     "status": "completed"
    },
    "tags": []
   },
   "outputs": [
    {
     "data": {
      "application/javascript": [
       "parent.postMessage({\"jupyterEvent\": \"custom.exercise_interaction\", \"data\": {\"outcomeType\": 1, \"valueTowardsCompletion\": 0.2, \"interactionType\": 1, \"questionType\": 4, \"questionId\": \"4_AddingBooleans\", \"learnToolsVersion\": \"0.3.4\", \"failureMessage\": \"\", \"exceptionClass\": \"\", \"trace\": \"\"}}, \"*\")"
      ],
      "text/plain": [
       "<IPython.core.display.Javascript object>"
      ]
     },
     "metadata": {},
     "output_type": "display_data"
    },
    {
     "data": {
      "text/markdown": [
       "<span style=\"color:#33cc33\">Correct:</span> \n",
       "\n",
       "When you add booleans, adding `False` is equivalent to adding 0, and adding `True` is equivalent to adding 1."
      ],
      "text/plain": [
       "Correct: \n",
       "\n",
       "When you add booleans, adding `False` is equivalent to adding 0, and adding `True` is equivalent to adding 1."
      ]
     },
     "metadata": {},
     "output_type": "display_data"
    }
   ],
   "source": [
    "# Check your answer (Run this code cell to receive credit!)\n",
    "q4.check()"
   ]
  },
  {
   "cell_type": "markdown",
   "id": "d47fca76",
   "metadata": {
    "papermill": {
     "duration": 0.01021,
     "end_time": "2023-08-27T07:43:14.474603",
     "exception": false,
     "start_time": "2023-08-27T07:43:14.464393",
     "status": "completed"
    },
    "tags": []
   },
   "source": [
    "# 🌶️ Question 5\n",
    "\n",
    "You own an online shop where you sell rings with custom engravings.  You offer both gold plated and solid gold rings.\n",
    "- Gold plated rings have a base cost of \\\\$50, and you charge \\\\$7 per engraved unit.  \n",
    "- Solid gold rings have a base cost of \\\\$100, and you charge \\\\$10 per engraved unit.\n",
    "- Spaces and punctuation are counted as engraved units.\n",
    "\n",
    "Write a function `cost_of_project()` that takes two arguments:\n",
    "- `engraving` - a Python string with the text of the engraving\n",
    "- `solid_gold` - a Boolean that indicates whether the ring is solid gold\n",
    "\n",
    "It should return the cost of the project.  This question should be fairly challenging, and you may need a hint."
   ]
  },
  {
   "cell_type": "code",
   "execution_count": 11,
   "id": "b350617b",
   "metadata": {
    "execution": {
     "iopub.execute_input": "2023-08-27T07:43:14.496993Z",
     "iopub.status.busy": "2023-08-27T07:43:14.496569Z",
     "iopub.status.idle": "2023-08-27T07:43:14.505815Z",
     "shell.execute_reply": "2023-08-27T07:43:14.504602Z"
    },
    "papermill": {
     "duration": 0.023432,
     "end_time": "2023-08-27T07:43:14.508245",
     "exception": false,
     "start_time": "2023-08-27T07:43:14.484813",
     "status": "completed"
    },
    "tags": []
   },
   "outputs": [
    {
     "data": {
      "application/javascript": [
       "parent.postMessage({\"jupyterEvent\": \"custom.exercise_interaction\", \"data\": {\"outcomeType\": 2, \"failureMessage\": \"Expected return value of `240` given `engraving='Charlie+Denver'`, `solid_gold=True`, but got `<learntools.core.constants.PlaceholderValue object at 0x793eb1216860>` instead.\", \"interactionType\": 1, \"questionType\": 2, \"questionId\": \"5_CustomEngravings\", \"learnToolsVersion\": \"0.3.4\", \"valueTowardsCompletion\": 0.0, \"exceptionClass\": \"\", \"trace\": \"\"}}, \"*\")"
      ],
      "text/plain": [
       "<IPython.core.display.Javascript object>"
      ]
     },
     "metadata": {},
     "output_type": "display_data"
    },
    {
     "data": {
      "text/markdown": [
       "<span style=\"color:#cc3333\">Incorrect:</span> Expected return value of `240` given `engraving='Charlie+Denver'`, `solid_gold=True`, but got `<learntools.core.constants.PlaceholderValue object at 0x793eb1216860>` instead."
      ],
      "text/plain": [
       "Incorrect: Expected return value of `240` given `engraving='Charlie+Denver'`, `solid_gold=True`, but got `<learntools.core.constants.PlaceholderValue object at 0x793eb1216860>` instead."
      ]
     },
     "metadata": {},
     "output_type": "display_data"
    }
   ],
   "source": [
    "def cost_of_project(engraving, solid_gold):\n",
    "    cost = ____\n",
    "    return cost\n",
    "\n",
    "# Check your answer\n",
    "q5.check()"
   ]
  },
  {
   "cell_type": "code",
   "execution_count": 12,
   "id": "0339473f",
   "metadata": {
    "execution": {
     "iopub.execute_input": "2023-08-27T07:43:14.531289Z",
     "iopub.status.busy": "2023-08-27T07:43:14.530903Z",
     "iopub.status.idle": "2023-08-27T07:43:14.535275Z",
     "shell.execute_reply": "2023-08-27T07:43:14.534256Z"
    },
    "papermill": {
     "duration": 0.018751,
     "end_time": "2023-08-27T07:43:14.537611",
     "exception": false,
     "start_time": "2023-08-27T07:43:14.518860",
     "status": "completed"
    },
    "tags": []
   },
   "outputs": [],
   "source": [
    "# Uncomment to see a hint\n",
    "#q5.hint()\n",
    "\n",
    "# Uncomment to view the solution\n",
    "#q5.solution()"
   ]
  },
  {
   "cell_type": "markdown",
   "id": "8780538a",
   "metadata": {
    "papermill": {
     "duration": 0.010294,
     "end_time": "2023-08-27T07:43:14.558574",
     "exception": false,
     "start_time": "2023-08-27T07:43:14.548280",
     "status": "completed"
    },
    "tags": []
   },
   "source": [
    "Run the next code cell to calculate the cost of engraving `Charlie+Denver` on a solid gold ring."
   ]
  },
  {
   "cell_type": "code",
   "execution_count": 13,
   "id": "8c9400de",
   "metadata": {
    "execution": {
     "iopub.execute_input": "2023-08-27T07:43:14.581447Z",
     "iopub.status.busy": "2023-08-27T07:43:14.581056Z",
     "iopub.status.idle": "2023-08-27T07:43:14.586720Z",
     "shell.execute_reply": "2023-08-27T07:43:14.585548Z"
    },
    "papermill": {
     "duration": 0.020204,
     "end_time": "2023-08-27T07:43:14.589331",
     "exception": false,
     "start_time": "2023-08-27T07:43:14.569127",
     "status": "completed"
    },
    "tags": []
   },
   "outputs": [
    {
     "name": "stdout",
     "output_type": "stream",
     "text": [
      "<learntools.core.constants.PlaceholderValue object at 0x793eb1216860>\n"
     ]
    }
   ],
   "source": [
    "project_one = cost_of_project(\"Charlie+Denver\", True)\n",
    "print(project_one)"
   ]
  },
  {
   "cell_type": "markdown",
   "id": "76af2082",
   "metadata": {
    "papermill": {
     "duration": 0.010465,
     "end_time": "2023-08-27T07:43:14.610664",
     "exception": false,
     "start_time": "2023-08-27T07:43:14.600199",
     "status": "completed"
    },
    "tags": []
   },
   "source": [
    "Use the next code cell to calculate the cost of engraving `08/10/2000` on a gold plated ring."
   ]
  },
  {
   "cell_type": "code",
   "execution_count": 14,
   "id": "02b00f94",
   "metadata": {
    "execution": {
     "iopub.execute_input": "2023-08-27T07:43:14.634581Z",
     "iopub.status.busy": "2023-08-27T07:43:14.634204Z",
     "iopub.status.idle": "2023-08-27T07:43:14.639285Z",
     "shell.execute_reply": "2023-08-27T07:43:14.638157Z"
    },
    "papermill": {
     "duration": 0.021282,
     "end_time": "2023-08-27T07:43:14.642572",
     "exception": false,
     "start_time": "2023-08-27T07:43:14.621290",
     "status": "completed"
    },
    "tags": []
   },
   "outputs": [
    {
     "name": "stdout",
     "output_type": "stream",
     "text": [
      "<learntools.core.constants.PlaceholderValue object at 0x793eb1216860>\n"
     ]
    }
   ],
   "source": [
    "project_two = cost_of_project(\"08/10/2000\", False)\n",
    "print(project_two)"
   ]
  },
  {
   "cell_type": "markdown",
   "id": "73765af6",
   "metadata": {
    "papermill": {
     "duration": 0.01057,
     "end_time": "2023-08-27T07:43:14.664016",
     "exception": false,
     "start_time": "2023-08-27T07:43:14.653446",
     "status": "completed"
    },
    "tags": []
   },
   "source": [
    "# Keep going\n",
    "\n",
    "Continue to the next lesson to **[learn about conditions and conditional statements](https://www.kaggle.com/alexisbcook/conditions-and-conditional-statements)**."
   ]
  },
  {
   "cell_type": "markdown",
   "id": "948fa715",
   "metadata": {
    "papermill": {
     "duration": 0.01046,
     "end_time": "2023-08-27T07:43:14.685521",
     "exception": false,
     "start_time": "2023-08-27T07:43:14.675061",
     "status": "completed"
    },
    "tags": []
   },
   "source": [
    "---\n",
    "\n",
    "\n",
    "\n",
    "\n",
    "*Have questions or comments? Visit the [course discussion forum](https://www.kaggle.com/learn/intro-to-programming/discussion) to chat with other learners.*"
   ]
  }
 ],
 "metadata": {
  "kernelspec": {
   "display_name": "Python 3",
   "language": "python",
   "name": "python3"
  },
  "language_info": {
   "codemirror_mode": {
    "name": "ipython",
    "version": 3
   },
   "file_extension": ".py",
   "mimetype": "text/x-python",
   "name": "python",
   "nbconvert_exporter": "python",
   "pygments_lexer": "ipython3",
   "version": "3.10.12"
  },
  "papermill": {
   "default_parameters": {},
   "duration": 12.977378,
   "end_time": "2023-08-27T07:43:15.622225",
   "environment_variables": {},
   "exception": null,
   "input_path": "__notebook__.ipynb",
   "output_path": "__notebook__.ipynb",
   "parameters": {},
   "start_time": "2023-08-27T07:43:02.644847",
   "version": "2.4.0"
  }
 },
 "nbformat": 4,
 "nbformat_minor": 5
}
