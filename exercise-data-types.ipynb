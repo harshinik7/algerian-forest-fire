{
 "cells": [
  {
   "cell_type": "markdown",
   "id": "5f0d2511",
   "metadata": {
    "papermill": {
     "duration": 0.009681,
     "end_time": "2023-08-27T07:44:16.030373",
     "exception": false,
     "start_time": "2023-08-27T07:44:16.020692",
     "status": "completed"
    },
    "tags": []
   },
   "source": [
    "**This notebook is an exercise in the [Intro to Programming](https://www.kaggle.com/learn/intro-to-programming) course.  You can reference the tutorial at [this link](https://www.kaggle.com/alexisbcook/data-types).**\n",
    "\n",
    "---\n"
   ]
  },
  {
   "cell_type": "markdown",
   "id": "cee3e0bd",
   "metadata": {
    "papermill": {
     "duration": 0.008385,
     "end_time": "2023-08-27T07:44:16.047602",
     "exception": false,
     "start_time": "2023-08-27T07:44:16.039217",
     "status": "completed"
    },
    "tags": []
   },
   "source": [
    "In the tutorial, you learned about four different data types: floats, integers, strings, and booleans.  In this exercise, you'll experiment with them.\n",
    "\n",
    "# Set up the notebook\n",
    "\n",
    "Run the next code cell without changes to set up the notebook."
   ]
  },
  {
   "cell_type": "code",
   "execution_count": 1,
   "id": "4ea33fbd",
   "metadata": {
    "execution": {
     "iopub.execute_input": "2023-08-27T07:44:16.066989Z",
     "iopub.status.busy": "2023-08-27T07:44:16.066453Z",
     "iopub.status.idle": "2023-08-27T07:44:16.115461Z",
     "shell.execute_reply": "2023-08-27T07:44:16.114288Z"
    },
    "papermill": {
     "duration": 0.061977,
     "end_time": "2023-08-27T07:44:16.118274",
     "exception": false,
     "start_time": "2023-08-27T07:44:16.056297",
     "status": "completed"
    },
    "tags": []
   },
   "outputs": [
    {
     "name": "stdout",
     "output_type": "stream",
     "text": [
      "Setup complete.\n"
     ]
    }
   ],
   "source": [
    "# Set up the exercise\n",
    "from learntools.core import binder\n",
    "binder.bind(globals())\n",
    "from learntools.intro_to_programming.ex3 import *\n",
    "print('Setup complete.')"
   ]
  },
  {
   "cell_type": "markdown",
   "id": "8c6942b5",
   "metadata": {
    "papermill": {
     "duration": 0.0083,
     "end_time": "2023-08-27T07:44:16.135175",
     "exception": false,
     "start_time": "2023-08-27T07:44:16.126875",
     "status": "completed"
    },
    "tags": []
   },
   "source": [
    "# Question 1\n",
    "\n",
    "You have seen how to convert a float to an integer with the `int` function.  Try this out yourself by running the code cell below."
   ]
  },
  {
   "cell_type": "code",
   "execution_count": 2,
   "id": "2a9e139a",
   "metadata": {
    "execution": {
     "iopub.execute_input": "2023-08-27T07:44:16.154143Z",
     "iopub.status.busy": "2023-08-27T07:44:16.153713Z",
     "iopub.status.idle": "2023-08-27T07:44:16.160743Z",
     "shell.execute_reply": "2023-08-27T07:44:16.159466Z"
    },
    "papermill": {
     "duration": 0.019515,
     "end_time": "2023-08-27T07:44:16.163233",
     "exception": false,
     "start_time": "2023-08-27T07:44:16.143718",
     "status": "completed"
    },
    "tags": []
   },
   "outputs": [
    {
     "name": "stdout",
     "output_type": "stream",
     "text": [
      "1.0\n",
      "<class 'float'>\n",
      "1\n",
      "<class 'int'>\n"
     ]
    }
   ],
   "source": [
    "# Define a float\n",
    "y = 1.\n",
    "print(y)\n",
    "print(type(y))\n",
    "\n",
    "# Convert float to integer with the int function\n",
    "z = int(y)\n",
    "print(z)\n",
    "print(type(z))"
   ]
  },
  {
   "cell_type": "markdown",
   "id": "1d3216c6",
   "metadata": {
    "papermill": {
     "duration": 0.008672,
     "end_time": "2023-08-27T07:44:16.181200",
     "exception": false,
     "start_time": "2023-08-27T07:44:16.172528",
     "status": "completed"
    },
    "tags": []
   },
   "source": [
    "In this case, the float you are using has no numbers after the decimal.  \n",
    "- But what happens when you try to convert a float with a fractional part to an integer?  \n",
    "- How does the outcome of the `int` function change for positive and negative numbers?\n",
    "\n",
    "Use the next code cell to investigate and answer these questions.  Feel free to add or remove any lines of code -- it is your workspace!"
   ]
  },
  {
   "cell_type": "code",
   "execution_count": 3,
   "id": "c66ea469",
   "metadata": {
    "execution": {
     "iopub.execute_input": "2023-08-27T07:44:16.202070Z",
     "iopub.status.busy": "2023-08-27T07:44:16.201023Z",
     "iopub.status.idle": "2023-08-27T07:44:16.208309Z",
     "shell.execute_reply": "2023-08-27T07:44:16.207055Z"
    },
    "papermill": {
     "duration": 0.019392,
     "end_time": "2023-08-27T07:44:16.210655",
     "exception": false,
     "start_time": "2023-08-27T07:44:16.191263",
     "status": "completed"
    },
    "tags": []
   },
   "outputs": [
    {
     "name": "stdout",
     "output_type": "stream",
     "text": [
      "1\n",
      "1\n",
      "-3\n",
      "-2\n"
     ]
    }
   ],
   "source": [
    "# Uncomment and run this code to get started!\n",
    "print(int(1.2321))\n",
    "print(int(1.747))\n",
    "print(int(-3.94535))\n",
    "print(int(-2.19774))"
   ]
  },
  {
   "cell_type": "markdown",
   "id": "656cf91c",
   "metadata": {
    "papermill": {
     "duration": 0.008547,
     "end_time": "2023-08-27T07:44:16.227982",
     "exception": false,
     "start_time": "2023-08-27T07:44:16.219435",
     "status": "completed"
    },
    "tags": []
   },
   "source": [
    "Once you have an answer, run the code cell below to see the solution.  Viewing the solution will give you credit for answering the problem."
   ]
  },
  {
   "cell_type": "code",
   "execution_count": 4,
   "id": "54a328c4",
   "metadata": {
    "execution": {
     "iopub.execute_input": "2023-08-27T07:44:16.247246Z",
     "iopub.status.busy": "2023-08-27T07:44:16.246805Z",
     "iopub.status.idle": "2023-08-27T07:44:16.257428Z",
     "shell.execute_reply": "2023-08-27T07:44:16.256312Z"
    },
    "papermill": {
     "duration": 0.023,
     "end_time": "2023-08-27T07:44:16.259680",
     "exception": false,
     "start_time": "2023-08-27T07:44:16.236680",
     "status": "completed"
    },
    "tags": []
   },
   "outputs": [
    {
     "data": {
      "application/javascript": [
       "parent.postMessage({\"jupyterEvent\": \"custom.exercise_interaction\", \"data\": {\"outcomeType\": 1, \"valueTowardsCompletion\": 0.2, \"interactionType\": 1, \"questionType\": 4, \"questionId\": \"1_FloatToInt\", \"learnToolsVersion\": \"0.3.4\", \"failureMessage\": \"\", \"exceptionClass\": \"\", \"trace\": \"\"}}, \"*\")"
      ],
      "text/plain": [
       "<IPython.core.display.Javascript object>"
      ]
     },
     "metadata": {},
     "output_type": "display_data"
    },
    {
     "data": {
      "text/markdown": [
       "<span style=\"color:#33cc33\">Correct:</span> \n",
       "\n",
       "Negative floats are always rounded UP to the closest integer (for instance, both -1.1 and -1.9 are rounded up to -1). Positive floats are always rounded DOWN to the closest integer (for instance, 2.1 and 2.9 are rounded down to 2)."
      ],
      "text/plain": [
       "Correct: \n",
       "\n",
       "Negative floats are always rounded UP to the closest integer (for instance, both -1.1 and -1.9 are rounded up to -1). Positive floats are always rounded DOWN to the closest integer (for instance, 2.1 and 2.9 are rounded down to 2)."
      ]
     },
     "metadata": {},
     "output_type": "display_data"
    }
   ],
   "source": [
    "# Check your answer (Run this code cell to receive credit!)\n",
    "q1.check()"
   ]
  },
  {
   "cell_type": "markdown",
   "id": "6ef4c413",
   "metadata": {
    "papermill": {
     "duration": 0.008637,
     "end_time": "2023-08-27T07:44:16.277306",
     "exception": false,
     "start_time": "2023-08-27T07:44:16.268669",
     "status": "completed"
    },
    "tags": []
   },
   "source": [
    "# Question 2\n",
    "\n",
    "In the tutorial, you learned about booleans (which can take a value of `True` or `False`), in addition to integers, floats, and strings.  For this question, your goal is to determine what happens when you multiply a boolean by any of these data types.  Specifically, \n",
    "- What happens when you multiply an integer or float by `True`?  What happens when you multiply them by `False`?  How does the answer change if the numbers are positive or negative?\n",
    "- What happens when you multiply a string by `True`?  By `False`?\n",
    "\n",
    "Use the next code cell for your investigation. "
   ]
  },
  {
   "cell_type": "code",
   "execution_count": 5,
   "id": "03197c68",
   "metadata": {
    "execution": {
     "iopub.execute_input": "2023-08-27T07:44:16.296967Z",
     "iopub.status.busy": "2023-08-27T07:44:16.296541Z",
     "iopub.status.idle": "2023-08-27T07:44:16.302584Z",
     "shell.execute_reply": "2023-08-27T07:44:16.301509Z"
    },
    "papermill": {
     "duration": 0.019814,
     "end_time": "2023-08-27T07:44:16.305956",
     "exception": false,
     "start_time": "2023-08-27T07:44:16.286142",
     "status": "completed"
    },
    "tags": []
   },
   "outputs": [
    {
     "name": "stdout",
     "output_type": "stream",
     "text": [
      "0\n",
      "-3.1\n",
      "<class 'str'>\n",
      "0\n"
     ]
    }
   ],
   "source": [
    "# Uncomment and run this code to get started!\n",
    "print(3 * False)\n",
    "print(-3.1 * True)\n",
    "print(type(\"abc\" * False))\n",
    "print(len(\"abc\" * False))"
   ]
  },
  {
   "cell_type": "markdown",
   "id": "042e84e5",
   "metadata": {
    "papermill": {
     "duration": 0.008686,
     "end_time": "2023-08-27T07:44:16.323897",
     "exception": false,
     "start_time": "2023-08-27T07:44:16.315211",
     "status": "completed"
    },
    "tags": []
   },
   "source": [
    "Once you have an answer, run the code cell below to see the solution.  Viewing the solution will give you credit for answering the problem."
   ]
  },
  {
   "cell_type": "code",
   "execution_count": 6,
   "id": "e5c5d499",
   "metadata": {
    "execution": {
     "iopub.execute_input": "2023-08-27T07:44:16.343501Z",
     "iopub.status.busy": "2023-08-27T07:44:16.343121Z",
     "iopub.status.idle": "2023-08-27T07:44:16.352084Z",
     "shell.execute_reply": "2023-08-27T07:44:16.351017Z"
    },
    "papermill": {
     "duration": 0.021406,
     "end_time": "2023-08-27T07:44:16.354398",
     "exception": false,
     "start_time": "2023-08-27T07:44:16.332992",
     "status": "completed"
    },
    "tags": []
   },
   "outputs": [
    {
     "data": {
      "application/javascript": [
       "parent.postMessage({\"jupyterEvent\": \"custom.exercise_interaction\", \"data\": {\"outcomeType\": 1, \"valueTowardsCompletion\": 0.2, \"interactionType\": 1, \"questionType\": 4, \"questionId\": \"2_MultiplyBooleans\", \"learnToolsVersion\": \"0.3.4\", \"failureMessage\": \"\", \"exceptionClass\": \"\", \"trace\": \"\"}}, \"*\")"
      ],
      "text/plain": [
       "<IPython.core.display.Javascript object>"
      ]
     },
     "metadata": {},
     "output_type": "display_data"
    },
    {
     "data": {
      "text/markdown": [
       "<span style=\"color:#33cc33\">Correct:</span> \n",
       "\n",
       "When you multiple an integer or float by a boolean with value `True`, it just returns that same integer or float (and is equivalent to multiplying by 1).  If you multiply an integer or float by a boolean with value `False`, it always returns 0.  This is true for both positive and negative numbers.  If you multiply a string by a boolean with value `True`, it just returns that same string.  And if you multiply a string by a boolean with value `False`, it returns an empty string (or a string with length zero)."
      ],
      "text/plain": [
       "Correct: \n",
       "\n",
       "When you multiple an integer or float by a boolean with value `True`, it just returns that same integer or float (and is equivalent to multiplying by 1).  If you multiply an integer or float by a boolean with value `False`, it always returns 0.  This is true for both positive and negative numbers.  If you multiply a string by a boolean with value `True`, it just returns that same string.  And if you multiply a string by a boolean with value `False`, it returns an empty string (or a string with length zero)."
      ]
     },
     "metadata": {},
     "output_type": "display_data"
    }
   ],
   "source": [
    "# Check your answer (Run this code cell to receive credit!)\n",
    "q2.check()"
   ]
  },
  {
   "cell_type": "markdown",
   "id": "f502e3cf",
   "metadata": {
    "papermill": {
     "duration": 0.009246,
     "end_time": "2023-08-27T07:44:16.373695",
     "exception": false,
     "start_time": "2023-08-27T07:44:16.364449",
     "status": "completed"
    },
    "tags": []
   },
   "source": [
    "# Question 3\n",
    "\n",
    "In this question, you will build off your work from the previous exercise to write a function that estimates the value of a house.\n",
    "\n",
    "Use the next code cell to create a function `get_expected_cost` that takes as input three variables:\n",
    "- `beds` - number of bedrooms (data type float)\n",
    "- `baths` - number of bathrooms (data type float)\n",
    "- `has_basement` - whether or not the house has a basement (data type boolean)\n",
    "\n",
    "It should return the expected cost of a house with those characteristics. Assume that:\n",
    "- the expected cost for a house with 0 bedrooms and 0 bathrooms, and no basement is 80000, \n",
    "- each bedroom adds 30000 to the expected cost,\n",
    "- each bathroom adds 10000 to the expected cost, and\n",
    "- a basement adds 40000 to the expected cost.\n",
    "\n",
    "For instance,\n",
    "- a house with 1 bedroom, 1 bathroom, and no basement has an expected cost of 80000 + 30000 + 10000 = 120000.  This value will be calculated with `get_expected_cost(1, 1, False)`.\n",
    "- a house with 2 bedrooms, 1 bathroom, and a basement has an expected cost of 80000 + 2*30000 + 10000 + 40000 = 190000.  This value will be calculated with `get_expected_cost(2, 1, True)`.\n",
    "\n",
    "Remember you can always get a hint by uncommenting `q3.hint()` in the code cell following the next!"
   ]
  },
  {
   "cell_type": "code",
   "execution_count": 7,
   "id": "2ea903eb",
   "metadata": {
    "execution": {
     "iopub.execute_input": "2023-08-27T07:44:16.394397Z",
     "iopub.status.busy": "2023-08-27T07:44:16.394010Z",
     "iopub.status.idle": "2023-08-27T07:44:16.403368Z",
     "shell.execute_reply": "2023-08-27T07:44:16.402199Z"
    },
    "papermill": {
     "duration": 0.022708,
     "end_time": "2023-08-27T07:44:16.405805",
     "exception": false,
     "start_time": "2023-08-27T07:44:16.383097",
     "status": "completed"
    },
    "tags": []
   },
   "outputs": [
    {
     "data": {
      "application/javascript": [
       "parent.postMessage({\"jupyterEvent\": \"custom.exercise_interaction\", \"data\": {\"outcomeType\": 1, \"valueTowardsCompletion\": 0.2, \"interactionType\": 1, \"questionType\": 2, \"questionId\": \"3_EstimateHouseValueBool\", \"learnToolsVersion\": \"0.3.4\", \"failureMessage\": \"\", \"exceptionClass\": \"\", \"trace\": \"\"}}, \"*\")"
      ],
      "text/plain": [
       "<IPython.core.display.Javascript object>"
      ]
     },
     "metadata": {},
     "output_type": "display_data"
    },
    {
     "data": {
      "text/markdown": [
       "<span style=\"color:#33cc33\">Correct</span>"
      ],
      "text/plain": [
       "Correct"
      ]
     },
     "metadata": {},
     "output_type": "display_data"
    }
   ],
   "source": [
    "# TODO: Complete the function\n",
    "def get_expected_cost(beds, baths, has_basement):\n",
    "    value = 80000+30000*beds+10000*baths+40000*has_basement\n",
    "    return value\n",
    "\n",
    "# Check your answer \n",
    "q3.check()"
   ]
  },
  {
   "cell_type": "code",
   "execution_count": 8,
   "id": "fbddbc00",
   "metadata": {
    "execution": {
     "iopub.execute_input": "2023-08-27T07:44:16.427396Z",
     "iopub.status.busy": "2023-08-27T07:44:16.426946Z",
     "iopub.status.idle": "2023-08-27T07:44:16.432513Z",
     "shell.execute_reply": "2023-08-27T07:44:16.431292Z"
    },
    "papermill": {
     "duration": 0.019307,
     "end_time": "2023-08-27T07:44:16.435091",
     "exception": false,
     "start_time": "2023-08-27T07:44:16.415784",
     "status": "completed"
    },
    "tags": []
   },
   "outputs": [],
   "source": [
    "# Uncomment to see a hint\n",
    "#q3.hint()\n",
    "\n",
    "# Uncomment to view the solution\n",
    "#q3.solution()"
   ]
  },
  {
   "cell_type": "markdown",
   "id": "7131d6d2",
   "metadata": {
    "papermill": {
     "duration": 0.009892,
     "end_time": "2023-08-27T07:44:16.455021",
     "exception": false,
     "start_time": "2023-08-27T07:44:16.445129",
     "status": "completed"
    },
    "tags": []
   },
   "source": [
    "# Question 4\n",
    "\n",
    "We'll continue our study of boolean arithmetic.  For this question, your task is to provide a description of what happpens when you add booleans. \n",
    "\n",
    "Use the next code cell for your investigation.  Feel free to add or remove any lines of code - use it as your workspace!"
   ]
  },
  {
   "cell_type": "code",
   "execution_count": 9,
   "id": "637680dd",
   "metadata": {
    "execution": {
     "iopub.execute_input": "2023-08-27T07:44:16.477898Z",
     "iopub.status.busy": "2023-08-27T07:44:16.477461Z",
     "iopub.status.idle": "2023-08-27T07:44:16.483469Z",
     "shell.execute_reply": "2023-08-27T07:44:16.482315Z"
    },
    "papermill": {
     "duration": 0.019958,
     "end_time": "2023-08-27T07:44:16.485851",
     "exception": false,
     "start_time": "2023-08-27T07:44:16.465893",
     "status": "completed"
    },
    "tags": []
   },
   "outputs": [
    {
     "name": "stdout",
     "output_type": "stream",
     "text": [
      "0\n",
      "1\n",
      "1\n",
      "2\n",
      "3\n"
     ]
    }
   ],
   "source": [
    "print(False + False)\n",
    "print(True + False)\n",
    "print(False + True)\n",
    "print(True + True)\n",
    "print(False + True + True + True)"
   ]
  },
  {
   "cell_type": "markdown",
   "id": "8391a7e7",
   "metadata": {
    "papermill": {
     "duration": 0.009989,
     "end_time": "2023-08-27T07:44:16.506038",
     "exception": false,
     "start_time": "2023-08-27T07:44:16.496049",
     "status": "completed"
    },
    "tags": []
   },
   "source": [
    "Once you have an answer, run the code cell below to see the solution.  Viewing the solution will give you credit for answering the problem."
   ]
  },
  {
   "cell_type": "code",
   "execution_count": 10,
   "id": "e2289c22",
   "metadata": {
    "execution": {
     "iopub.execute_input": "2023-08-27T07:44:16.527821Z",
     "iopub.status.busy": "2023-08-27T07:44:16.527458Z",
     "iopub.status.idle": "2023-08-27T07:44:16.535473Z",
     "shell.execute_reply": "2023-08-27T07:44:16.534697Z"
    },
    "papermill": {
     "duration": 0.021359,
     "end_time": "2023-08-27T07:44:16.537569",
     "exception": false,
     "start_time": "2023-08-27T07:44:16.516210",
     "status": "completed"
    },
    "tags": []
   },
   "outputs": [
    {
     "data": {
      "application/javascript": [
       "parent.postMessage({\"jupyterEvent\": \"custom.exercise_interaction\", \"data\": {\"outcomeType\": 1, \"valueTowardsCompletion\": 0.2, \"interactionType\": 1, \"questionType\": 4, \"questionId\": \"4_AddingBooleans\", \"learnToolsVersion\": \"0.3.4\", \"failureMessage\": \"\", \"exceptionClass\": \"\", \"trace\": \"\"}}, \"*\")"
      ],
      "text/plain": [
       "<IPython.core.display.Javascript object>"
      ]
     },
     "metadata": {},
     "output_type": "display_data"
    },
    {
     "data": {
      "text/markdown": [
       "<span style=\"color:#33cc33\">Correct:</span> \n",
       "\n",
       "When you add booleans, adding `False` is equivalent to adding 0, and adding `True` is equivalent to adding 1."
      ],
      "text/plain": [
       "Correct: \n",
       "\n",
       "When you add booleans, adding `False` is equivalent to adding 0, and adding `True` is equivalent to adding 1."
      ]
     },
     "metadata": {},
     "output_type": "display_data"
    }
   ],
   "source": [
    "# Check your answer (Run this code cell to receive credit!)\n",
    "q4.check()"
   ]
  },
  {
   "cell_type": "markdown",
   "id": "9f46daac",
   "metadata": {
    "papermill": {
     "duration": 0.010445,
     "end_time": "2023-08-27T07:44:16.558131",
     "exception": false,
     "start_time": "2023-08-27T07:44:16.547686",
     "status": "completed"
    },
    "tags": []
   },
   "source": [
    "# 🌶️ Question 5\n",
    "\n",
    "You own an online shop where you sell rings with custom engravings.  You offer both gold plated and solid gold rings.\n",
    "- Gold plated rings have a base cost of \\\\$50, and you charge \\\\$7 per engraved unit.  \n",
    "- Solid gold rings have a base cost of \\\\$100, and you charge \\\\$10 per engraved unit.\n",
    "- Spaces and punctuation are counted as engraved units.\n",
    "\n",
    "Write a function `cost_of_project()` that takes two arguments:\n",
    "- `engraving` - a Python string with the text of the engraving\n",
    "- `solid_gold` - a Boolean that indicates whether the ring is solid gold\n",
    "\n",
    "It should return the cost of the project.  This question should be fairly challenging, and you may need a hint."
   ]
  },
  {
   "cell_type": "code",
   "execution_count": 11,
   "id": "0d54c090",
   "metadata": {
    "execution": {
     "iopub.execute_input": "2023-08-27T07:44:16.580438Z",
     "iopub.status.busy": "2023-08-27T07:44:16.580064Z",
     "iopub.status.idle": "2023-08-27T07:44:16.589614Z",
     "shell.execute_reply": "2023-08-27T07:44:16.588523Z"
    },
    "papermill": {
     "duration": 0.024561,
     "end_time": "2023-08-27T07:44:16.592949",
     "exception": false,
     "start_time": "2023-08-27T07:44:16.568388",
     "status": "completed"
    },
    "tags": []
   },
   "outputs": [
    {
     "data": {
      "application/javascript": [
       "parent.postMessage({\"jupyterEvent\": \"custom.exercise_interaction\", \"data\": {\"outcomeType\": 2, \"failureMessage\": \"Expected return value of `240` given `engraving='Charlie+Denver'`, `solid_gold=True`, but got `<learntools.core.constants.PlaceholderValue object at 0x7b022a7e35e0>` instead.\", \"interactionType\": 1, \"questionType\": 2, \"questionId\": \"5_CustomEngravings\", \"learnToolsVersion\": \"0.3.4\", \"valueTowardsCompletion\": 0.0, \"exceptionClass\": \"\", \"trace\": \"\"}}, \"*\")"
      ],
      "text/plain": [
       "<IPython.core.display.Javascript object>"
      ]
     },
     "metadata": {},
     "output_type": "display_data"
    },
    {
     "data": {
      "text/markdown": [
       "<span style=\"color:#cc3333\">Incorrect:</span> Expected return value of `240` given `engraving='Charlie+Denver'`, `solid_gold=True`, but got `<learntools.core.constants.PlaceholderValue object at 0x7b022a7e35e0>` instead."
      ],
      "text/plain": [
       "Incorrect: Expected return value of `240` given `engraving='Charlie+Denver'`, `solid_gold=True`, but got `<learntools.core.constants.PlaceholderValue object at 0x7b022a7e35e0>` instead."
      ]
     },
     "metadata": {},
     "output_type": "display_data"
    }
   ],
   "source": [
    "def cost_of_project(engraving, solid_gold):\n",
    "    cost = ____\n",
    "    return cost\n",
    "\n",
    "# Check your answer\n",
    "q5.check()"
   ]
  },
  {
   "cell_type": "code",
   "execution_count": 12,
   "id": "1ce15c33",
   "metadata": {
    "execution": {
     "iopub.execute_input": "2023-08-27T07:44:16.616099Z",
     "iopub.status.busy": "2023-08-27T07:44:16.615668Z",
     "iopub.status.idle": "2023-08-27T07:44:16.620781Z",
     "shell.execute_reply": "2023-08-27T07:44:16.619379Z"
    },
    "papermill": {
     "duration": 0.019124,
     "end_time": "2023-08-27T07:44:16.623075",
     "exception": false,
     "start_time": "2023-08-27T07:44:16.603951",
     "status": "completed"
    },
    "tags": []
   },
   "outputs": [],
   "source": [
    "# Uncomment to see a hint\n",
    "#q5.hint()\n",
    "\n",
    "# Uncomment to view the solution\n",
    "#q5.solution()"
   ]
  },
  {
   "cell_type": "markdown",
   "id": "675d97b0",
   "metadata": {
    "papermill": {
     "duration": 0.010176,
     "end_time": "2023-08-27T07:44:16.643692",
     "exception": false,
     "start_time": "2023-08-27T07:44:16.633516",
     "status": "completed"
    },
    "tags": []
   },
   "source": [
    "Run the next code cell to calculate the cost of engraving `Charlie+Denver` on a solid gold ring."
   ]
  },
  {
   "cell_type": "code",
   "execution_count": 13,
   "id": "6a60d02e",
   "metadata": {
    "execution": {
     "iopub.execute_input": "2023-08-27T07:44:16.666300Z",
     "iopub.status.busy": "2023-08-27T07:44:16.665878Z",
     "iopub.status.idle": "2023-08-27T07:44:16.671625Z",
     "shell.execute_reply": "2023-08-27T07:44:16.670407Z"
    },
    "papermill": {
     "duration": 0.019803,
     "end_time": "2023-08-27T07:44:16.673895",
     "exception": false,
     "start_time": "2023-08-27T07:44:16.654092",
     "status": "completed"
    },
    "tags": []
   },
   "outputs": [
    {
     "name": "stdout",
     "output_type": "stream",
     "text": [
      "<learntools.core.constants.PlaceholderValue object at 0x7b022a7e35e0>\n"
     ]
    }
   ],
   "source": [
    "project_one = cost_of_project(\"Charlie+Denver\", True)\n",
    "print(project_one)"
   ]
  },
  {
   "cell_type": "markdown",
   "id": "54ad4916",
   "metadata": {
    "papermill": {
     "duration": 0.010301,
     "end_time": "2023-08-27T07:44:16.694884",
     "exception": false,
     "start_time": "2023-08-27T07:44:16.684583",
     "status": "completed"
    },
    "tags": []
   },
   "source": [
    "Use the next code cell to calculate the cost of engraving `08/10/2000` on a gold plated ring."
   ]
  },
  {
   "cell_type": "code",
   "execution_count": 14,
   "id": "3a260d11",
   "metadata": {
    "execution": {
     "iopub.execute_input": "2023-08-27T07:44:16.717966Z",
     "iopub.status.busy": "2023-08-27T07:44:16.717540Z",
     "iopub.status.idle": "2023-08-27T07:44:16.722496Z",
     "shell.execute_reply": "2023-08-27T07:44:16.721624Z"
    },
    "papermill": {
     "duration": 0.019205,
     "end_time": "2023-08-27T07:44:16.724585",
     "exception": false,
     "start_time": "2023-08-27T07:44:16.705380",
     "status": "completed"
    },
    "tags": []
   },
   "outputs": [
    {
     "name": "stdout",
     "output_type": "stream",
     "text": [
      "<learntools.core.constants.PlaceholderValue object at 0x7b022a7e35e0>\n"
     ]
    }
   ],
   "source": [
    "project_two = cost_of_project(\"08/10/2000\", False)\n",
    "print(project_two)"
   ]
  },
  {
   "cell_type": "markdown",
   "id": "1d5e6c22",
   "metadata": {
    "papermill": {
     "duration": 0.010232,
     "end_time": "2023-08-27T07:44:16.745455",
     "exception": false,
     "start_time": "2023-08-27T07:44:16.735223",
     "status": "completed"
    },
    "tags": []
   },
   "source": [
    "# Keep going\n",
    "\n",
    "Continue to the next lesson to **[learn about conditions and conditional statements](https://www.kaggle.com/alexisbcook/conditions-and-conditional-statements)**."
   ]
  },
  {
   "cell_type": "markdown",
   "id": "ed4d527e",
   "metadata": {
    "papermill": {
     "duration": 0.010307,
     "end_time": "2023-08-27T07:44:16.766551",
     "exception": false,
     "start_time": "2023-08-27T07:44:16.756244",
     "status": "completed"
    },
    "tags": []
   },
   "source": [
    "---\n",
    "\n",
    "\n",
    "\n",
    "\n",
    "*Have questions or comments? Visit the [course discussion forum](https://www.kaggle.com/learn/intro-to-programming/discussion) to chat with other learners.*"
   ]
  }
 ],
 "metadata": {
  "kernelspec": {
   "display_name": "Python 3",
   "language": "python",
   "name": "python3"
  },
  "language_info": {
   "codemirror_mode": {
    "name": "ipython",
    "version": 3
   },
   "file_extension": ".py",
   "mimetype": "text/x-python",
   "name": "python",
   "nbconvert_exporter": "python",
   "pygments_lexer": "ipython3",
   "version": "3.10.12"
  },
  "papermill": {
   "default_parameters": {},
   "duration": 12.769364,
   "end_time": "2023-08-27T07:44:17.600208",
   "environment_variables": {},
   "exception": null,
   "input_path": "__notebook__.ipynb",
   "output_path": "__notebook__.ipynb",
   "parameters": {},
   "start_time": "2023-08-27T07:44:04.830844",
   "version": "2.4.0"
  }
 },
 "nbformat": 4,
 "nbformat_minor": 5
}
