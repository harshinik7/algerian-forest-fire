{
 "cells": [
  {
   "cell_type": "markdown",
   "id": "03cc8d55",
   "metadata": {
    "papermill": {
     "duration": 0.008722,
     "end_time": "2023-08-27T07:48:46.315493",
     "exception": false,
     "start_time": "2023-08-27T07:48:46.306771",
     "status": "completed"
    },
    "tags": []
   },
   "source": [
    "**This notebook is an exercise in the [Intro to Programming](https://www.kaggle.com/learn/intro-to-programming) course.  You can reference the tutorial at [this link](https://www.kaggle.com/alexisbcook/data-types).**\n",
    "\n",
    "---\n"
   ]
  },
  {
   "cell_type": "markdown",
   "id": "a0cce28b",
   "metadata": {
    "papermill": {
     "duration": 0.007244,
     "end_time": "2023-08-27T07:48:46.331054",
     "exception": false,
     "start_time": "2023-08-27T07:48:46.323810",
     "status": "completed"
    },
    "tags": []
   },
   "source": [
    "In the tutorial, you learned about four different data types: floats, integers, strings, and booleans.  In this exercise, you'll experiment with them.\n",
    "\n",
    "# Set up the notebook\n",
    "\n",
    "Run the next code cell without changes to set up the notebook."
   ]
  },
  {
   "cell_type": "code",
   "execution_count": 1,
   "id": "00043de4",
   "metadata": {
    "execution": {
     "iopub.execute_input": "2023-08-27T07:48:46.349004Z",
     "iopub.status.busy": "2023-08-27T07:48:46.348262Z",
     "iopub.status.idle": "2023-08-27T07:48:46.388417Z",
     "shell.execute_reply": "2023-08-27T07:48:46.387373Z"
    },
    "papermill": {
     "duration": 0.052401,
     "end_time": "2023-08-27T07:48:46.391326",
     "exception": false,
     "start_time": "2023-08-27T07:48:46.338925",
     "status": "completed"
    },
    "tags": []
   },
   "outputs": [
    {
     "name": "stdout",
     "output_type": "stream",
     "text": [
      "Setup complete.\n"
     ]
    }
   ],
   "source": [
    "# Set up the exercise\n",
    "from learntools.core import binder\n",
    "binder.bind(globals())\n",
    "from learntools.intro_to_programming.ex3 import *\n",
    "print('Setup complete.')"
   ]
  },
  {
   "cell_type": "markdown",
   "id": "925c4a74",
   "metadata": {
    "papermill": {
     "duration": 0.007732,
     "end_time": "2023-08-27T07:48:46.407309",
     "exception": false,
     "start_time": "2023-08-27T07:48:46.399577",
     "status": "completed"
    },
    "tags": []
   },
   "source": [
    "# Question 1\n",
    "\n",
    "You have seen how to convert a float to an integer with the `int` function.  Try this out yourself by running the code cell below."
   ]
  },
  {
   "cell_type": "code",
   "execution_count": 2,
   "id": "f1f53baf",
   "metadata": {
    "execution": {
     "iopub.execute_input": "2023-08-27T07:48:46.425364Z",
     "iopub.status.busy": "2023-08-27T07:48:46.424597Z",
     "iopub.status.idle": "2023-08-27T07:48:46.431103Z",
     "shell.execute_reply": "2023-08-27T07:48:46.430168Z"
    },
    "papermill": {
     "duration": 0.018067,
     "end_time": "2023-08-27T07:48:46.433287",
     "exception": false,
     "start_time": "2023-08-27T07:48:46.415220",
     "status": "completed"
    },
    "tags": []
   },
   "outputs": [
    {
     "name": "stdout",
     "output_type": "stream",
     "text": [
      "1.0\n",
      "<class 'float'>\n",
      "1\n",
      "<class 'int'>\n"
     ]
    }
   ],
   "source": [
    "# Define a float\n",
    "y = 1.\n",
    "print(y)\n",
    "print(type(y))\n",
    "\n",
    "# Convert float to integer with the int function\n",
    "z = int(y)\n",
    "print(z)\n",
    "print(type(z))"
   ]
  },
  {
   "cell_type": "markdown",
   "id": "451f60b3",
   "metadata": {
    "papermill": {
     "duration": 0.007954,
     "end_time": "2023-08-27T07:48:46.449672",
     "exception": false,
     "start_time": "2023-08-27T07:48:46.441718",
     "status": "completed"
    },
    "tags": []
   },
   "source": [
    "In this case, the float you are using has no numbers after the decimal.  \n",
    "- But what happens when you try to convert a float with a fractional part to an integer?  \n",
    "- How does the outcome of the `int` function change for positive and negative numbers?\n",
    "\n",
    "Use the next code cell to investigate and answer these questions.  Feel free to add or remove any lines of code -- it is your workspace!"
   ]
  },
  {
   "cell_type": "code",
   "execution_count": 3,
   "id": "66372644",
   "metadata": {
    "execution": {
     "iopub.execute_input": "2023-08-27T07:48:46.469468Z",
     "iopub.status.busy": "2023-08-27T07:48:46.468685Z",
     "iopub.status.idle": "2023-08-27T07:48:46.475694Z",
     "shell.execute_reply": "2023-08-27T07:48:46.474660Z"
    },
    "papermill": {
     "duration": 0.019012,
     "end_time": "2023-08-27T07:48:46.478171",
     "exception": false,
     "start_time": "2023-08-27T07:48:46.459159",
     "status": "completed"
    },
    "tags": []
   },
   "outputs": [
    {
     "name": "stdout",
     "output_type": "stream",
     "text": [
      "1\n",
      "1\n",
      "-3\n",
      "-2\n"
     ]
    }
   ],
   "source": [
    "# Uncomment and run this code to get started!\n",
    "print(int(1.2321))\n",
    "print(int(1.747))\n",
    "print(int(-3.94535))\n",
    "print(int(-2.19774))"
   ]
  },
  {
   "cell_type": "markdown",
   "id": "8fd3e541",
   "metadata": {
    "papermill": {
     "duration": 0.00834,
     "end_time": "2023-08-27T07:48:46.495013",
     "exception": false,
     "start_time": "2023-08-27T07:48:46.486673",
     "status": "completed"
    },
    "tags": []
   },
   "source": [
    "Once you have an answer, run the code cell below to see the solution.  Viewing the solution will give you credit for answering the problem."
   ]
  },
  {
   "cell_type": "code",
   "execution_count": 4,
   "id": "a5ed2458",
   "metadata": {
    "execution": {
     "iopub.execute_input": "2023-08-27T07:48:46.513843Z",
     "iopub.status.busy": "2023-08-27T07:48:46.513155Z",
     "iopub.status.idle": "2023-08-27T07:48:46.523212Z",
     "shell.execute_reply": "2023-08-27T07:48:46.522243Z"
    },
    "papermill": {
     "duration": 0.021972,
     "end_time": "2023-08-27T07:48:46.525302",
     "exception": false,
     "start_time": "2023-08-27T07:48:46.503330",
     "status": "completed"
    },
    "tags": []
   },
   "outputs": [
    {
     "data": {
      "application/javascript": [
       "parent.postMessage({\"jupyterEvent\": \"custom.exercise_interaction\", \"data\": {\"outcomeType\": 1, \"valueTowardsCompletion\": 0.2, \"interactionType\": 1, \"questionType\": 4, \"questionId\": \"1_FloatToInt\", \"learnToolsVersion\": \"0.3.4\", \"failureMessage\": \"\", \"exceptionClass\": \"\", \"trace\": \"\"}}, \"*\")"
      ],
      "text/plain": [
       "<IPython.core.display.Javascript object>"
      ]
     },
     "metadata": {},
     "output_type": "display_data"
    },
    {
     "data": {
      "text/markdown": [
       "<span style=\"color:#33cc33\">Correct:</span> \n",
       "\n",
       "Negative floats are always rounded UP to the closest integer (for instance, both -1.1 and -1.9 are rounded up to -1). Positive floats are always rounded DOWN to the closest integer (for instance, 2.1 and 2.9 are rounded down to 2)."
      ],
      "text/plain": [
       "Correct: \n",
       "\n",
       "Negative floats are always rounded UP to the closest integer (for instance, both -1.1 and -1.9 are rounded up to -1). Positive floats are always rounded DOWN to the closest integer (for instance, 2.1 and 2.9 are rounded down to 2)."
      ]
     },
     "metadata": {},
     "output_type": "display_data"
    }
   ],
   "source": [
    "# Check your answer (Run this code cell to receive credit!)\n",
    "q1.check()"
   ]
  },
  {
   "cell_type": "markdown",
   "id": "f30105d0",
   "metadata": {
    "papermill": {
     "duration": 0.008147,
     "end_time": "2023-08-27T07:48:46.542113",
     "exception": false,
     "start_time": "2023-08-27T07:48:46.533966",
     "status": "completed"
    },
    "tags": []
   },
   "source": [
    "# Question 2\n",
    "\n",
    "In the tutorial, you learned about booleans (which can take a value of `True` or `False`), in addition to integers, floats, and strings.  For this question, your goal is to determine what happens when you multiply a boolean by any of these data types.  Specifically, \n",
    "- What happens when you multiply an integer or float by `True`?  What happens when you multiply them by `False`?  How does the answer change if the numbers are positive or negative?\n",
    "- What happens when you multiply a string by `True`?  By `False`?\n",
    "\n",
    "Use the next code cell for your investigation. "
   ]
  },
  {
   "cell_type": "code",
   "execution_count": 5,
   "id": "25361aa2",
   "metadata": {
    "execution": {
     "iopub.execute_input": "2023-08-27T07:48:46.560908Z",
     "iopub.status.busy": "2023-08-27T07:48:46.560208Z",
     "iopub.status.idle": "2023-08-27T07:48:46.566363Z",
     "shell.execute_reply": "2023-08-27T07:48:46.565470Z"
    },
    "papermill": {
     "duration": 0.017792,
     "end_time": "2023-08-27T07:48:46.568347",
     "exception": false,
     "start_time": "2023-08-27T07:48:46.550555",
     "status": "completed"
    },
    "tags": []
   },
   "outputs": [
    {
     "name": "stdout",
     "output_type": "stream",
     "text": [
      "0\n",
      "-3.1\n",
      "<class 'str'>\n",
      "0\n"
     ]
    }
   ],
   "source": [
    "# Uncomment and run this code to get started!\n",
    "print(3 * False)\n",
    "print(-3.1 * True)\n",
    "print(type(\"abc\" * False))\n",
    "print(len(\"abc\" * False))"
   ]
  },
  {
   "cell_type": "markdown",
   "id": "00c8167a",
   "metadata": {
    "papermill": {
     "duration": 0.008159,
     "end_time": "2023-08-27T07:48:46.584880",
     "exception": false,
     "start_time": "2023-08-27T07:48:46.576721",
     "status": "completed"
    },
    "tags": []
   },
   "source": [
    "Once you have an answer, run the code cell below to see the solution.  Viewing the solution will give you credit for answering the problem."
   ]
  },
  {
   "cell_type": "code",
   "execution_count": 6,
   "id": "6b0db22f",
   "metadata": {
    "execution": {
     "iopub.execute_input": "2023-08-27T07:48:46.604104Z",
     "iopub.status.busy": "2023-08-27T07:48:46.603697Z",
     "iopub.status.idle": "2023-08-27T07:48:46.612461Z",
     "shell.execute_reply": "2023-08-27T07:48:46.611559Z"
    },
    "papermill": {
     "duration": 0.021064,
     "end_time": "2023-08-27T07:48:46.614586",
     "exception": false,
     "start_time": "2023-08-27T07:48:46.593522",
     "status": "completed"
    },
    "tags": []
   },
   "outputs": [
    {
     "data": {
      "application/javascript": [
       "parent.postMessage({\"jupyterEvent\": \"custom.exercise_interaction\", \"data\": {\"outcomeType\": 1, \"valueTowardsCompletion\": 0.2, \"interactionType\": 1, \"questionType\": 4, \"questionId\": \"2_MultiplyBooleans\", \"learnToolsVersion\": \"0.3.4\", \"failureMessage\": \"\", \"exceptionClass\": \"\", \"trace\": \"\"}}, \"*\")"
      ],
      "text/plain": [
       "<IPython.core.display.Javascript object>"
      ]
     },
     "metadata": {},
     "output_type": "display_data"
    },
    {
     "data": {
      "text/markdown": [
       "<span style=\"color:#33cc33\">Correct:</span> \n",
       "\n",
       "When you multiple an integer or float by a boolean with value `True`, it just returns that same integer or float (and is equivalent to multiplying by 1).  If you multiply an integer or float by a boolean with value `False`, it always returns 0.  This is true for both positive and negative numbers.  If you multiply a string by a boolean with value `True`, it just returns that same string.  And if you multiply a string by a boolean with value `False`, it returns an empty string (or a string with length zero)."
      ],
      "text/plain": [
       "Correct: \n",
       "\n",
       "When you multiple an integer or float by a boolean with value `True`, it just returns that same integer or float (and is equivalent to multiplying by 1).  If you multiply an integer or float by a boolean with value `False`, it always returns 0.  This is true for both positive and negative numbers.  If you multiply a string by a boolean with value `True`, it just returns that same string.  And if you multiply a string by a boolean with value `False`, it returns an empty string (or a string with length zero)."
      ]
     },
     "metadata": {},
     "output_type": "display_data"
    }
   ],
   "source": [
    "# Check your answer (Run this code cell to receive credit!)\n",
    "q2.check()"
   ]
  },
  {
   "cell_type": "markdown",
   "id": "c204a0d5",
   "metadata": {
    "papermill": {
     "duration": 0.008719,
     "end_time": "2023-08-27T07:48:46.632481",
     "exception": false,
     "start_time": "2023-08-27T07:48:46.623762",
     "status": "completed"
    },
    "tags": []
   },
   "source": [
    "# Question 3\n",
    "\n",
    "In this question, you will build off your work from the previous exercise to write a function that estimates the value of a house.\n",
    "\n",
    "Use the next code cell to create a function `get_expected_cost` that takes as input three variables:\n",
    "- `beds` - number of bedrooms (data type float)\n",
    "- `baths` - number of bathrooms (data type float)\n",
    "- `has_basement` - whether or not the house has a basement (data type boolean)\n",
    "\n",
    "It should return the expected cost of a house with those characteristics. Assume that:\n",
    "- the expected cost for a house with 0 bedrooms and 0 bathrooms, and no basement is 80000, \n",
    "- each bedroom adds 30000 to the expected cost,\n",
    "- each bathroom adds 10000 to the expected cost, and\n",
    "- a basement adds 40000 to the expected cost.\n",
    "\n",
    "For instance,\n",
    "- a house with 1 bedroom, 1 bathroom, and no basement has an expected cost of 80000 + 30000 + 10000 = 120000.  This value will be calculated with `get_expected_cost(1, 1, False)`.\n",
    "- a house with 2 bedrooms, 1 bathroom, and a basement has an expected cost of 80000 + 2*30000 + 10000 + 40000 = 190000.  This value will be calculated with `get_expected_cost(2, 1, True)`.\n",
    "\n",
    "Remember you can always get a hint by uncommenting `q3.hint()` in the code cell following the next!"
   ]
  },
  {
   "cell_type": "code",
   "execution_count": 7,
   "id": "0c794f33",
   "metadata": {
    "execution": {
     "iopub.execute_input": "2023-08-27T07:48:46.652686Z",
     "iopub.status.busy": "2023-08-27T07:48:46.651968Z",
     "iopub.status.idle": "2023-08-27T07:48:46.661416Z",
     "shell.execute_reply": "2023-08-27T07:48:46.660574Z"
    },
    "papermill": {
     "duration": 0.022242,
     "end_time": "2023-08-27T07:48:46.663578",
     "exception": false,
     "start_time": "2023-08-27T07:48:46.641336",
     "status": "completed"
    },
    "tags": []
   },
   "outputs": [
    {
     "data": {
      "application/javascript": [
       "parent.postMessage({\"jupyterEvent\": \"custom.exercise_interaction\", \"data\": {\"outcomeType\": 1, \"valueTowardsCompletion\": 0.2, \"interactionType\": 1, \"questionType\": 2, \"questionId\": \"3_EstimateHouseValueBool\", \"learnToolsVersion\": \"0.3.4\", \"failureMessage\": \"\", \"exceptionClass\": \"\", \"trace\": \"\"}}, \"*\")"
      ],
      "text/plain": [
       "<IPython.core.display.Javascript object>"
      ]
     },
     "metadata": {},
     "output_type": "display_data"
    },
    {
     "data": {
      "text/markdown": [
       "<span style=\"color:#33cc33\">Correct</span>"
      ],
      "text/plain": [
       "Correct"
      ]
     },
     "metadata": {},
     "output_type": "display_data"
    }
   ],
   "source": [
    "# TODO: Complete the function\n",
    "def get_expected_cost(beds, baths, has_basement):\n",
    "    value = 80000+30000*beds+10000*baths+40000*has_basement\n",
    "    return value\n",
    "\n",
    "# Check your answer \n",
    "q3.check()"
   ]
  },
  {
   "cell_type": "code",
   "execution_count": 8,
   "id": "c836b0b4",
   "metadata": {
    "execution": {
     "iopub.execute_input": "2023-08-27T07:48:46.685045Z",
     "iopub.status.busy": "2023-08-27T07:48:46.684406Z",
     "iopub.status.idle": "2023-08-27T07:48:46.688635Z",
     "shell.execute_reply": "2023-08-27T07:48:46.687917Z"
    },
    "papermill": {
     "duration": 0.017414,
     "end_time": "2023-08-27T07:48:46.690772",
     "exception": false,
     "start_time": "2023-08-27T07:48:46.673358",
     "status": "completed"
    },
    "tags": []
   },
   "outputs": [],
   "source": [
    "# Uncomment to see a hint\n",
    "#q3.hint()\n",
    "\n",
    "# Uncomment to view the solution\n",
    "#q3.solution()"
   ]
  },
  {
   "cell_type": "markdown",
   "id": "41b4f1dc",
   "metadata": {
    "papermill": {
     "duration": 0.009271,
     "end_time": "2023-08-27T07:48:46.709642",
     "exception": false,
     "start_time": "2023-08-27T07:48:46.700371",
     "status": "completed"
    },
    "tags": []
   },
   "source": [
    "# Question 4\n",
    "\n",
    "We'll continue our study of boolean arithmetic.  For this question, your task is to provide a description of what happpens when you add booleans. \n",
    "\n",
    "Use the next code cell for your investigation.  Feel free to add or remove any lines of code - use it as your workspace!"
   ]
  },
  {
   "cell_type": "code",
   "execution_count": 9,
   "id": "5bfee107",
   "metadata": {
    "execution": {
     "iopub.execute_input": "2023-08-27T07:48:46.731000Z",
     "iopub.status.busy": "2023-08-27T07:48:46.730333Z",
     "iopub.status.idle": "2023-08-27T07:48:46.736709Z",
     "shell.execute_reply": "2023-08-27T07:48:46.735572Z"
    },
    "papermill": {
     "duration": 0.019672,
     "end_time": "2023-08-27T07:48:46.739036",
     "exception": false,
     "start_time": "2023-08-27T07:48:46.719364",
     "status": "completed"
    },
    "tags": []
   },
   "outputs": [
    {
     "name": "stdout",
     "output_type": "stream",
     "text": [
      "0\n",
      "1\n",
      "1\n",
      "2\n",
      "3\n"
     ]
    }
   ],
   "source": [
    "print(False + False)\n",
    "print(True + False)\n",
    "print(False + True)\n",
    "print(True + True)\n",
    "print(False + True + True + True)"
   ]
  },
  {
   "cell_type": "markdown",
   "id": "06ad48dc",
   "metadata": {
    "papermill": {
     "duration": 0.009377,
     "end_time": "2023-08-27T07:48:46.757978",
     "exception": false,
     "start_time": "2023-08-27T07:48:46.748601",
     "status": "completed"
    },
    "tags": []
   },
   "source": [
    "Once you have an answer, run the code cell below to see the solution.  Viewing the solution will give you credit for answering the problem."
   ]
  },
  {
   "cell_type": "code",
   "execution_count": 10,
   "id": "5e855e18",
   "metadata": {
    "execution": {
     "iopub.execute_input": "2023-08-27T07:48:46.778234Z",
     "iopub.status.busy": "2023-08-27T07:48:46.777811Z",
     "iopub.status.idle": "2023-08-27T07:48:46.786261Z",
     "shell.execute_reply": "2023-08-27T07:48:46.785258Z"
    },
    "papermill": {
     "duration": 0.020919,
     "end_time": "2023-08-27T07:48:46.788379",
     "exception": false,
     "start_time": "2023-08-27T07:48:46.767460",
     "status": "completed"
    },
    "tags": []
   },
   "outputs": [
    {
     "data": {
      "application/javascript": [
       "parent.postMessage({\"jupyterEvent\": \"custom.exercise_interaction\", \"data\": {\"outcomeType\": 1, \"valueTowardsCompletion\": 0.2, \"interactionType\": 1, \"questionType\": 4, \"questionId\": \"4_AddingBooleans\", \"learnToolsVersion\": \"0.3.4\", \"failureMessage\": \"\", \"exceptionClass\": \"\", \"trace\": \"\"}}, \"*\")"
      ],
      "text/plain": [
       "<IPython.core.display.Javascript object>"
      ]
     },
     "metadata": {},
     "output_type": "display_data"
    },
    {
     "data": {
      "text/markdown": [
       "<span style=\"color:#33cc33\">Correct:</span> \n",
       "\n",
       "When you add booleans, adding `False` is equivalent to adding 0, and adding `True` is equivalent to adding 1."
      ],
      "text/plain": [
       "Correct: \n",
       "\n",
       "When you add booleans, adding `False` is equivalent to adding 0, and adding `True` is equivalent to adding 1."
      ]
     },
     "metadata": {},
     "output_type": "display_data"
    }
   ],
   "source": [
    "# Check your answer (Run this code cell to receive credit!)\n",
    "q4.check()"
   ]
  },
  {
   "cell_type": "markdown",
   "id": "d5c5a4cb",
   "metadata": {
    "papermill": {
     "duration": 0.009341,
     "end_time": "2023-08-27T07:48:46.807217",
     "exception": false,
     "start_time": "2023-08-27T07:48:46.797876",
     "status": "completed"
    },
    "tags": []
   },
   "source": [
    "# 🌶️ Question 5\n",
    "\n",
    "You own an online shop where you sell rings with custom engravings.  You offer both gold plated and solid gold rings.\n",
    "- Gold plated rings have a base cost of \\\\$50, and you charge \\\\$7 per engraved unit.  \n",
    "- Solid gold rings have a base cost of \\\\$100, and you charge \\\\$10 per engraved unit.\n",
    "- Spaces and punctuation are counted as engraved units.\n",
    "\n",
    "Write a function `cost_of_project()` that takes two arguments:\n",
    "- `engraving` - a Python string with the text of the engraving\n",
    "- `solid_gold` - a Boolean that indicates whether the ring is solid gold\n",
    "\n",
    "It should return the cost of the project.  This question should be fairly challenging, and you may need a hint."
   ]
  },
  {
   "cell_type": "code",
   "execution_count": 11,
   "id": "9019302b",
   "metadata": {
    "execution": {
     "iopub.execute_input": "2023-08-27T07:48:46.827799Z",
     "iopub.status.busy": "2023-08-27T07:48:46.827430Z",
     "iopub.status.idle": "2023-08-27T07:48:46.837069Z",
     "shell.execute_reply": "2023-08-27T07:48:46.836014Z"
    },
    "papermill": {
     "duration": 0.022555,
     "end_time": "2023-08-27T07:48:46.839214",
     "exception": false,
     "start_time": "2023-08-27T07:48:46.816659",
     "status": "completed"
    },
    "tags": []
   },
   "outputs": [
    {
     "data": {
      "application/javascript": [
       "parent.postMessage({\"jupyterEvent\": \"custom.exercise_interaction\", \"data\": {\"outcomeType\": 1, \"valueTowardsCompletion\": 0.2, \"interactionType\": 1, \"questionType\": 2, \"questionId\": \"5_CustomEngravings\", \"learnToolsVersion\": \"0.3.4\", \"failureMessage\": \"\", \"exceptionClass\": \"\", \"trace\": \"\"}}, \"*\")"
      ],
      "text/plain": [
       "<IPython.core.display.Javascript object>"
      ]
     },
     "metadata": {},
     "output_type": "display_data"
    },
    {
     "data": {
      "text/markdown": [
       "<span style=\"color:#33cc33\">Correct</span>"
      ],
      "text/plain": [
       "Correct"
      ]
     },
     "metadata": {},
     "output_type": "display_data"
    }
   ],
   "source": [
    "def cost_of_project(engraving, solid_gold):\n",
    "    cost = solid_gold * (100 + 10 * len(engraving)) + (not solid_gold) * (50 + 7 * len(engraving))\n",
    "    return cost\n",
    "\n",
    "# Check your answer\n",
    "q5.check()"
   ]
  },
  {
   "cell_type": "code",
   "execution_count": 12,
   "id": "1647b765",
   "metadata": {
    "execution": {
     "iopub.execute_input": "2023-08-27T07:48:46.861328Z",
     "iopub.status.busy": "2023-08-27T07:48:46.860219Z",
     "iopub.status.idle": "2023-08-27T07:48:46.867459Z",
     "shell.execute_reply": "2023-08-27T07:48:46.866802Z"
    },
    "papermill": {
     "duration": 0.020099,
     "end_time": "2023-08-27T07:48:46.869332",
     "exception": false,
     "start_time": "2023-08-27T07:48:46.849233",
     "status": "completed"
    },
    "tags": []
   },
   "outputs": [
    {
     "data": {
      "application/javascript": [
       "parent.postMessage({\"jupyterEvent\": \"custom.exercise_interaction\", \"data\": {\"interactionType\": 3, \"questionType\": 2, \"questionId\": \"5_CustomEngravings\", \"learnToolsVersion\": \"0.3.4\", \"valueTowardsCompletion\": 0.0, \"failureMessage\": \"\", \"exceptionClass\": \"\", \"trace\": \"\", \"outcomeType\": 4}}, \"*\")"
      ],
      "text/plain": [
       "<IPython.core.display.Javascript object>"
      ]
     },
     "metadata": {},
     "output_type": "display_data"
    },
    {
     "data": {
      "text/markdown": [
       "<span style=\"color:#33cc99\">Solution:</span> \n",
       "```python\n",
       "def cost_of_project(engraving, solid_gold):\n",
       "    cost = solid_gold * (100 + 10 * len(engraving)) + (not solid_gold) * (50 + 7 * len(engraving))\n",
       "    return cost\n",
       "\n",
       "```"
      ],
      "text/plain": [
       "Solution: \n",
       "```python\n",
       "def cost_of_project(engraving, solid_gold):\n",
       "    cost = solid_gold * (100 + 10 * len(engraving)) + (not solid_gold) * (50 + 7 * len(engraving))\n",
       "    return cost\n",
       "\n",
       "```"
      ]
     },
     "metadata": {},
     "output_type": "display_data"
    }
   ],
   "source": [
    "# Uncomment to see a hint\n",
    "#q5.hint()\n",
    "\n",
    "# Uncomment to view the solution\n",
    "q5.solution()"
   ]
  },
  {
   "cell_type": "markdown",
   "id": "cee6cabc",
   "metadata": {
    "papermill": {
     "duration": 0.009735,
     "end_time": "2023-08-27T07:48:46.889249",
     "exception": false,
     "start_time": "2023-08-27T07:48:46.879514",
     "status": "completed"
    },
    "tags": []
   },
   "source": [
    "Run the next code cell to calculate the cost of engraving `Charlie+Denver` on a solid gold ring."
   ]
  },
  {
   "cell_type": "code",
   "execution_count": 13,
   "id": "2860ac36",
   "metadata": {
    "execution": {
     "iopub.execute_input": "2023-08-27T07:48:46.911201Z",
     "iopub.status.busy": "2023-08-27T07:48:46.910667Z",
     "iopub.status.idle": "2023-08-27T07:48:46.915512Z",
     "shell.execute_reply": "2023-08-27T07:48:46.914610Z"
    },
    "papermill": {
     "duration": 0.018289,
     "end_time": "2023-08-27T07:48:46.917591",
     "exception": false,
     "start_time": "2023-08-27T07:48:46.899302",
     "status": "completed"
    },
    "tags": []
   },
   "outputs": [
    {
     "name": "stdout",
     "output_type": "stream",
     "text": [
      "240\n"
     ]
    }
   ],
   "source": [
    "project_one = cost_of_project(\"Charlie+Denver\", True)\n",
    "print(project_one)"
   ]
  },
  {
   "cell_type": "markdown",
   "id": "71481390",
   "metadata": {
    "papermill": {
     "duration": 0.009699,
     "end_time": "2023-08-27T07:48:46.937843",
     "exception": false,
     "start_time": "2023-08-27T07:48:46.928144",
     "status": "completed"
    },
    "tags": []
   },
   "source": [
    "Use the next code cell to calculate the cost of engraving `08/10/2000` on a gold plated ring."
   ]
  },
  {
   "cell_type": "code",
   "execution_count": 14,
   "id": "9b0e10ef",
   "metadata": {
    "execution": {
     "iopub.execute_input": "2023-08-27T07:48:46.961404Z",
     "iopub.status.busy": "2023-08-27T07:48:46.960540Z",
     "iopub.status.idle": "2023-08-27T07:48:46.965809Z",
     "shell.execute_reply": "2023-08-27T07:48:46.964982Z"
    },
    "papermill": {
     "duration": 0.019735,
     "end_time": "2023-08-27T07:48:46.968209",
     "exception": false,
     "start_time": "2023-08-27T07:48:46.948474",
     "status": "completed"
    },
    "tags": []
   },
   "outputs": [
    {
     "name": "stdout",
     "output_type": "stream",
     "text": [
      "120\n"
     ]
    }
   ],
   "source": [
    "project_two = cost_of_project(\"08/10/2000\", False)\n",
    "print(project_two)"
   ]
  },
  {
   "cell_type": "markdown",
   "id": "56176d92",
   "metadata": {
    "papermill": {
     "duration": 0.010363,
     "end_time": "2023-08-27T07:48:46.989075",
     "exception": false,
     "start_time": "2023-08-27T07:48:46.978712",
     "status": "completed"
    },
    "tags": []
   },
   "source": [
    "# Keep going\n",
    "\n",
    "Continue to the next lesson to **[learn about conditions and conditional statements](https://www.kaggle.com/alexisbcook/conditions-and-conditional-statements)**."
   ]
  },
  {
   "cell_type": "markdown",
   "id": "5572234d",
   "metadata": {
    "papermill": {
     "duration": 0.010362,
     "end_time": "2023-08-27T07:48:47.009958",
     "exception": false,
     "start_time": "2023-08-27T07:48:46.999596",
     "status": "completed"
    },
    "tags": []
   },
   "source": [
    "---\n",
    "\n",
    "\n",
    "\n",
    "\n",
    "*Have questions or comments? Visit the [course discussion forum](https://www.kaggle.com/learn/intro-to-programming/discussion) to chat with other learners.*"
   ]
  }
 ],
 "metadata": {
  "kernelspec": {
   "display_name": "Python 3",
   "language": "python",
   "name": "python3"
  },
  "language_info": {
   "codemirror_mode": {
    "name": "ipython",
    "version": 3
   },
   "file_extension": ".py",
   "mimetype": "text/x-python",
   "name": "python",
   "nbconvert_exporter": "python",
   "pygments_lexer": "ipython3",
   "version": "3.10.12"
  },
  "papermill": {
   "default_parameters": {},
   "duration": 11.951778,
   "end_time": "2023-08-27T07:48:47.841636",
   "environment_variables": {},
   "exception": null,
   "input_path": "__notebook__.ipynb",
   "output_path": "__notebook__.ipynb",
   "parameters": {},
   "start_time": "2023-08-27T07:48:35.889858",
   "version": "2.4.0"
  }
 },
 "nbformat": 4,
 "nbformat_minor": 5
}
