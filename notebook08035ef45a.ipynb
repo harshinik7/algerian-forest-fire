{
 "cells": [
  {
   "cell_type": "code",
   "execution_count": 1,
   "id": "912ac1ab",
   "metadata": {
    "_cell_guid": "b1076dfc-b9ad-4769-8c92-a6c4dae69d19",
    "_uuid": "8f2839f25d086af736a60e9eeb907d3b93b6e0e5",
    "execution": {
     "iopub.execute_input": "2023-07-27T03:58:57.422511Z",
     "iopub.status.busy": "2023-07-27T03:58:57.421577Z",
     "iopub.status.idle": "2023-07-27T03:58:57.444447Z",
     "shell.execute_reply": "2023-07-27T03:58:57.443479Z"
    },
    "papermill": {
     "duration": 0.030784,
     "end_time": "2023-07-27T03:58:57.446553",
     "exception": false,
     "start_time": "2023-07-27T03:58:57.415769",
     "status": "completed"
    },
    "tags": []
   },
   "outputs": [
    {
     "name": "stdout",
     "output_type": "stream",
     "text": [
      "/kaggle/input/algerian-forest-fires-dataset/Algerian_forest_fires_dataset.csv\n"
     ]
    }
   ],
   "source": [
    "# This Python 3 environment comes with many helpful analytics libraries installed\n",
    "# It is defined by the kaggle/python Docker image: https://github.com/kaggle/docker-python\n",
    "# For example, here's several helpful packages to load\n",
    "\n",
    "import numpy as np # linear algebra\n",
    "import pandas as pd # data processing, CSV file I/O (e.g. pd.read_csv)\n",
    "\n",
    "# Input data files are available in the read-only \"../input/\" directory\n",
    "# For example, running this (by clicking run or pressing Shift+Enter) will list all files under the input directory\n",
    "\n",
    "import os\n",
    "for dirname, _, filenames in os.walk('/kaggle/input'):\n",
    "    for filename in filenames:\n",
    "        print(os.path.join(dirname, filename))\n",
    "\n",
    "# You can write up to 20GB to the current directory (/kaggle/working/) that gets preserved as output when you create a version using \"Save & Run All\" \n",
    "# You can also write temporary files to /kaggle/temp/, but they won't be saved outside of the current session"
   ]
  },
  {
   "cell_type": "code",
   "execution_count": 2,
   "id": "5fc72eb9",
   "metadata": {
    "execution": {
     "iopub.execute_input": "2023-07-27T03:58:57.453599Z",
     "iopub.status.busy": "2023-07-27T03:58:57.452651Z",
     "iopub.status.idle": "2023-07-27T03:58:58.818767Z",
     "shell.execute_reply": "2023-07-27T03:58:58.817705Z"
    },
    "papermill": {
     "duration": 1.372076,
     "end_time": "2023-07-27T03:58:58.821225",
     "exception": false,
     "start_time": "2023-07-27T03:58:57.449149",
     "status": "completed"
    },
    "tags": []
   },
   "outputs": [
    {
     "name": "stderr",
     "output_type": "stream",
     "text": [
      "/opt/conda/lib/python3.10/site-packages/scipy/__init__.py:146: UserWarning: A NumPy version >=1.16.5 and <1.23.0 is required for this version of SciPy (detected version 1.23.5\n",
      "  warnings.warn(f\"A NumPy version >={np_minversion} and <{np_maxversion}\"\n"
     ]
    }
   ],
   "source": [
    "import pandas as pd\n",
    "import numpy as np\n",
    "import seaborn as sns\n",
    "import matplotlib.pyplot as plt \n",
    "import warnings \n",
    "warnings.filterwarnings(\"ignore\")\n",
    "%matplotlib inline"
   ]
  },
  {
   "cell_type": "code",
   "execution_count": 3,
   "id": "e4bef830",
   "metadata": {
    "execution": {
     "iopub.execute_input": "2023-07-27T03:58:58.829449Z",
     "iopub.status.busy": "2023-07-27T03:58:58.827618Z",
     "iopub.status.idle": "2023-07-27T03:58:58.865672Z",
     "shell.execute_reply": "2023-07-27T03:58:58.864898Z"
    },
    "papermill": {
     "duration": 0.043986,
     "end_time": "2023-07-27T03:58:58.867819",
     "exception": false,
     "start_time": "2023-07-27T03:58:58.823833",
     "status": "completed"
    },
    "tags": []
   },
   "outputs": [
    {
     "data": {
      "text/html": [
       "<div>\n",
       "<style scoped>\n",
       "    .dataframe tbody tr th:only-of-type {\n",
       "        vertical-align: middle;\n",
       "    }\n",
       "\n",
       "    .dataframe tbody tr th {\n",
       "        vertical-align: top;\n",
       "    }\n",
       "\n",
       "    .dataframe thead th {\n",
       "        text-align: right;\n",
       "    }\n",
       "</style>\n",
       "<table border=\"1\" class=\"dataframe\">\n",
       "  <thead>\n",
       "    <tr style=\"text-align: right;\">\n",
       "      <th></th>\n",
       "      <th>1</th>\n",
       "      <th>6</th>\n",
       "      <th>2012</th>\n",
       "      <th>29</th>\n",
       "      <th>57</th>\n",
       "      <th>18</th>\n",
       "      <th>0</th>\n",
       "      <th>65.7</th>\n",
       "      <th>3.4</th>\n",
       "      <th>7.6</th>\n",
       "      <th>1.3</th>\n",
       "      <th>3.4.1</th>\n",
       "      <th>0.5</th>\n",
       "      <th>not fire</th>\n",
       "    </tr>\n",
       "  </thead>\n",
       "  <tbody>\n",
       "    <tr>\n",
       "      <th>0</th>\n",
       "      <td>2</td>\n",
       "      <td>6</td>\n",
       "      <td>2012</td>\n",
       "      <td>29</td>\n",
       "      <td>61</td>\n",
       "      <td>13</td>\n",
       "      <td>1.3</td>\n",
       "      <td>64.4</td>\n",
       "      <td>4.1</td>\n",
       "      <td>7.6</td>\n",
       "      <td>1</td>\n",
       "      <td>3.9</td>\n",
       "      <td>0.4</td>\n",
       "      <td>not fire</td>\n",
       "    </tr>\n",
       "    <tr>\n",
       "      <th>1</th>\n",
       "      <td>3</td>\n",
       "      <td>6</td>\n",
       "      <td>2012</td>\n",
       "      <td>26</td>\n",
       "      <td>82</td>\n",
       "      <td>22</td>\n",
       "      <td>13.1</td>\n",
       "      <td>47.1</td>\n",
       "      <td>2.5</td>\n",
       "      <td>7.1</td>\n",
       "      <td>0.3</td>\n",
       "      <td>2.7</td>\n",
       "      <td>0.1</td>\n",
       "      <td>not fire</td>\n",
       "    </tr>\n",
       "    <tr>\n",
       "      <th>2</th>\n",
       "      <td>4</td>\n",
       "      <td>6</td>\n",
       "      <td>2012</td>\n",
       "      <td>25</td>\n",
       "      <td>89</td>\n",
       "      <td>13</td>\n",
       "      <td>2.5</td>\n",
       "      <td>28.6</td>\n",
       "      <td>1.3</td>\n",
       "      <td>6.9</td>\n",
       "      <td>0</td>\n",
       "      <td>1.7</td>\n",
       "      <td>0</td>\n",
       "      <td>not fire</td>\n",
       "    </tr>\n",
       "    <tr>\n",
       "      <th>3</th>\n",
       "      <td>5</td>\n",
       "      <td>6</td>\n",
       "      <td>2012</td>\n",
       "      <td>27</td>\n",
       "      <td>77</td>\n",
       "      <td>16</td>\n",
       "      <td>0</td>\n",
       "      <td>64.8</td>\n",
       "      <td>3</td>\n",
       "      <td>14.2</td>\n",
       "      <td>1.2</td>\n",
       "      <td>3.9</td>\n",
       "      <td>0.5</td>\n",
       "      <td>not fire</td>\n",
       "    </tr>\n",
       "    <tr>\n",
       "      <th>4</th>\n",
       "      <td>6</td>\n",
       "      <td>6</td>\n",
       "      <td>2012</td>\n",
       "      <td>31</td>\n",
       "      <td>67</td>\n",
       "      <td>14</td>\n",
       "      <td>0</td>\n",
       "      <td>82.6</td>\n",
       "      <td>5.8</td>\n",
       "      <td>22.2</td>\n",
       "      <td>3.1</td>\n",
       "      <td>7</td>\n",
       "      <td>2.5</td>\n",
       "      <td>fire</td>\n",
       "    </tr>\n",
       "  </tbody>\n",
       "</table>\n",
       "</div>"
      ],
      "text/plain": [
       "   1  6  2012  29  57  18     0  65.7  3.4   7.6  1.3 3.4.1  0.5  not fire   \n",
       "0  2  6  2012  29  61  13   1.3  64.4  4.1   7.6    1   3.9  0.4  not fire   \n",
       "1  3  6  2012  26  82  22  13.1  47.1  2.5   7.1  0.3   2.7  0.1  not fire   \n",
       "2  4  6  2012  25  89  13   2.5  28.6  1.3   6.9    0   1.7    0  not fire   \n",
       "3  5  6  2012  27  77  16     0  64.8    3  14.2  1.2   3.9  0.5  not fire   \n",
       "4  6  6  2012  31  67  14     0  82.6  5.8  22.2  3.1     7  2.5      fire   "
      ]
     },
     "execution_count": 3,
     "metadata": {},
     "output_type": "execute_result"
    }
   ],
   "source": [
    "df = pd.read_csv(r\"/kaggle/input/algerian-forest-fires-dataset/Algerian_forest_fires_dataset.csv\",header=1) \n",
    "df.head()"
   ]
  },
  {
   "cell_type": "code",
   "execution_count": 4,
   "id": "7ec198af",
   "metadata": {
    "execution": {
     "iopub.execute_input": "2023-07-27T03:58:58.875342Z",
     "iopub.status.busy": "2023-07-27T03:58:58.874705Z",
     "iopub.status.idle": "2023-07-27T03:58:58.887761Z",
     "shell.execute_reply": "2023-07-27T03:58:58.887000Z"
    },
    "papermill": {
     "duration": 0.019271,
     "end_time": "2023-07-27T03:58:58.889953",
     "exception": false,
     "start_time": "2023-07-27T03:58:58.870682",
     "status": "completed"
    },
    "tags": []
   },
   "outputs": [],
   "source": [
    "df.drop([122,123],inplace=True) \n",
    "df.reset_index(inplace=True) \n",
    "df.drop('index',axis=1,inplace=True)"
   ]
  },
  {
   "cell_type": "code",
   "execution_count": 5,
   "id": "94d11638",
   "metadata": {
    "execution": {
     "iopub.execute_input": "2023-07-27T03:58:58.896979Z",
     "iopub.status.busy": "2023-07-27T03:58:58.896628Z",
     "iopub.status.idle": "2023-07-27T03:58:58.902686Z",
     "shell.execute_reply": "2023-07-27T03:58:58.901689Z"
    },
    "papermill": {
     "duration": 0.01188,
     "end_time": "2023-07-27T03:58:58.904805",
     "exception": false,
     "start_time": "2023-07-27T03:58:58.892925",
     "status": "completed"
    },
    "tags": []
   },
   "outputs": [],
   "source": [
    "df.loc[:122, 'region'] = 'bejaia' \n",
    "df.loc[122:, 'region'] = 'Sidi-Bel Abbes'"
   ]
  },
  {
   "cell_type": "code",
   "execution_count": 6,
   "id": "cdc82c76",
   "metadata": {
    "execution": {
     "iopub.execute_input": "2023-07-27T03:58:58.911983Z",
     "iopub.status.busy": "2023-07-27T03:58:58.911570Z",
     "iopub.status.idle": "2023-07-27T03:58:58.919367Z",
     "shell.execute_reply": "2023-07-27T03:58:58.918258Z"
    },
    "papermill": {
     "duration": 0.014197,
     "end_time": "2023-07-27T03:58:58.921825",
     "exception": false,
     "start_time": "2023-07-27T03:58:58.907628",
     "status": "completed"
    },
    "tags": []
   },
   "outputs": [
    {
     "data": {
      "text/plain": [
       "Index(['1', '6', '2012', '29', '57', '18', '0', '65.7', '3.4', '7.6', '1.3',\n",
       "       '3.4.1', '0.5', 'not fire', 'region'],\n",
       "      dtype='object')"
      ]
     },
     "execution_count": 6,
     "metadata": {},
     "output_type": "execute_result"
    }
   ],
   "source": [
    "df.columns = [i.strip() for i in df.columns] \n",
    "df.columns"
   ]
  }
 ],
 "metadata": {
  "kernelspec": {
   "display_name": "Python 3",
   "language": "python",
   "name": "python3"
  },
  "language_info": {
   "codemirror_mode": {
    "name": "ipython",
    "version": 3
   },
   "file_extension": ".py",
   "mimetype": "text/x-python",
   "name": "python",
   "nbconvert_exporter": "python",
   "pygments_lexer": "ipython3",
   "version": "3.10.12"
  },
  "papermill": {
   "default_parameters": {},
   "duration": 11.869197,
   "end_time": "2023-07-27T03:58:59.848153",
   "environment_variables": {},
   "exception": null,
   "input_path": "__notebook__.ipynb",
   "output_path": "__notebook__.ipynb",
   "parameters": {},
   "start_time": "2023-07-27T03:58:47.978956",
   "version": "2.4.0"
  }
 },
 "nbformat": 4,
 "nbformat_minor": 5
}
