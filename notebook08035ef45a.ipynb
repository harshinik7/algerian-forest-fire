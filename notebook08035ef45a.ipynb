{
 "cells": [
  {
   "cell_type": "code",
   "execution_count": 1,
   "id": "ecc681b3",
   "metadata": {
    "execution": {
     "iopub.execute_input": "2023-07-27T06:49:46.880786Z",
     "iopub.status.busy": "2023-07-27T06:49:46.879484Z",
     "iopub.status.idle": "2023-07-27T06:49:48.538249Z",
     "shell.execute_reply": "2023-07-27T06:49:48.537035Z"
    },
    "papermill": {
     "duration": 1.66694,
     "end_time": "2023-07-27T06:49:48.541160",
     "exception": false,
     "start_time": "2023-07-27T06:49:46.874220",
     "status": "completed"
    },
    "tags": []
   },
   "outputs": [
    {
     "name": "stderr",
     "output_type": "stream",
     "text": [
      "/opt/conda/lib/python3.10/site-packages/scipy/__init__.py:146: UserWarning: A NumPy version >=1.16.5 and <1.23.0 is required for this version of SciPy (detected version 1.23.5\n",
      "  warnings.warn(f\"A NumPy version >={np_minversion} and <{np_maxversion}\"\n"
     ]
    }
   ],
   "source": [
    "import pandas as pd\n",
    "import numpy as np\n",
    "import seaborn as sns\n",
    "import matplotlib.pyplot as plt \n",
    "import warnings \n",
    "warnings.filterwarnings(\"ignore\")\n",
    "%matplotlib inline"
   ]
  },
  {
   "cell_type": "code",
   "execution_count": 2,
   "id": "4e662c23",
   "metadata": {
    "execution": {
     "iopub.execute_input": "2023-07-27T06:49:48.549760Z",
     "iopub.status.busy": "2023-07-27T06:49:48.548696Z",
     "iopub.status.idle": "2023-07-27T06:49:48.610469Z",
     "shell.execute_reply": "2023-07-27T06:49:48.609227Z"
    },
    "papermill": {
     "duration": 0.068865,
     "end_time": "2023-07-27T06:49:48.613303",
     "exception": false,
     "start_time": "2023-07-27T06:49:48.544438",
     "status": "completed"
    },
    "tags": []
   },
   "outputs": [
    {
     "data": {
      "text/html": [
       "<div>\n",
       "<style scoped>\n",
       "    .dataframe tbody tr th:only-of-type {\n",
       "        vertical-align: middle;\n",
       "    }\n",
       "\n",
       "    .dataframe tbody tr th {\n",
       "        vertical-align: top;\n",
       "    }\n",
       "\n",
       "    .dataframe thead th {\n",
       "        text-align: right;\n",
       "    }\n",
       "</style>\n",
       "<table border=\"1\" class=\"dataframe\">\n",
       "  <thead>\n",
       "    <tr style=\"text-align: right;\">\n",
       "      <th></th>\n",
       "      <th>1</th>\n",
       "      <th>6</th>\n",
       "      <th>2012</th>\n",
       "      <th>29</th>\n",
       "      <th>57</th>\n",
       "      <th>18</th>\n",
       "      <th>0</th>\n",
       "      <th>65.7</th>\n",
       "      <th>3.4</th>\n",
       "      <th>7.6</th>\n",
       "      <th>1.3</th>\n",
       "      <th>3.4.1</th>\n",
       "      <th>0.5</th>\n",
       "      <th>not fire</th>\n",
       "    </tr>\n",
       "  </thead>\n",
       "  <tbody>\n",
       "    <tr>\n",
       "      <th>0</th>\n",
       "      <td>2</td>\n",
       "      <td>6</td>\n",
       "      <td>2012</td>\n",
       "      <td>29</td>\n",
       "      <td>61</td>\n",
       "      <td>13</td>\n",
       "      <td>1.3</td>\n",
       "      <td>64.4</td>\n",
       "      <td>4.1</td>\n",
       "      <td>7.6</td>\n",
       "      <td>1</td>\n",
       "      <td>3.9</td>\n",
       "      <td>0.4</td>\n",
       "      <td>not fire</td>\n",
       "    </tr>\n",
       "    <tr>\n",
       "      <th>1</th>\n",
       "      <td>3</td>\n",
       "      <td>6</td>\n",
       "      <td>2012</td>\n",
       "      <td>26</td>\n",
       "      <td>82</td>\n",
       "      <td>22</td>\n",
       "      <td>13.1</td>\n",
       "      <td>47.1</td>\n",
       "      <td>2.5</td>\n",
       "      <td>7.1</td>\n",
       "      <td>0.3</td>\n",
       "      <td>2.7</td>\n",
       "      <td>0.1</td>\n",
       "      <td>not fire</td>\n",
       "    </tr>\n",
       "    <tr>\n",
       "      <th>2</th>\n",
       "      <td>4</td>\n",
       "      <td>6</td>\n",
       "      <td>2012</td>\n",
       "      <td>25</td>\n",
       "      <td>89</td>\n",
       "      <td>13</td>\n",
       "      <td>2.5</td>\n",
       "      <td>28.6</td>\n",
       "      <td>1.3</td>\n",
       "      <td>6.9</td>\n",
       "      <td>0</td>\n",
       "      <td>1.7</td>\n",
       "      <td>0</td>\n",
       "      <td>not fire</td>\n",
       "    </tr>\n",
       "    <tr>\n",
       "      <th>3</th>\n",
       "      <td>5</td>\n",
       "      <td>6</td>\n",
       "      <td>2012</td>\n",
       "      <td>27</td>\n",
       "      <td>77</td>\n",
       "      <td>16</td>\n",
       "      <td>0</td>\n",
       "      <td>64.8</td>\n",
       "      <td>3</td>\n",
       "      <td>14.2</td>\n",
       "      <td>1.2</td>\n",
       "      <td>3.9</td>\n",
       "      <td>0.5</td>\n",
       "      <td>not fire</td>\n",
       "    </tr>\n",
       "    <tr>\n",
       "      <th>4</th>\n",
       "      <td>6</td>\n",
       "      <td>6</td>\n",
       "      <td>2012</td>\n",
       "      <td>31</td>\n",
       "      <td>67</td>\n",
       "      <td>14</td>\n",
       "      <td>0</td>\n",
       "      <td>82.6</td>\n",
       "      <td>5.8</td>\n",
       "      <td>22.2</td>\n",
       "      <td>3.1</td>\n",
       "      <td>7</td>\n",
       "      <td>2.5</td>\n",
       "      <td>fire</td>\n",
       "    </tr>\n",
       "  </tbody>\n",
       "</table>\n",
       "</div>"
      ],
      "text/plain": [
       "   1  6  2012  29  57  18     0  65.7  3.4   7.6  1.3 3.4.1  0.5  not fire   \n",
       "0  2  6  2012  29  61  13   1.3  64.4  4.1   7.6    1   3.9  0.4  not fire   \n",
       "1  3  6  2012  26  82  22  13.1  47.1  2.5   7.1  0.3   2.7  0.1  not fire   \n",
       "2  4  6  2012  25  89  13   2.5  28.6  1.3   6.9    0   1.7    0  not fire   \n",
       "3  5  6  2012  27  77  16     0  64.8    3  14.2  1.2   3.9  0.5  not fire   \n",
       "4  6  6  2012  31  67  14     0  82.6  5.8  22.2  3.1     7  2.5      fire   "
      ]
     },
     "execution_count": 2,
     "metadata": {},
     "output_type": "execute_result"
    }
   ],
   "source": [
    "df = pd.read_csv(r\"/kaggle/input/algerian-forest-fires-dataset/Algerian_forest_fires_dataset.csv\",header=1) \n",
    "df.head()"
   ]
  },
  {
   "cell_type": "code",
   "execution_count": 3,
   "id": "c57fc5c4",
   "metadata": {
    "execution": {
     "iopub.execute_input": "2023-07-27T06:49:48.621888Z",
     "iopub.status.busy": "2023-07-27T06:49:48.621463Z",
     "iopub.status.idle": "2023-07-27T06:49:48.640539Z",
     "shell.execute_reply": "2023-07-27T06:49:48.639259Z"
    },
    "papermill": {
     "duration": 0.026677,
     "end_time": "2023-07-27T06:49:48.643371",
     "exception": false,
     "start_time": "2023-07-27T06:49:48.616694",
     "status": "completed"
    },
    "tags": []
   },
   "outputs": [],
   "source": [
    "df.drop([122,123],inplace=True) \n",
    "df.reset_index(inplace=True) \n",
    "df.drop('index',axis=1,inplace=True)"
   ]
  },
  {
   "cell_type": "code",
   "execution_count": 4,
   "id": "0881c062",
   "metadata": {
    "execution": {
     "iopub.execute_input": "2023-07-27T06:49:48.652405Z",
     "iopub.status.busy": "2023-07-27T06:49:48.651600Z",
     "iopub.status.idle": "2023-07-27T06:49:48.659060Z",
     "shell.execute_reply": "2023-07-27T06:49:48.657973Z"
    },
    "papermill": {
     "duration": 0.014876,
     "end_time": "2023-07-27T06:49:48.661698",
     "exception": false,
     "start_time": "2023-07-27T06:49:48.646822",
     "status": "completed"
    },
    "tags": []
   },
   "outputs": [],
   "source": [
    "df.loc[:122, 'region'] = 'bejaia' \n",
    "df.loc[122:, 'region'] = 'Sidi-Bel Abbes'"
   ]
  },
  {
   "cell_type": "code",
   "execution_count": 5,
   "id": "653ab9d6",
   "metadata": {
    "execution": {
     "iopub.execute_input": "2023-07-27T06:49:48.670499Z",
     "iopub.status.busy": "2023-07-27T06:49:48.670084Z",
     "iopub.status.idle": "2023-07-27T06:49:48.679379Z",
     "shell.execute_reply": "2023-07-27T06:49:48.678050Z"
    },
    "papermill": {
     "duration": 0.016756,
     "end_time": "2023-07-27T06:49:48.681956",
     "exception": false,
     "start_time": "2023-07-27T06:49:48.665200",
     "status": "completed"
    },
    "tags": []
   },
   "outputs": [
    {
     "data": {
      "text/plain": [
       "Index(['1', '6', '2012', '29', '57', '18', '0', '65.7', '3.4', '7.6', '1.3',\n",
       "       '3.4.1', '0.5', 'not fire', 'region'],\n",
       "      dtype='object')"
      ]
     },
     "execution_count": 5,
     "metadata": {},
     "output_type": "execute_result"
    }
   ],
   "source": [
    "df.columns = [i.strip() for i in df.columns] \n",
    "df.columns"
   ]
  }
 ],
 "metadata": {
  "kernelspec": {
   "display_name": "Python 3",
   "language": "python",
   "name": "python3"
  },
  "language_info": {
   "codemirror_mode": {
    "name": "ipython",
    "version": 3
   },
   "file_extension": ".py",
   "mimetype": "text/x-python",
   "name": "python",
   "nbconvert_exporter": "python",
   "pygments_lexer": "ipython3",
   "version": "3.10.12"
  },
  "papermill": {
   "default_parameters": {},
   "duration": 15.954853,
   "end_time": "2023-07-27T06:49:49.711261",
   "environment_variables": {},
   "exception": null,
   "input_path": "__notebook__.ipynb",
   "output_path": "__notebook__.ipynb",
   "parameters": {},
   "start_time": "2023-07-27T06:49:33.756408",
   "version": "2.4.0"
  }
 },
 "nbformat": 4,
 "nbformat_minor": 5
}
